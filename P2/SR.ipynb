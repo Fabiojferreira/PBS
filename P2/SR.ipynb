{
 "cells": [
  {
   "cell_type": "code",
   "execution_count": 8,
   "metadata": {},
   "outputs": [],
   "source": [
    "import pymysql\n",
    "\n",
    "cnx = pymysql.connect(user='pgbia20p2g06', password='@mysqlHKG6QY',\n",
    "                              host='10.126.209.159',\n",
    "                              database='nos')\n",
    "\n",
    "import pandas as pd\n",
    "tv = pd.read_sql(\"SELECT * FROM client_tv_data_eurekathon\", cnx);"
   ]
  },
  {
   "cell_type": "code",
   "execution_count": 9,
   "metadata": {},
   "outputs": [
    {
     "data": {
      "text/html": [
       "<div>\n",
       "<style scoped>\n",
       "    .dataframe tbody tr th:only-of-type {\n",
       "        vertical-align: middle;\n",
       "    }\n",
       "\n",
       "    .dataframe tbody tr th {\n",
       "        vertical-align: top;\n",
       "    }\n",
       "\n",
       "    .dataframe thead th {\n",
       "        text-align: right;\n",
       "    }\n",
       "</style>\n",
       "<table border=\"1\" class=\"dataframe\">\n",
       "  <thead>\n",
       "    <tr style=\"text-align: right;\">\n",
       "      <th></th>\n",
       "      <th>sa</th>\n",
       "      <th>subcategory_1</th>\n",
       "      <th>subcategory_2</th>\n",
       "      <th>subcategory_3</th>\n",
       "      <th>subcategory_4</th>\n",
       "      <th>subcategory_5</th>\n",
       "      <th>subcategory_6</th>\n",
       "      <th>subcategory_7</th>\n",
       "      <th>subcategory_8</th>\n",
       "      <th>subcategory_9</th>\n",
       "      <th>...</th>\n",
       "      <th>nr_seconds_seen_9h11h_bin</th>\n",
       "      <th>nr_seconds_seen_12h14h_bin</th>\n",
       "      <th>nr_seconds_seen_15h17h_bin</th>\n",
       "      <th>nr_seconds_seen_18h20h_bin</th>\n",
       "      <th>nr_seconds_seen_21h23h_bin</th>\n",
       "      <th>segment</th>\n",
       "      <th>package_type</th>\n",
       "      <th>gender</th>\n",
       "      <th>fiscal_num_bin</th>\n",
       "      <th>month_id</th>\n",
       "    </tr>\n",
       "  </thead>\n",
       "  <tbody>\n",
       "    <tr>\n",
       "      <th>0</th>\n",
       "      <td>FEE7FE50D98387956AA959602721781F</td>\n",
       "      <td>126</td>\n",
       "      <td>93.0</td>\n",
       "      <td>66.0</td>\n",
       "      <td>120.0</td>\n",
       "      <td>116.0</td>\n",
       "      <td>31.0</td>\n",
       "      <td>106.0</td>\n",
       "      <td>137.0</td>\n",
       "      <td>90.0</td>\n",
       "      <td>...</td>\n",
       "      <td>5</td>\n",
       "      <td>4</td>\n",
       "      <td>5</td>\n",
       "      <td>4</td>\n",
       "      <td>5</td>\n",
       "      <td>A</td>\n",
       "      <td>5P</td>\n",
       "      <td>1.0</td>\n",
       "      <td>1</td>\n",
       "      <td>202003</td>\n",
       "    </tr>\n",
       "    <tr>\n",
       "      <th>1</th>\n",
       "      <td>C93A87C67D139A7460BD80CCF18C1422</td>\n",
       "      <td>126</td>\n",
       "      <td>134.0</td>\n",
       "      <td>31.0</td>\n",
       "      <td>22.0</td>\n",
       "      <td>84.0</td>\n",
       "      <td>116.0</td>\n",
       "      <td>93.0</td>\n",
       "      <td>120.0</td>\n",
       "      <td>29.0</td>\n",
       "      <td>...</td>\n",
       "      <td>1</td>\n",
       "      <td>6</td>\n",
       "      <td>9</td>\n",
       "      <td>5</td>\n",
       "      <td>2</td>\n",
       "      <td>A</td>\n",
       "      <td>4P</td>\n",
       "      <td>0.0</td>\n",
       "      <td>3</td>\n",
       "      <td>202003</td>\n",
       "    </tr>\n",
       "    <tr>\n",
       "      <th>2</th>\n",
       "      <td>E68FC63E14BA6D8F58C8D37F414CE381</td>\n",
       "      <td>126</td>\n",
       "      <td>130.0</td>\n",
       "      <td>134.0</td>\n",
       "      <td>142.0</td>\n",
       "      <td>63.0</td>\n",
       "      <td>20.0</td>\n",
       "      <td>96.0</td>\n",
       "      <td>47.0</td>\n",
       "      <td>105.0</td>\n",
       "      <td>...</td>\n",
       "      <td>5</td>\n",
       "      <td>4</td>\n",
       "      <td>6</td>\n",
       "      <td>5</td>\n",
       "      <td>5</td>\n",
       "      <td>A</td>\n",
       "      <td>5P</td>\n",
       "      <td>1.0</td>\n",
       "      <td>4</td>\n",
       "      <td>202003</td>\n",
       "    </tr>\n",
       "    <tr>\n",
       "      <th>3</th>\n",
       "      <td>AA2B8E1C01A0173693FDED54D5129149</td>\n",
       "      <td>126</td>\n",
       "      <td>63.0</td>\n",
       "      <td>22.0</td>\n",
       "      <td>47.0</td>\n",
       "      <td>31.0</td>\n",
       "      <td>135.0</td>\n",
       "      <td>86.0</td>\n",
       "      <td>96.0</td>\n",
       "      <td>106.0</td>\n",
       "      <td>...</td>\n",
       "      <td>5</td>\n",
       "      <td>6</td>\n",
       "      <td>6</td>\n",
       "      <td>6</td>\n",
       "      <td>7</td>\n",
       "      <td>A</td>\n",
       "      <td>4P</td>\n",
       "      <td>0.0</td>\n",
       "      <td>1</td>\n",
       "      <td>202003</td>\n",
       "    </tr>\n",
       "    <tr>\n",
       "      <th>4</th>\n",
       "      <td>3F1752BF254A9509922193E006FC806A</td>\n",
       "      <td>126</td>\n",
       "      <td>78.0</td>\n",
       "      <td>86.0</td>\n",
       "      <td>63.0</td>\n",
       "      <td>128.0</td>\n",
       "      <td>120.0</td>\n",
       "      <td>61.0</td>\n",
       "      <td>31.0</td>\n",
       "      <td>116.0</td>\n",
       "      <td>...</td>\n",
       "      <td>8</td>\n",
       "      <td>9</td>\n",
       "      <td>10</td>\n",
       "      <td>10</td>\n",
       "      <td>6</td>\n",
       "      <td>A</td>\n",
       "      <td>3P</td>\n",
       "      <td>0.0</td>\n",
       "      <td>1</td>\n",
       "      <td>202003</td>\n",
       "    </tr>\n",
       "  </tbody>\n",
       "</table>\n",
       "<p>5 rows × 37 columns</p>\n",
       "</div>"
      ],
      "text/plain": [
       "                                 sa  subcategory_1  subcategory_2  \\\n",
       "0  FEE7FE50D98387956AA959602721781F            126           93.0   \n",
       "1  C93A87C67D139A7460BD80CCF18C1422            126          134.0   \n",
       "2  E68FC63E14BA6D8F58C8D37F414CE381            126          130.0   \n",
       "3  AA2B8E1C01A0173693FDED54D5129149            126           63.0   \n",
       "4  3F1752BF254A9509922193E006FC806A            126           78.0   \n",
       "\n",
       "   subcategory_3  subcategory_4  subcategory_5  subcategory_6  subcategory_7  \\\n",
       "0           66.0          120.0          116.0           31.0          106.0   \n",
       "1           31.0           22.0           84.0          116.0           93.0   \n",
       "2          134.0          142.0           63.0           20.0           96.0   \n",
       "3           22.0           47.0           31.0          135.0           86.0   \n",
       "4           86.0           63.0          128.0          120.0           61.0   \n",
       "\n",
       "   subcategory_8  subcategory_9  ...  nr_seconds_seen_9h11h_bin  \\\n",
       "0          137.0           90.0  ...                          5   \n",
       "1          120.0           29.0  ...                          1   \n",
       "2           47.0          105.0  ...                          5   \n",
       "3           96.0          106.0  ...                          5   \n",
       "4           31.0          116.0  ...                          8   \n",
       "\n",
       "   nr_seconds_seen_12h14h_bin  nr_seconds_seen_15h17h_bin  \\\n",
       "0                           4                           5   \n",
       "1                           6                           9   \n",
       "2                           4                           6   \n",
       "3                           6                           6   \n",
       "4                           9                          10   \n",
       "\n",
       "   nr_seconds_seen_18h20h_bin  nr_seconds_seen_21h23h_bin  segment  \\\n",
       "0                           4                           5        A   \n",
       "1                           5                           2        A   \n",
       "2                           5                           5        A   \n",
       "3                           6                           7        A   \n",
       "4                          10                           6        A   \n",
       "\n",
       "   package_type  gender  fiscal_num_bin  month_id  \n",
       "0            5P     1.0               1    202003  \n",
       "1            4P     0.0               3    202003  \n",
       "2            5P     1.0               4    202003  \n",
       "3            4P     0.0               1    202003  \n",
       "4            3P     0.0               1    202003  \n",
       "\n",
       "[5 rows x 37 columns]"
      ]
     },
     "execution_count": 9,
     "metadata": {},
     "output_type": "execute_result"
    }
   ],
   "source": [
    "tv.head()"
   ]
  },
  {
   "cell_type": "code",
   "execution_count": 10,
   "metadata": {},
   "outputs": [
    {
     "data": {
      "text/plain": [
       "Index(['sa', 'subcategory_1', 'subcategory_2', 'subcategory_3',\n",
       "       'subcategory_4', 'subcategory_5', 'subcategory_6', 'subcategory_7',\n",
       "       'subcategory_8', 'subcategory_9', 'subcategory_10',\n",
       "       'subcategory_qtd_seconds_mon_1_bin',\n",
       "       'subcategory_qtd_seconds_mon_2_bin',\n",
       "       'subcategory_qtd_seconds_mon_3_bin',\n",
       "       'subcategory_qtd_seconds_mon_4_bin',\n",
       "       'subcategory_qtd_seconds_mon_5_bin',\n",
       "       'subcategory_qtd_seconds_mon_6_bin',\n",
       "       'subcategory_qtd_seconds_mon_7_bin',\n",
       "       'subcategory_qtd_seconds_mon_8_bin',\n",
       "       'subcategory_qtd_seconds_mon_9_bin',\n",
       "       'subcategory_qtd_seconds_mon_10_bin', 'qtd_seconds_mon_bin',\n",
       "       'nr_devices', 'channel_diversity_sa_bin', 'nr_seconds_seen_0h2h_bin',\n",
       "       'nr_seconds_seen_3h5h_bin', 'nr_seconds_seen_6h8h_bin',\n",
       "       'nr_seconds_seen_9h11h_bin', 'nr_seconds_seen_12h14h_bin',\n",
       "       'nr_seconds_seen_15h17h_bin', 'nr_seconds_seen_18h20h_bin',\n",
       "       'nr_seconds_seen_21h23h_bin', 'segment', 'package_type', 'gender',\n",
       "       'fiscal_num_bin', 'month_id'],\n",
       "      dtype='object')"
      ]
     },
     "execution_count": 10,
     "metadata": {},
     "output_type": "execute_result"
    }
   ],
   "source": [
    "tv.columns"
   ]
  },
  {
   "cell_type": "code",
   "execution_count": 11,
   "metadata": {},
   "outputs": [],
   "source": [
    "teste=tv.groupby(['sa','month_id']).count().reset_index()"
   ]
  },
  {
   "cell_type": "code",
   "execution_count": 12,
   "metadata": {},
   "outputs": [
    {
     "data": {
      "text/html": [
       "<div>\n",
       "<style scoped>\n",
       "    .dataframe tbody tr th:only-of-type {\n",
       "        vertical-align: middle;\n",
       "    }\n",
       "\n",
       "    .dataframe tbody tr th {\n",
       "        vertical-align: top;\n",
       "    }\n",
       "\n",
       "    .dataframe thead th {\n",
       "        text-align: right;\n",
       "    }\n",
       "</style>\n",
       "<table border=\"1\" class=\"dataframe\">\n",
       "  <thead>\n",
       "    <tr style=\"text-align: right;\">\n",
       "      <th></th>\n",
       "      <th>sa</th>\n",
       "      <th>month_id</th>\n",
       "      <th>subcategory_1</th>\n",
       "      <th>subcategory_2</th>\n",
       "      <th>subcategory_3</th>\n",
       "      <th>subcategory_4</th>\n",
       "      <th>subcategory_5</th>\n",
       "      <th>subcategory_6</th>\n",
       "      <th>subcategory_7</th>\n",
       "      <th>subcategory_8</th>\n",
       "      <th>...</th>\n",
       "      <th>nr_seconds_seen_6h8h_bin</th>\n",
       "      <th>nr_seconds_seen_9h11h_bin</th>\n",
       "      <th>nr_seconds_seen_12h14h_bin</th>\n",
       "      <th>nr_seconds_seen_15h17h_bin</th>\n",
       "      <th>nr_seconds_seen_18h20h_bin</th>\n",
       "      <th>nr_seconds_seen_21h23h_bin</th>\n",
       "      <th>segment</th>\n",
       "      <th>package_type</th>\n",
       "      <th>gender</th>\n",
       "      <th>fiscal_num_bin</th>\n",
       "    </tr>\n",
       "  </thead>\n",
       "  <tbody>\n",
       "  </tbody>\n",
       "</table>\n",
       "<p>0 rows × 37 columns</p>\n",
       "</div>"
      ],
      "text/plain": [
       "Empty DataFrame\n",
       "Columns: [sa, month_id, subcategory_1, subcategory_2, subcategory_3, subcategory_4, subcategory_5, subcategory_6, subcategory_7, subcategory_8, subcategory_9, subcategory_10, subcategory_qtd_seconds_mon_1_bin, subcategory_qtd_seconds_mon_2_bin, subcategory_qtd_seconds_mon_3_bin, subcategory_qtd_seconds_mon_4_bin, subcategory_qtd_seconds_mon_5_bin, subcategory_qtd_seconds_mon_6_bin, subcategory_qtd_seconds_mon_7_bin, subcategory_qtd_seconds_mon_8_bin, subcategory_qtd_seconds_mon_9_bin, subcategory_qtd_seconds_mon_10_bin, qtd_seconds_mon_bin, nr_devices, channel_diversity_sa_bin, nr_seconds_seen_0h2h_bin, nr_seconds_seen_3h5h_bin, nr_seconds_seen_6h8h_bin, nr_seconds_seen_9h11h_bin, nr_seconds_seen_12h14h_bin, nr_seconds_seen_15h17h_bin, nr_seconds_seen_18h20h_bin, nr_seconds_seen_21h23h_bin, segment, package_type, gender, fiscal_num_bin]\n",
       "Index: []\n",
       "\n",
       "[0 rows x 37 columns]"
      ]
     },
     "execution_count": 12,
     "metadata": {},
     "output_type": "execute_result"
    }
   ],
   "source": [
    "teste.loc[teste.subcategory_1>1]"
   ]
  },
  {
   "cell_type": "code",
   "execution_count": 13,
   "metadata": {},
   "outputs": [],
   "source": [
    "tv=tv.sort_values(['sa','month_id'])\n",
    "tv2=tv.groupby('sa').tail(1).reset_index()"
   ]
  },
  {
   "cell_type": "code",
   "execution_count": 14,
   "metadata": {},
   "outputs": [
    {
     "data": {
      "text/plain": [
       "A    658430\n",
       "B    220650\n",
       "D     17604\n",
       "C         5\n",
       "Name: segment, dtype: int64"
      ]
     },
     "execution_count": 14,
     "metadata": {},
     "output_type": "execute_result"
    }
   ],
   "source": [
    "tv.segment.value_counts(dropna=False)"
   ]
  },
  {
   "cell_type": "code",
   "execution_count": 15,
   "metadata": {},
   "outputs": [],
   "source": [
    "user_feat=tv[['sa','fiscal_num_bin','segment','gender']]\n",
    "user_feat=user_feat.groupby('sa').tail(1).reset_index(drop=True)"
   ]
  },
  {
   "cell_type": "code",
   "execution_count": 16,
   "metadata": {},
   "outputs": [],
   "source": [
    "user_feat.segment=user_feat.segment.replace({'D':'Other','C':'Other'})"
   ]
  },
  {
   "cell_type": "code",
   "execution_count": 17,
   "metadata": {},
   "outputs": [],
   "source": [
    "user_feat.drop('sa',axis=1,inplace=True)"
   ]
  },
  {
   "cell_type": "code",
   "execution_count": 18,
   "metadata": {},
   "outputs": [
    {
     "data": {
      "text/plain": [
       "0.0    237275\n",
       "1.0    175238\n",
       "NaN     42888\n",
       "Name: gender, dtype: int64"
      ]
     },
     "execution_count": 18,
     "metadata": {},
     "output_type": "execute_result"
    }
   ],
   "source": [
    "user_feat.gender.value_counts(dropna=False)"
   ]
  },
  {
   "cell_type": "code",
   "execution_count": 19,
   "metadata": {},
   "outputs": [],
   "source": [
    "#use missing level as a new category\n",
    "user_feat.gender=user_feat.gender.fillna(-1)"
   ]
  },
  {
   "cell_type": "code",
   "execution_count": 20,
   "metadata": {},
   "outputs": [
    {
     "data": {
      "text/plain": [
       "fiscal_num_bin      int64\n",
       "segment            object\n",
       "gender            float64\n",
       "dtype: object"
      ]
     },
     "execution_count": 20,
     "metadata": {},
     "output_type": "execute_result"
    }
   ],
   "source": [
    "user_feat.dtypes"
   ]
  },
  {
   "cell_type": "code",
   "execution_count": 21,
   "metadata": {},
   "outputs": [],
   "source": [
    "user_feat.gender=user_feat.gender.astype(str)"
   ]
  },
  {
   "cell_type": "code",
   "execution_count": 22,
   "metadata": {},
   "outputs": [],
   "source": [
    "#once the variable is binned the max and min are always the same (doesn't depend on the train/test set)\n",
    "from sklearn import preprocessing\n",
    "scaler = preprocessing.MinMaxScaler()"
   ]
  },
  {
   "cell_type": "code",
   "execution_count": 23,
   "metadata": {},
   "outputs": [],
   "source": [
    "user_feat=pd.get_dummies(user_feat)"
   ]
  },
  {
   "cell_type": "code",
   "execution_count": 24,
   "metadata": {},
   "outputs": [],
   "source": [
    "user_scaled = scaler.fit_transform(user_feat)"
   ]
  },
  {
   "cell_type": "code",
   "execution_count": 25,
   "metadata": {},
   "outputs": [],
   "source": [
    "userf = pd.DataFrame(user_scaled)"
   ]
  },
  {
   "cell_type": "code",
   "execution_count": 26,
   "metadata": {},
   "outputs": [
    {
     "data": {
      "text/plain": [
       "(455401, 7)"
      ]
     },
     "execution_count": 26,
     "metadata": {},
     "output_type": "execute_result"
    }
   ],
   "source": [
    "userf.shape"
   ]
  },
  {
   "cell_type": "code",
   "execution_count": 27,
   "metadata": {},
   "outputs": [],
   "source": [
    "tv2=tv2[['sa','subcategory_1', 'subcategory_2', 'subcategory_3',\n",
    "       'subcategory_4', 'subcategory_5', 'subcategory_6', 'subcategory_7',\n",
    "       'subcategory_8', 'subcategory_9', 'subcategory_10']]"
   ]
  },
  {
   "cell_type": "code",
   "execution_count": 28,
   "metadata": {},
   "outputs": [
    {
     "data": {
      "text/plain": [
       "0"
      ]
     },
     "execution_count": 28,
     "metadata": {},
     "output_type": "execute_result"
    }
   ],
   "source": [
    "tv2.subcategory_1.isnull().sum()"
   ]
  },
  {
   "cell_type": "code",
   "execution_count": 29,
   "metadata": {},
   "outputs": [
    {
     "data": {
      "text/plain": [
       "3847"
      ]
     },
     "execution_count": 29,
     "metadata": {},
     "output_type": "execute_result"
    }
   ],
   "source": [
    "tv2.subcategory_2.isnull().sum()"
   ]
  },
  {
   "cell_type": "code",
   "execution_count": 30,
   "metadata": {},
   "outputs": [
    {
     "data": {
      "text/plain": [
       "7105"
      ]
     },
     "execution_count": 30,
     "metadata": {},
     "output_type": "execute_result"
    }
   ],
   "source": [
    "tv2.subcategory_3.isnull().sum()"
   ]
  },
  {
   "cell_type": "code",
   "execution_count": 31,
   "metadata": {},
   "outputs": [],
   "source": [
    "ui=pd.concat([tv2[['sa','subcategory_1']],\n",
    "              tv2[['sa','subcategory_2']],\n",
    "              tv2[['sa','subcategory_3']],\n",
    "              tv2[['sa','subcategory_4']],\n",
    "              tv2[['sa','subcategory_5']],\n",
    "              tv2[['sa','subcategory_6']],\n",
    "              tv2[['sa','subcategory_7']],\n",
    "              tv2[['sa','subcategory_8']],\n",
    "              tv2[['sa','subcategory_9']],\n",
    "              tv2[['sa','subcategory_10']]],\n",
    "             axis=0)"
   ]
  },
  {
   "cell_type": "code",
   "execution_count": 32,
   "metadata": {},
   "outputs": [],
   "source": [
    "for col in ui.columns:\n",
    "    ui[col]=ui[col].fillna(0)"
   ]
  },
  {
   "cell_type": "code",
   "execution_count": 33,
   "metadata": {},
   "outputs": [
    {
     "data": {
      "text/plain": [
       "(4554010, 11)"
      ]
     },
     "execution_count": 33,
     "metadata": {},
     "output_type": "execute_result"
    }
   ],
   "source": [
    "ui.shape"
   ]
  },
  {
   "cell_type": "code",
   "execution_count": 34,
   "metadata": {},
   "outputs": [],
   "source": [
    "ui['item']=ui.subcategory_1+ui.subcategory_2+ui.subcategory_3+ui.subcategory_4+ui.subcategory_5+ui.subcategory_6+ui.subcategory_7+ui.subcategory_8+ui.subcategory_9+ui.subcategory_10"
   ]
  },
  {
   "cell_type": "code",
   "execution_count": 35,
   "metadata": {},
   "outputs": [
    {
     "data": {
      "text/plain": [
       "(4554010, 12)"
      ]
     },
     "execution_count": 35,
     "metadata": {},
     "output_type": "execute_result"
    }
   ],
   "source": [
    "ui.shape"
   ]
  },
  {
   "cell_type": "code",
   "execution_count": 36,
   "metadata": {},
   "outputs": [],
   "source": [
    "subcat=[col for col in tv2.columns if 'subcat' in col]"
   ]
  },
  {
   "cell_type": "code",
   "execution_count": 37,
   "metadata": {},
   "outputs": [],
   "source": [
    "ui.drop(subcat,axis=1,inplace=True)"
   ]
  },
  {
   "cell_type": "code",
   "execution_count": 38,
   "metadata": {},
   "outputs": [],
   "source": [
    "ui=ui.loc[ui.item!=0]"
   ]
  },
  {
   "cell_type": "code",
   "execution_count": 39,
   "metadata": {},
   "outputs": [],
   "source": [
    "ui['count']=1"
   ]
  },
  {
   "cell_type": "code",
   "execution_count": 40,
   "metadata": {},
   "outputs": [
    {
     "data": {
      "text/plain": [
       "(4401527, 3)"
      ]
     },
     "execution_count": 40,
     "metadata": {},
     "output_type": "execute_result"
    }
   ],
   "source": [
    "ui.shape"
   ]
  },
  {
   "cell_type": "code",
   "execution_count": 41,
   "metadata": {},
   "outputs": [
    {
     "data": {
      "text/html": [
       "<div>\n",
       "<style scoped>\n",
       "    .dataframe tbody tr th:only-of-type {\n",
       "        vertical-align: middle;\n",
       "    }\n",
       "\n",
       "    .dataframe tbody tr th {\n",
       "        vertical-align: top;\n",
       "    }\n",
       "\n",
       "    .dataframe thead th {\n",
       "        text-align: right;\n",
       "    }\n",
       "</style>\n",
       "<table border=\"1\" class=\"dataframe\">\n",
       "  <thead>\n",
       "    <tr style=\"text-align: right;\">\n",
       "      <th></th>\n",
       "      <th>sa</th>\n",
       "      <th>item</th>\n",
       "      <th>count</th>\n",
       "    </tr>\n",
       "  </thead>\n",
       "  <tbody>\n",
       "    <tr>\n",
       "      <th>0</th>\n",
       "      <td>00000DEA2619C5B46B7617CD2522AAC4</td>\n",
       "      <td>126.0</td>\n",
       "      <td>1</td>\n",
       "    </tr>\n",
       "    <tr>\n",
       "      <th>1</th>\n",
       "      <td>00002D061531546A51AEC5058224C554</td>\n",
       "      <td>126.0</td>\n",
       "      <td>1</td>\n",
       "    </tr>\n",
       "    <tr>\n",
       "      <th>2</th>\n",
       "      <td>000084B13D863DF2D1285A9ADC85791C</td>\n",
       "      <td>78.0</td>\n",
       "      <td>1</td>\n",
       "    </tr>\n",
       "    <tr>\n",
       "      <th>3</th>\n",
       "      <td>00009BFE0ABF1CEAD0404A445DEBD0A4</td>\n",
       "      <td>126.0</td>\n",
       "      <td>1</td>\n",
       "    </tr>\n",
       "    <tr>\n",
       "      <th>4</th>\n",
       "      <td>0000B2FEE745115B47039BAB152CF2FB</td>\n",
       "      <td>90.0</td>\n",
       "      <td>1</td>\n",
       "    </tr>\n",
       "    <tr>\n",
       "      <th>...</th>\n",
       "      <td>...</td>\n",
       "      <td>...</td>\n",
       "      <td>...</td>\n",
       "    </tr>\n",
       "    <tr>\n",
       "      <th>455394</th>\n",
       "      <td>FFFF108937DEBBA20BEF027986F5CD87</td>\n",
       "      <td>98.0</td>\n",
       "      <td>1</td>\n",
       "    </tr>\n",
       "    <tr>\n",
       "      <th>455395</th>\n",
       "      <td>FFFF36FF412D3DFA73A846205B8B559A</td>\n",
       "      <td>81.0</td>\n",
       "      <td>1</td>\n",
       "    </tr>\n",
       "    <tr>\n",
       "      <th>455397</th>\n",
       "      <td>FFFF8C8057E2DB116B8F8AA586DBE2D4</td>\n",
       "      <td>99.0</td>\n",
       "      <td>1</td>\n",
       "    </tr>\n",
       "    <tr>\n",
       "      <th>455398</th>\n",
       "      <td>FFFF8DC0E16276E975437E97558AE55B</td>\n",
       "      <td>93.0</td>\n",
       "      <td>1</td>\n",
       "    </tr>\n",
       "    <tr>\n",
       "      <th>455400</th>\n",
       "      <td>FFFFC22A6191C9A70FD21D1EB029FE14</td>\n",
       "      <td>85.0</td>\n",
       "      <td>1</td>\n",
       "    </tr>\n",
       "  </tbody>\n",
       "</table>\n",
       "<p>4401527 rows × 3 columns</p>\n",
       "</div>"
      ],
      "text/plain": [
       "                                      sa   item  count\n",
       "0       00000DEA2619C5B46B7617CD2522AAC4  126.0      1\n",
       "1       00002D061531546A51AEC5058224C554  126.0      1\n",
       "2       000084B13D863DF2D1285A9ADC85791C   78.0      1\n",
       "3       00009BFE0ABF1CEAD0404A445DEBD0A4  126.0      1\n",
       "4       0000B2FEE745115B47039BAB152CF2FB   90.0      1\n",
       "...                                  ...    ...    ...\n",
       "455394  FFFF108937DEBBA20BEF027986F5CD87   98.0      1\n",
       "455395  FFFF36FF412D3DFA73A846205B8B559A   81.0      1\n",
       "455397  FFFF8C8057E2DB116B8F8AA586DBE2D4   99.0      1\n",
       "455398  FFFF8DC0E16276E975437E97558AE55B   93.0      1\n",
       "455400  FFFFC22A6191C9A70FD21D1EB029FE14   85.0      1\n",
       "\n",
       "[4401527 rows x 3 columns]"
      ]
     },
     "execution_count": 41,
     "metadata": {},
     "output_type": "execute_result"
    }
   ],
   "source": [
    "ui.drop_duplicates()"
   ]
  },
  {
   "cell_type": "markdown",
   "metadata": {},
   "source": [
    "### train/test 1 "
   ]
  },
  {
   "cell_type": "raw",
   "metadata": {},
   "source": [
    "test=ui.groupby('sa').tail(1).reset_index(drop=True)"
   ]
  },
  {
   "cell_type": "raw",
   "metadata": {},
   "source": [
    "train=ui.merge(test,left_on=['sa','item'],right_on=['sa','item'],how='left')"
   ]
  },
  {
   "cell_type": "raw",
   "metadata": {},
   "source": [
    "train=train.loc[train.count_y!=1]"
   ]
  },
  {
   "cell_type": "raw",
   "metadata": {},
   "source": [
    "train.drop('count_y',axis=1,inplace=True)"
   ]
  },
  {
   "cell_type": "raw",
   "metadata": {},
   "source": [
    "train.columns=['sa', 'item', 'count']"
   ]
  },
  {
   "cell_type": "markdown",
   "metadata": {},
   "source": [
    "### train/test 2"
   ]
  },
  {
   "cell_type": "raw",
   "metadata": {},
   "source": [
    "tv2.subcategory_10.isnull().sum()"
   ]
  },
  {
   "cell_type": "raw",
   "metadata": {},
   "source": [
    "test=ui.iloc[-500000:,:]"
   ]
  },
  {
   "cell_type": "raw",
   "metadata": {},
   "source": [
    "train=ui.iloc[:-500000,:]"
   ]
  },
  {
   "cell_type": "raw",
   "metadata": {},
   "source": [
    "train.tail()"
   ]
  },
  {
   "cell_type": "raw",
   "metadata": {},
   "source": [
    "test.head()"
   ]
  },
  {
   "cell_type": "raw",
   "metadata": {},
   "source": [
    "len(train)/len(ui)"
   ]
  },
  {
   "cell_type": "raw",
   "metadata": {},
   "source": [
    "m_train=pd.pivot_table(train,'count','sa','item','count',fill_value=0)"
   ]
  },
  {
   "cell_type": "raw",
   "metadata": {},
   "source": [
    "from scipy.sparse import coo_matrix\n",
    "data=coo_matrix(m_train)"
   ]
  },
  {
   "cell_type": "raw",
   "metadata": {},
   "source": [
    "from lightfm import LightFM\n",
    "lfm=LightFM()\n",
    "lfm.fit(interactions=data,epochs= 50)"
   ]
  },
  {
   "cell_type": "raw",
   "metadata": {},
   "source": [
    "lfm.predict(1,[140,139])"
   ]
  },
  {
   "cell_type": "markdown",
   "metadata": {},
   "source": [
    "### train/test 3"
   ]
  },
  {
   "cell_type": "code",
   "execution_count": 42,
   "metadata": {},
   "outputs": [],
   "source": [
    "m=pd.pivot_table(ui,'count','sa','item','count',fill_value=0)"
   ]
  },
  {
   "cell_type": "code",
   "execution_count": 43,
   "metadata": {},
   "outputs": [],
   "source": [
    "items=list(m.columns)"
   ]
  },
  {
   "cell_type": "code",
   "execution_count": 44,
   "metadata": {},
   "outputs": [],
   "source": [
    "from scipy.sparse import coo_matrix\n",
    "matrix=coo_matrix(m)"
   ]
  },
  {
   "cell_type": "code",
   "execution_count": 45,
   "metadata": {},
   "outputs": [],
   "source": [
    "cli=matrix.toarray()[0]"
   ]
  },
  {
   "cell_type": "code",
   "execution_count": 46,
   "metadata": {},
   "outputs": [
    {
     "data": {
      "text/plain": [
       "[34.0, 63.0, 66.0, 126.0]"
      ]
     },
     "execution_count": 46,
     "metadata": {},
     "output_type": "execute_result"
    }
   ],
   "source": [
    "[ j for (i,j) in zip(cli,items) if i >= 1 ]"
   ]
  },
  {
   "cell_type": "code",
   "execution_count": 47,
   "metadata": {},
   "outputs": [
    {
     "data": {
      "text/html": [
       "<div>\n",
       "<style scoped>\n",
       "    .dataframe tbody tr th:only-of-type {\n",
       "        vertical-align: middle;\n",
       "    }\n",
       "\n",
       "    .dataframe tbody tr th {\n",
       "        vertical-align: top;\n",
       "    }\n",
       "\n",
       "    .dataframe thead th {\n",
       "        text-align: right;\n",
       "    }\n",
       "</style>\n",
       "<table border=\"1\" class=\"dataframe\">\n",
       "  <thead>\n",
       "    <tr style=\"text-align: right;\">\n",
       "      <th></th>\n",
       "      <th>sa</th>\n",
       "      <th>item</th>\n",
       "      <th>count</th>\n",
       "    </tr>\n",
       "  </thead>\n",
       "  <tbody>\n",
       "    <tr>\n",
       "      <th>0</th>\n",
       "      <td>00000DEA2619C5B46B7617CD2522AAC4</td>\n",
       "      <td>126.0</td>\n",
       "      <td>1</td>\n",
       "    </tr>\n",
       "    <tr>\n",
       "      <th>0</th>\n",
       "      <td>00000DEA2619C5B46B7617CD2522AAC4</td>\n",
       "      <td>34.0</td>\n",
       "      <td>1</td>\n",
       "    </tr>\n",
       "    <tr>\n",
       "      <th>0</th>\n",
       "      <td>00000DEA2619C5B46B7617CD2522AAC4</td>\n",
       "      <td>66.0</td>\n",
       "      <td>1</td>\n",
       "    </tr>\n",
       "    <tr>\n",
       "      <th>0</th>\n",
       "      <td>00000DEA2619C5B46B7617CD2522AAC4</td>\n",
       "      <td>63.0</td>\n",
       "      <td>1</td>\n",
       "    </tr>\n",
       "  </tbody>\n",
       "</table>\n",
       "</div>"
      ],
      "text/plain": [
       "                                 sa   item  count\n",
       "0  00000DEA2619C5B46B7617CD2522AAC4  126.0      1\n",
       "0  00000DEA2619C5B46B7617CD2522AAC4   34.0      1\n",
       "0  00000DEA2619C5B46B7617CD2522AAC4   66.0      1\n",
       "0  00000DEA2619C5B46B7617CD2522AAC4   63.0      1"
      ]
     },
     "execution_count": 47,
     "metadata": {},
     "output_type": "execute_result"
    }
   ],
   "source": [
    "ui.loc[ui.sa=='00000DEA2619C5B46B7617CD2522AAC4']"
   ]
  },
  {
   "cell_type": "code",
   "execution_count": 48,
   "metadata": {},
   "outputs": [],
   "source": [
    "from lightfm.cross_validation import random_train_test_split\n",
    "train, test= random_train_test_split(matrix, test_percentage=0.2)"
   ]
  },
  {
   "cell_type": "code",
   "execution_count": 49,
   "metadata": {},
   "outputs": [
    {
     "data": {
      "text/plain": [
       "<455401x141 sparse matrix of type '<class 'numpy.int64'>'\n",
       "\twith 3521221 stored elements in COOrdinate format>"
      ]
     },
     "execution_count": 49,
     "metadata": {},
     "output_type": "execute_result"
    }
   ],
   "source": [
    "train"
   ]
  },
  {
   "cell_type": "code",
   "execution_count": 50,
   "metadata": {},
   "outputs": [
    {
     "data": {
      "text/plain": [
       "<455401x141 sparse matrix of type '<class 'numpy.int64'>'\n",
       "\twith 880306 stored elements in COOrdinate format>"
      ]
     },
     "execution_count": 50,
     "metadata": {},
     "output_type": "execute_result"
    }
   ],
   "source": [
    "test"
   ]
  },
  {
   "cell_type": "code",
   "execution_count": 51,
   "metadata": {},
   "outputs": [],
   "source": [
    "cli1_1=train.toarray()[0]"
   ]
  },
  {
   "cell_type": "code",
   "execution_count": 52,
   "metadata": {},
   "outputs": [],
   "source": [
    "cli1_2=test.toarray()[0]"
   ]
  },
  {
   "cell_type": "code",
   "execution_count": 53,
   "metadata": {},
   "outputs": [
    {
     "data": {
      "text/plain": [
       "[34.0, 63.0, 66.0, 126.0]"
      ]
     },
     "execution_count": 53,
     "metadata": {},
     "output_type": "execute_result"
    }
   ],
   "source": [
    "[ j for (i,j) in zip(cli1_1,items) if i >= 1 ]"
   ]
  },
  {
   "cell_type": "code",
   "execution_count": 54,
   "metadata": {},
   "outputs": [
    {
     "data": {
      "text/plain": [
       "[]"
      ]
     },
     "execution_count": 54,
     "metadata": {},
     "output_type": "execute_result"
    }
   ],
   "source": [
    "[ j for (i,j) in zip(cli1_2,items) if i >= 1 ]"
   ]
  },
  {
   "cell_type": "markdown",
   "metadata": {},
   "source": [
    "# Baseline tentativa 1"
   ]
  },
  {
   "cell_type": "raw",
   "metadata": {},
   "source": [
    "test_baseline=pd.DataFrame.sparse.from_spmatrix(test)"
   ]
  },
  {
   "cell_type": "raw",
   "metadata": {},
   "source": [
    "test_baseline.columns=items"
   ]
  },
  {
   "cell_type": "raw",
   "metadata": {},
   "source": [
    "test_baseline2=test_baseline[[126.0, 90.0, 78.0, 86.0, 81.0]]"
   ]
  },
  {
   "cell_type": "raw",
   "metadata": {},
   "source": [
    "test_baseline2.sum().sum()/test_baseline.sum().sum()"
   ]
  },
  {
   "cell_type": "markdown",
   "metadata": {},
   "source": [
    "# Baseline tentativa 2"
   ]
  },
  {
   "cell_type": "raw",
   "metadata": {},
   "source": [
    "hit=test_baseline2.sum(axis=1)"
   ]
  },
  {
   "cell_type": "raw",
   "metadata": {},
   "source": [
    "retrieved=test_baseline.sum(axis=1)"
   ]
  },
  {
   "cell_type": "raw",
   "metadata": {},
   "source": [
    "recall=hit/retrieved"
   ]
  },
  {
   "cell_type": "raw",
   "metadata": {},
   "source": [
    "recall.dropna().mean()"
   ]
  },
  {
   "cell_type": "markdown",
   "metadata": {},
   "source": [
    "# Baseline tentativa 3"
   ]
  },
  {
   "cell_type": "code",
   "execution_count": 52,
   "metadata": {},
   "outputs": [],
   "source": [
    "train_pop=pd.DataFrame.sparse.from_spmatrix(train)"
   ]
  },
  {
   "cell_type": "raw",
   "metadata": {},
   "source": [
    "train_pop.columns"
   ]
  },
  {
   "cell_type": "code",
   "execution_count": 53,
   "metadata": {},
   "outputs": [],
   "source": [
    "# Popular model - top 5\n",
    "rec_pop=train_pop.sum(axis=0).sort_values().tail(5).index.to_list()"
   ]
  },
  {
   "cell_type": "code",
   "execution_count": 54,
   "metadata": {},
   "outputs": [],
   "source": [
    "test_pop=pd.DataFrame.sparse.from_spmatrix(test)"
   ]
  },
  {
   "cell_type": "raw",
   "metadata": {},
   "source": [
    "test_pop.index.rename('sa', inplace=True)"
   ]
  },
  {
   "cell_type": "raw",
   "metadata": {},
   "source": [
    "test_pop.columns.rename('item', inplace=True)"
   ]
  },
  {
   "cell_type": "code",
   "execution_count": 55,
   "metadata": {},
   "outputs": [
    {
     "data": {
      "text/plain": [
       "[77, 82, 74, 86, 121]"
      ]
     },
     "execution_count": 55,
     "metadata": {},
     "output_type": "execute_result"
    }
   ],
   "source": [
    "rec_pop"
   ]
  },
  {
   "cell_type": "code",
   "execution_count": 56,
   "metadata": {},
   "outputs": [],
   "source": [
    "test_pop['nr_items']=test_pop.sum(axis=1)"
   ]
  },
  {
   "cell_type": "code",
   "execution_count": 57,
   "metadata": {},
   "outputs": [],
   "source": [
    "test_pop=test_pop.loc[test_pop.nr_items>0]"
   ]
  },
  {
   "cell_type": "code",
   "execution_count": 59,
   "metadata": {},
   "outputs": [],
   "source": [
    "top5=[121,86,74,82,77]"
   ]
  },
  {
   "cell_type": "code",
   "execution_count": 60,
   "metadata": {},
   "outputs": [],
   "source": [
    "def calc_hits(cols):\n",
    "    nr_items=int(cols[-1])\n",
    "    cat=cols[:-1]\n",
    "    top_filters=top5[:nr_items]\n",
    "    hits=[1 if cat[topi]>0 else 0 for topi in top_filters]\n",
    "    return sum(hits)"
   ]
  },
  {
   "cell_type": "code",
   "execution_count": 61,
   "metadata": {},
   "outputs": [
    {
     "data": {
      "text/plain": [
       "2"
      ]
     },
     "execution_count": 61,
     "metadata": {},
     "output_type": "execute_result"
    }
   ],
   "source": [
    "calc_hits(list(test_pop.iloc[4,:142]))"
   ]
  },
  {
   "cell_type": "code",
   "execution_count": 62,
   "metadata": {},
   "outputs": [],
   "source": [
    "test_pop['hits']=test_pop.iloc[:,:142].apply(lambda x: calc_hits(list(x)),axis=1)"
   ]
  },
  {
   "cell_type": "code",
   "execution_count": 63,
   "metadata": {},
   "outputs": [
    {
     "data": {
      "text/plain": [
       "0    257279\n",
       "1    112151\n",
       "2     24189\n",
       "3      3889\n",
       "4       436\n",
       "5        10\n",
       "Name: hits, dtype: int64"
      ]
     },
     "execution_count": 63,
     "metadata": {},
     "output_type": "execute_result"
    }
   ],
   "source": [
    "test_pop['hits'].value_counts(dropna=False)"
   ]
  },
  {
   "cell_type": "code",
   "execution_count": 64,
   "metadata": {},
   "outputs": [
    {
     "data": {
      "text/plain": [
       "0.1653670349233153"
      ]
     },
     "execution_count": 64,
     "metadata": {},
     "output_type": "execute_result"
    }
   ],
   "source": [
    "#baseline recall at 5\n",
    "(test_pop['hits']/test_pop['nr_items']).mean()"
   ]
  },
  {
   "cell_type": "raw",
   "metadata": {},
   "source": [
    "test_pop['retrieved_pop']=test_pop[[121]]"
   ]
  },
  {
   "cell_type": "raw",
   "metadata": {},
   "source": [
    "test_pop.loc[test_pop.nr_items==2,'retrieved_pop2']=test_pop.loc[test_pop.nr_items==2,'retrieved_pop']+test_pop.loc[test_pop.nr_items==2,86]"
   ]
  },
  {
   "cell_type": "raw",
   "metadata": {},
   "source": [
    "test_pop.loc[test_pop.nr_items!=2,'retrieved_pop2']=test_pop.loc[test_pop.nr_items!=2,'retrieved_pop']"
   ]
  },
  {
   "cell_type": "raw",
   "metadata": {},
   "source": [
    "test_pop.loc[test_pop.nr_items==3,'retrieved_pop3']=test_pop.loc[test_pop.nr_items==3,'retrieved_pop2']+test_pop.loc[test_pop.nr_items==3,74]"
   ]
  },
  {
   "cell_type": "raw",
   "metadata": {},
   "source": [
    "test_pop.loc[test_pop.nr_items!=3,'retrieved_pop3']=test_pop.loc[test_pop.nr_items!=3,'retrieved_pop2']"
   ]
  },
  {
   "cell_type": "raw",
   "metadata": {},
   "source": [
    "test_pop.loc[test_pop.nr_items==4,'retrieved_pop4']=test_pop.loc[test_pop.nr_items==4,'retrieved_pop3']+test_pop.loc[test_pop.nr_items==4,82]"
   ]
  },
  {
   "cell_type": "raw",
   "metadata": {},
   "source": [
    "test_pop.loc[test_pop.nr_items!=4,'retrieved_pop4']=test_pop.loc[test_pop.nr_items!=4,'retrieved_pop3']"
   ]
  },
  {
   "cell_type": "raw",
   "metadata": {},
   "source": [
    "test_pop.loc[test_pop.nr_items>=5,'retrieved_pop5']=test_pop.loc[test_pop.nr_items>=5,'retrieved_pop4']+test_pop.loc[test_pop.nr_items>=5,77]"
   ]
  },
  {
   "cell_type": "raw",
   "metadata": {},
   "source": [
    "test_pop.loc[test_pop.nr_items<5,'retrieved_pop5']=test_pop.loc[test_pop.nr_items<5,'retrieved_pop4']"
   ]
  },
  {
   "cell_type": "raw",
   "metadata": {},
   "source": [
    "(test_pop.retrieved_pop5/test_pop.nr_items).mean()"
   ]
  },
  {
   "cell_type": "raw",
   "metadata": {},
   "source": [
    "test_pop.retrieved_pop2.value_counts()"
   ]
  },
  {
   "cell_type": "markdown",
   "metadata": {},
   "source": [
    "### loss: warp"
   ]
  },
  {
   "cell_type": "code",
   "execution_count": 55,
   "metadata": {},
   "outputs": [],
   "source": [
    "train2, val= random_train_test_split(train, test_percentage=0.2)"
   ]
  },
  {
   "cell_type": "code",
   "execution_count": 56,
   "metadata": {},
   "outputs": [
    {
     "data": {
      "text/plain": [
       "(455401, 141)"
      ]
     },
     "execution_count": 56,
     "metadata": {},
     "output_type": "execute_result"
    }
   ],
   "source": [
    "train2.shape"
   ]
  },
  {
   "cell_type": "code",
   "execution_count": 57,
   "metadata": {},
   "outputs": [
    {
     "data": {
      "text/plain": [
       "(455401, 7)"
      ]
     },
     "execution_count": 57,
     "metadata": {},
     "output_type": "execute_result"
    }
   ],
   "source": [
    "userf.shape"
   ]
  },
  {
   "cell_type": "code",
   "execution_count": 69,
   "metadata": {},
   "outputs": [
    {
     "name": "stdout",
     "output_type": "stream",
     "text": [
      "--- 110.26127171516418 seconds ---\n"
     ]
    }
   ],
   "source": [
    "from lightfm import LightFM\n",
    "from lightfm.evaluation import auc_score, recall_at_k\n",
    "import numpy as np\n",
    "import time\n",
    "import scipy\n",
    "start_time = time.time()\n",
    "\n",
    "model= LightFM(learning_rate = 0.005, loss='warp')\n",
    "#auc=[]\n",
    "rec=[]\n",
    "\n",
    "for e in range(25):\n",
    "    model.fit_partial(train2, epochs=1, num_threads=4)\n",
    "    #auc_train= auc_score(model, train, num_threads=4).mean()\n",
    "    rec_train= recall_at_k(model, train2, num_threads=4, k=5).mean()\n",
    "    \n",
    "    #auc_test= auc_score(model, test, num_threads=4).mean()\n",
    "    rec_val= recall_at_k(model, val, num_threads=4, k=5).mean()\n",
    "    \n",
    "    #auc.append((auc_train, auc_test))\n",
    "    rec.append((rec_train, rec_val))\n",
    "    \n",
    "#auc = np.array(auc)\n",
    "rec = np.array(rec)\n",
    "print(\"--- %s seconds ---\" % (time.time() - start_time))"
   ]
  },
  {
   "cell_type": "raw",
   "metadata": {},
   "source": [
    "model= LightFM(learning_rate = 0.005, loss='warp')\n",
    "model.fit(train2, user_features=scipy.sparse.csr_matrix(userf.values), epochs=1, num_threads=4)"
   ]
  },
  {
   "cell_type": "raw",
   "metadata": {},
   "source": [
    "scipy.sparse.csr_matrix(userf.values) #.toarray()"
   ]
  },
  {
   "cell_type": "raw",
   "metadata": {},
   "source": [
    "from matplotlib import pyplot as plt\n",
    "\n",
    "plt.plot(auc[:,0], label='train')\n",
    "plt.plot(auc[:,1], label='test')\n",
    "plt.title('AUC')\n",
    "plt.legend()\n",
    "plt.show()"
   ]
  },
  {
   "cell_type": "code",
   "execution_count": 70,
   "metadata": {
    "scrolled": true
   },
   "outputs": [
    {
     "data": {
      "image/png": "[encoded data removed]",
      "text/plain": [
       "<Figure size 432x288 with 1 Axes>"
      ]
     },
     "metadata": {
      "needs_background": "light"
     },
     "output_type": "display_data"
    }
   ],
   "source": [
    "from matplotlib import pyplot as plt\n",
    "#Recall\n",
    "plt.plot(rec[:,0], label='train')\n",
    "plt.plot(rec[:,1], label='val')\n",
    "plt.title('Recall at k=5')\n",
    "plt.legend()\n",
    "plt.show()"
   ]
  },
  {
   "cell_type": "code",
   "execution_count": 71,
   "metadata": {},
   "outputs": [
    {
     "name": "stdout",
     "output_type": "stream",
     "text": [
      "--- 50.8643102645874 seconds ---\n"
     ]
    }
   ],
   "source": [
    "start_time = time.time()\n",
    "\n",
    "model= LightFM(learning_rate = 0.005, loss='warp')\n",
    "#auc=[]\n",
    "rec=[]\n",
    "\n",
    "for e in range(10):\n",
    "    model.fit_partial(train, epochs=1, num_threads=4)\n",
    "    #auc_train= auc_score(model, train, num_threads=4).mean()\n",
    "    rec_train= recall_at_k(model, train, num_threads=4, k=5).mean()\n",
    "    \n",
    "    #auc_test= auc_score(model, test, num_threads=4).mean()\n",
    "    rec_test= recall_at_k(model, test, num_threads=4, k=5).mean()\n",
    "    \n",
    "    #auc.append((auc_train, auc_test))\n",
    "    rec.append((rec_train, rec_test))\n",
    "    \n",
    "#auc = np.array(auc)\n",
    "rec = np.array(rec)\n",
    "print(\"--- %s seconds ---\" % (time.time() - start_time))"
   ]
  },
  {
   "cell_type": "code",
   "execution_count": 72,
   "metadata": {},
   "outputs": [
    {
     "data": {
      "text/plain": [
       "0.3354066795707663"
      ]
     },
     "execution_count": 72,
     "metadata": {},
     "output_type": "execute_result"
    }
   ],
   "source": [
    "max(rec[:,1])"
   ]
  },
  {
   "cell_type": "code",
   "execution_count": 73,
   "metadata": {
    "scrolled": true
   },
   "outputs": [
    {
     "data": {
      "text/plain": [
       "array([[0., 0., 0., 0., 0., 0., 0., 0., 0., 0., 0., 0., 0., 0., 0., 0.,\n",
       "        0., 0., 0., 0., 0., 0., 0., 0., 0., 0., 0., 0., 0., 0., 0., 0.,\n",
       "        0., 0., 0., 0., 0., 0., 0., 0., 0., 0., 0., 0., 0., 0., 0., 0.,\n",
       "        0., 0., 0., 0., 0., 0., 0., 0., 0., 0., 0., 0., 0., 0., 0., 0.,\n",
       "        0., 0., 0., 0., 0., 0., 0., 0., 0., 0., 0., 0., 0., 0., 0., 0.,\n",
       "        0., 0., 0., 0., 0., 0., 0., 0., 0., 0., 0., 0., 6., 0., 0., 0.,\n",
       "        0., 0., 0., 0., 0., 0., 0., 0., 0., 0., 0., 0., 0., 0., 0., 0.,\n",
       "        0., 0., 0., 0., 0., 0., 0., 0., 0., 0., 0., 0., 0., 0., 0., 0.,\n",
       "        0., 0., 0., 0., 0., 0., 0., 0., 0., 0., 0., 0., 0.]],\n",
       "      dtype=float32)"
      ]
     },
     "execution_count": 73,
     "metadata": {},
     "output_type": "execute_result"
    }
   ],
   "source": [
    "model.predict_rank(test,num_threads=4).getrow(1420).toarray()"
   ]
  },
  {
   "cell_type": "code",
   "execution_count": 74,
   "metadata": {
    "scrolled": true
   },
   "outputs": [
    {
     "data": {
      "text/plain": [
       "array([[0., 0., 0., 0., 0., 0., 0., 0., 0., 0., 0., 0., 0., 0., 0., 0.,\n",
       "        0., 0., 0., 0., 0., 0., 0., 0., 0., 0., 0., 0., 0., 0., 0., 0.,\n",
       "        0., 0., 0., 0., 0., 0., 0., 0., 0., 0., 0., 0., 0., 0., 0., 0.,\n",
       "        0., 0., 0., 0., 0., 0., 0., 0., 0., 0., 0., 7., 0., 0., 0., 0.,\n",
       "        0., 0., 0., 0., 0., 0., 0., 0., 0., 0., 0., 0., 0., 0., 0., 0.,\n",
       "        0., 0., 0., 0., 0., 0., 0., 0., 0., 0., 0., 0., 0., 0., 0., 0.,\n",
       "        0., 0., 0., 0., 0., 0., 0., 0., 0., 0., 0., 0., 0., 0., 0., 0.,\n",
       "        0., 0., 0., 0., 0., 0., 0., 0., 0., 0., 0., 0., 0., 0., 0., 0.,\n",
       "        0., 0., 0., 0., 0., 0., 0., 0., 0., 0., 0., 0., 0.]],\n",
       "      dtype=float32)"
      ]
     },
     "execution_count": 74,
     "metadata": {},
     "output_type": "execute_result"
    }
   ],
   "source": [
    "model.predict_rank(test,num_threads=4).getrow(255).toarray()"
   ]
  },
  {
   "cell_type": "raw",
   "metadata": {},
   "source": [
    "test_baseline.iloc[255,:][test_baseline.iloc[255,:]>0]"
   ]
  },
  {
   "cell_type": "raw",
   "metadata": {},
   "source": [
    "test_baseline.iloc[1420,:][test_baseline.iloc[1420,:]>0]"
   ]
  },
  {
   "cell_type": "code",
   "execution_count": 75,
   "metadata": {},
   "outputs": [],
   "source": [
    "cli1_scores=list(model.predict(0,list(range(0,141)),num_threads=4))"
   ]
  },
  {
   "cell_type": "code",
   "execution_count": 76,
   "metadata": {},
   "outputs": [],
   "source": [
    "dict1 = dict(zip(items, cli1_scores))"
   ]
  },
  {
   "cell_type": "code",
   "execution_count": 77,
   "metadata": {},
   "outputs": [],
   "source": [
    "dict1=dict(sorted(dict1.items(), key=lambda item: item[1]))"
   ]
  },
  {
   "cell_type": "code",
   "execution_count": 78,
   "metadata": {},
   "outputs": [
    {
     "data": {
      "text/plain": [
       "[63.0, 81.0, 78.0, 86.0, 126.0]"
      ]
     },
     "execution_count": 78,
     "metadata": {},
     "output_type": "execute_result"
    }
   ],
   "source": [
    "#top 5 canais recomendados para o cli 0\n",
    "list(dict1.keys())[-5:]"
   ]
  },
  {
   "cell_type": "code",
   "execution_count": 70,
   "metadata": {},
   "outputs": [
    {
     "name": "stdout",
     "output_type": "stream",
     "text": [
      "--- 88.88611888885498 seconds ---\n"
     ]
    }
   ],
   "source": [
    "from lightfm import LightFM\n",
    "from lightfm.evaluation import auc_score, recall_at_k\n",
    "import numpy as np\n",
    "import time\n",
    "import scipy\n",
    "start_time = time.time()\n",
    "\n",
    "model2= LightFM(no_components=2, learning_rate = 0.005, loss='warp', random_state=0)\n",
    "#auc=[]\n",
    "rec2=[]\n",
    "\n",
    "for e in range(25):\n",
    "    model2.fit_partial(train2, user_features=scipy.sparse.csr_matrix(userf.values), epochs=1, num_threads=4)\n",
    "    #auc_train= auc_score(model, train, num_threads=4).mean()\n",
    "    rec_train= recall_at_k(model2, train2, user_features=scipy.sparse.csr_matrix(userf.values), num_threads=4, k=5).mean()\n",
    "    \n",
    "    #auc_test= auc_score(model, test, num_threads=4).mean()\n",
    "    rec_val= recall_at_k(model2, val, user_features=scipy.sparse.csr_matrix(userf.values), num_threads=4, k=5).mean()\n",
    "    \n",
    "    #auc.append((auc_train, auc_test))\n",
    "    rec2.append((rec_train, rec_val))\n",
    "    \n",
    "#auc = np.array(auc)\n",
    "rec2 = np.array(rec2)\n",
    "print(\"--- %s seconds ---\" % (time.time() - start_time))"
   ]
  },
  {
   "cell_type": "code",
   "execution_count": 71,
   "metadata": {
    "scrolled": true
   },
   "outputs": [
    {
     "data": {
      "image/png": "[encoded data removed]",
      "text/plain": [
       "<Figure size 432x288 with 1 Axes>"
      ]
     },
     "metadata": {
      "needs_background": "light"
     },
     "output_type": "display_data"
    }
   ],
   "source": [
    "from matplotlib import pyplot as plt\n",
    "#Recall\n",
    "plt.plot(rec2[:,0], label='train')\n",
    "plt.plot(rec2[:,1], label='val')\n",
    "plt.title('Recall at k=5')\n",
    "plt.legend()\n",
    "plt.show()"
   ]
  },
  {
   "cell_type": "code",
   "execution_count": 102,
   "metadata": {},
   "outputs": [
    {
     "name": "stdout",
     "output_type": "stream",
     "text": [
      "--- 148.16912388801575 seconds ---\n"
     ]
    }
   ],
   "source": [
    "start_time = time.time()\n",
    "\n",
    "model2= LightFM(learning_rate = 0.005, loss='warp')\n",
    "#auc=[]\n",
    "rec2=[]\n",
    "\n",
    "for e in range(22):\n",
    "    model2.fit_partial(train, user_features=scipy.sparse.csr_matrix(userf.values), epochs=1, num_threads=4)\n",
    "    #auc_train= auc_score(model, train, num_threads=4).mean()\n",
    "    rec_train= recall_at_k(model2, train, user_features=scipy.sparse.csr_matrix(userf.values), num_threads=4, k=5).mean()\n",
    "    \n",
    "    #auc_test= auc_score(model, test, num_threads=4).mean()\n",
    "    rec_val= recall_at_k(model2, test, user_features=scipy.sparse.csr_matrix(userf.values), num_threads=4, k=5).mean()\n",
    "    \n",
    "    #auc.append((auc_train, auc_test))\n",
    "    rec2.append((rec_train, rec_val))\n",
    "    \n",
    "#auc = np.array(auc)\n",
    "rec2 = np.array(rec2)\n",
    "print(\"--- %s seconds ---\" % (time.time() - start_time))"
   ]
  },
  {
   "cell_type": "code",
   "execution_count": 103,
   "metadata": {},
   "outputs": [
    {
     "data": {
      "text/plain": [
       "0.32136100658838207"
      ]
     },
     "execution_count": 103,
     "metadata": {},
     "output_type": "execute_result"
    }
   ],
   "source": [
    "max(rec2[:,1])"
   ]
  },
  {
   "cell_type": "markdown",
   "metadata": {},
   "source": [
    "### loss: bpr"
   ]
  },
  {
   "cell_type": "code",
   "execution_count": 94,
   "metadata": {},
   "outputs": [
    {
     "name": "stdout",
     "output_type": "stream",
     "text": [
      "--- 109.97933506965637 seconds ---\n"
     ]
    }
   ],
   "source": [
    "start_time = time.time()\n",
    "model2=LightFM(learning_rate = 0.005, loss='bpr')\n",
    "#auc2=[]\n",
    "rec2=[]\n",
    "\n",
    "for e in range(25):\n",
    "    model2.fit_partial(train2, epochs=1, num_threads=4)\n",
    "    #auc_train= auc_score(model2, train, num_threads=4).mean()\n",
    "    prec_train= recall_at_k(model2, train2, num_threads=4, k=5).mean()\n",
    "    \n",
    "    #auc_test= auc_score(model2, test, num_threads=4).mean()\n",
    "    prec_test= recall_at_k(model2, val, num_threads=4, k=5).mean()\n",
    "    \n",
    "    #auc2.append((auc_train, auc_test))\n",
    "    rec2.append((rec_train, rec_test))\n",
    "    \n",
    "#auc2 = np.array(auc2)\n",
    "rec2 = np.array(rec2)\n",
    "print(\"--- %s seconds ---\" % (time.time() - start_time))"
   ]
  },
  {
   "cell_type": "raw",
   "metadata": {},
   "source": [
    "plt.plot(auc2[:,0], label='train')\n",
    "plt.plot(auc2[:,1], label='test')\n",
    "plt.title('AUC')\n",
    "plt.legend()\n",
    "plt.show()"
   ]
  },
  {
   "cell_type": "code",
   "execution_count": 95,
   "metadata": {},
   "outputs": [
    {
     "data": {
      "image/png": "[encoded data removed]",
      "text/plain": [
       "<Figure size 432x288 with 1 Axes>"
      ]
     },
     "metadata": {
      "needs_background": "light"
     },
     "output_type": "display_data"
    }
   ],
   "source": [
    "plt.plot(rec2[:,0], label='train')\n",
    "plt.plot(rec2[:,1], label='test')\n",
    "plt.title('Recall at k=5')\n",
    "plt.legend()\n",
    "plt.show()"
   ]
  },
  {
   "cell_type": "code",
   "execution_count": 96,
   "metadata": {},
   "outputs": [
    {
     "name": "stdout",
     "output_type": "stream",
     "text": [
      "--- 113.52731037139893 seconds ---\n"
     ]
    }
   ],
   "source": [
    "start_time = time.time()\n",
    "\n",
    "model2= LightFM(learning_rate = 0.005, loss='bpr')\n",
    "#auc=[]\n",
    "rec2=[]\n",
    "\n",
    "for e in range(22):\n",
    "    model2.fit_partial(train, epochs=1, num_threads=4)\n",
    "    #auc_train= auc_score(model, train, num_threads=4).mean()\n",
    "    rec_train= recall_at_k(model2, train, num_threads=4, k=5).mean()\n",
    "    \n",
    "    #auc_test= auc_score(model, test, num_threads=4).mean()\n",
    "    rec_val= recall_at_k(model2, test, num_threads=4, k=5).mean()\n",
    "    \n",
    "    #auc.append((auc_train, auc_test))\n",
    "    rec2.append((rec_train, rec_val))\n",
    "    \n",
    "#auc = np.array(auc)\n",
    "rec2 = np.array(rec2)\n",
    "print(\"--- %s seconds ---\" % (time.time() - start_time))"
   ]
  },
  {
   "cell_type": "code",
   "execution_count": 101,
   "metadata": {},
   "outputs": [
    {
     "data": {
      "text/plain": [
       "0.32280080668173267"
      ]
     },
     "execution_count": 101,
     "metadata": {},
     "output_type": "execute_result"
    }
   ],
   "source": [
    "max(rec2[:,1])"
   ]
  },
  {
   "cell_type": "code",
   "execution_count": 97,
   "metadata": {},
   "outputs": [],
   "source": [
    "cli1_scores2=list(model2.predict(0,list(range(0,141)),num_threads=4))"
   ]
  },
  {
   "cell_type": "code",
   "execution_count": 98,
   "metadata": {},
   "outputs": [],
   "source": [
    "dict2 = dict(zip(items, cli1_scores2))"
   ]
  },
  {
   "cell_type": "code",
   "execution_count": 99,
   "metadata": {},
   "outputs": [],
   "source": [
    "dict2=dict(sorted(dict2.items(), key=lambda item: item[1]))"
   ]
  },
  {
   "cell_type": "code",
   "execution_count": 100,
   "metadata": {},
   "outputs": [
    {
     "data": {
      "text/plain": [
       "[81.0, 78.0, 63.0, 86.0, 126.0]"
      ]
     },
     "execution_count": 100,
     "metadata": {},
     "output_type": "execute_result"
    }
   ],
   "source": [
    "#top 5 canais recomendados para o cli 0\n",
    "list(dict2.keys())[-5:]"
   ]
  },
  {
   "cell_type": "code",
   "execution_count": null,
   "metadata": {},
   "outputs": [],
   "source": [
    "#sklearn recommender"
   ]
  },
  {
   "cell_type": "code",
   "execution_count": 1,
   "metadata": {},
   "outputs": [
    {
     "name": "stdout",
     "output_type": "stream",
     "text": [
      "\u001b[31mDEPRECATION: The default format will switch to columns in the future. You can use --format=(legacy|columns) (or define a format=(legacy|columns) in your pip.conf under the [list] section) to disable this warning.\u001b[0m\n",
      "alembic (1.4.3)\n",
      "apt-xapian-index (0.47)\n",
      "argon2-cffi (20.1.0)\n",
      "asn1crypto (0.24.0)\n",
      "async-generator (1.10)\n",
      "attrs (20.3.0)\n",
      "Automat (0.6.0)\n",
      "backcall (0.2.0)\n",
      "beautifulsoup4 (4.6.0)\n",
      "bleach (3.2.1)\n",
      "blinker (1.4)\n",
      "catboost (0.24.3)\n",
      "certifi (2018.1.18)\n",
      "certipy (0.1.3)\n",
      "cffi (1.14.3)\n",
      "chardet (3.0.4)\n",
      "click (6.7)\n",
      "cloud-init (20.4)\n",
      "colorama (0.3.7)\n",
      "command-not-found (0.3)\n",
      "configobj (5.0.6)\n",
      "confuse (1.4.0)\n",
      "constantly (15.1.0)\n",
      "cryptography (2.1.4)\n",
      "cupshelpers (1.0)\n",
      "cycler (0.10.0)\n",
      "Cython (0.29.21)\n",
      "dataclasses (0.8)\n",
      "decorator (4.4.2)\n",
      "defusedxml (0.6.0)\n",
      "distro-info (0.18ubuntu0.18.04.1)\n",
      "dynetx (0.2.3)\n",
      "entrypoints (0.3)\n",
      "et-xmlfile (1.0.1)\n",
      "future (0.18.2)\n",
      "graphviz (0.15)\n",
      "h5py (2.7.1)\n",
      "html5lib (0.999999999)\n",
      "htmlmin (0.1.12)\n",
      "httplib2 (0.9.2)\n",
      "hyperlink (17.3.1)\n",
      "idna (2.6)\n",
      "ImageHash (4.2.0)\n",
      "imbalanced-learn (0.7.0)\n",
      "imblearn (0.0)\n",
      "implicit (0.4.4)\n",
      "importlib-metadata (3.0.0)\n",
      "incremental (16.10.1)\n",
      "ipykernel (5.3.4)\n",
      "ipython (7.16.1)\n",
      "ipython-genutils (0.2.0)\n",
      "ipywidgets (7.5.1)\n",
      "jdcal (1.4.1)\n",
      "jedi (0.17.2)\n",
      "Jinja2 (2.11.2)\n",
      "joblib (0.11)\n",
      "jsonpatch (1.16)\n",
      "jsonpointer (1.10)\n",
      "jsonschema (3.2.0)\n",
      "jupyter-client (6.1.7)\n",
      "jupyter-core (4.7.0)\n",
      "jupyter-telemetry (0.1.0)\n",
      "jupyterhub (1.2.1)\n",
      "jupyterlab-pygments (0.1.2)\n",
      "Keras (2.1.1)\n",
      "keyring (10.6.0)\n",
      "keyrings.alt (3.0)\n",
      "kiwisolver (1.3.1)\n",
      "kmodes (0.10.2)\n",
      "LambdaRankNN (0.1.1)\n",
      "language-selector (0.1)\n",
      "lightfm (1.16)\n",
      "llvmlite (0.35.0)\n",
      "lxml (4.2.1)\n",
      "Mako (1.1.3)\n",
      "MarkupSafe (1.1.1)\n",
      "matplotlib (3.3.3)\n",
      "missingno (0.4.2)\n",
      "mistune (0.8.4)\n",
      "nbclient (0.5.1)\n",
      "nbconvert (6.0.7)\n",
      "nbformat (5.0.8)\n",
      "nest-asyncio (1.4.3)\n",
      "netifaces (0.10.4)\n",
      "networkx (2.5)\n",
      "nltk (3.5)\n",
      "nose (1.3.7)\n",
      "nose-parameterized (0.3.4)\n",
      "notebook (6.1.5)\n",
      "numba (0.52.0)\n",
      "numexpr (2.6.4)\n",
      "numpy (1.19.4)\n",
      "oauthlib (3.1.0)\n",
      "olefile (0.45.1)\n",
      "openpyxl (3.0.5)\n",
      "packaging (20.4)\n",
      "PAM (0.4.2)\n",
      "pamela (1.0.0)\n",
      "pandas (1.1.5)\n",
      "pandas-profiling (2.9.0)\n",
      "pandocfilters (1.4.3)\n",
      "parso (0.7.1)\n",
      "patsy (0.5.1)\n",
      "pexpect (4.8.0)\n",
      "phik (0.10.0)\n",
      "pickleshare (0.7.5)\n",
      "Pillow (8.0.1)\n",
      "pip (9.0.1)\n",
      "plotly (4.14.1)\n",
      "pluggy (0.6.0)\n",
      "prometheus-client (0.9.0)\n",
      "prompt-toolkit (3.0.8)\n",
      "psycopg2-binary (2.8.6)\n",
      "ptyprocess (0.6.0)\n",
      "py (1.5.2)\n",
      "py4j (0.10.9)\n",
      "pyasn1 (0.4.2)\n",
      "pyasn1-modules (0.2.1)\n",
      "pycairo (1.16.2)\n",
      "pycparser (2.20)\n",
      "pycrypto (2.6.1)\n",
      "pycups (1.9.73)\n",
      "pydot (1.2.3)\n",
      "Pygments (2.7.2)\n",
      "pygobject (3.26.1)\n",
      "PyJWT (1.5.3)\n",
      "PyMySQL (0.10.1)\n",
      "pyOpenSSL (17.5.0)\n",
      "pyparsing (2.4.7)\n",
      "pyrsistent (0.17.3)\n",
      "pyserial (3.4)\n",
      "pyspark (3.0.1)\n",
      "pytest (3.3.2)\n",
      "python-apt (1.6.5+ubuntu0.5)\n",
      "python-dateutil (2.8.1)\n",
      "python-debian (0.1.32)\n",
      "python-editor (1.0.4)\n",
      "python-json-logger (2.0.1)\n",
      "pytz (2018.3)\n",
      "PyWavelets (1.1.1)\n",
      "pyxdg (0.25)\n",
      "PyYAML (3.12)\n",
      "pyzmq (20.0.0)\n",
      "regex (2020.11.13)\n",
      "reportlab (3.4.0)\n",
      "requests (2.25.1)\n",
      "requests-unixsocket (0.1.5)\n",
      "retrying (1.3.3)\n",
      "ruamel.yaml (0.16.12)\n",
      "ruamel.yaml.clib (0.2.2)\n",
      "scikit-learn (0.24.0)\n",
      "scipy (1.5.4)\n",
      "seaborn (0.11.0)\n",
      "SecretStorage (2.3.1)\n",
      "Send2Trash (1.5.0)\n",
      "service-identity (16.0.0)\n",
      "setuptools (50.3.2)\n",
      "simplejson (3.13.2)\n",
      "six (1.15.0)\n",
      "SQLAlchemy (1.3.20)\n",
      "ssh-import-id (5.7)\n",
      "statsmodels (0.12.1)\n",
      "systemd-python (234)\n",
      "tables (3.4.2)\n",
      "tangled-up-in-unicode (0.0.6)\n",
      "terminado (0.9.1)\n",
      "testpath (0.4.4)\n",
      "Theano (0.9.0)\n",
      "threadpoolctl (2.1.0)\n",
      "torch (1.7.0)\n",
      "tornado (6.1)\n",
      "tqdm (4.54.1)\n",
      "traitlets (4.3.3)\n",
      "Twisted (17.9.0)\n",
      "typing-extensions (3.7.4.3)\n",
      "ubuntu-drivers-common (0.0.0)\n",
      "ufw (0.36)\n",
      "unattended-upgrades (0.1)\n",
      "urllib3 (1.22)\n",
      "visions (0.5.0)\n",
      "wcwidth (0.2.5)\n",
      "webencodings (0.5.1)\n",
      "wheel (0.30.0)\n",
      "widgetsnbextension (3.5.1)\n",
      "xkit (0.0.0)\n",
      "xlrd (2.0.1)\n",
      "zipp (3.4.0)\n",
      "zope.interface (4.3.2)\n",
      "Note: you may need to restart the kernel to use updated packages.\n"
     ]
    }
   ],
   "source": [
    "pip list"
   ]
  },
  {
   "cell_type": "code",
   "execution_count": null,
   "metadata": {},
   "outputs": [],
   "source": []
  }
 ],
 "metadata": {
  "kernelspec": {
   "display_name": "Python 3",
   "language": "python",
   "name": "python3"
  },
  "language_info": {
   "codemirror_mode": {
    "name": "ipython",
    "version": 3
   },
   "file_extension": ".py",
   "mimetype": "text/x-python",
   "name": "python",
   "nbconvert_exporter": "python",
   "pygments_lexer": "ipython3",
   "version": "3.6.9"
  }
 },
 "nbformat": 4,
 "nbformat_minor": 4
}
