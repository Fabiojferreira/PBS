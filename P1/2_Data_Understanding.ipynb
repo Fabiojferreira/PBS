{
 "cells": [
  {
   "cell_type": "code",
   "execution_count": 1,
   "metadata": {},
   "outputs": [],
   "source": [
    "import pandas as pd\n",
    "\n",
    "account=pd.read_parquet('account.gzip') \n",
    "card_dev=pd.read_parquet('card_dev.gzip') \n",
    "client=pd.read_parquet('client.gzip') \n",
    "disp=pd.read_parquet('disp.gzip') \n",
    "district=pd.read_parquet('district.gzip') \n",
    "loan_dev=pd.read_parquet('loan_dev.gzip') \n",
    "trans_dev=pd.read_parquet('trans_dev.gzip')"
   ]
  },
  {
   "cell_type": "markdown",
   "metadata": {},
   "source": [
    "## Conclusões sobre chaves primárias"
   ]
  },
  {
   "cell_type": "code",
   "execution_count": 2,
   "metadata": {},
   "outputs": [
    {
     "data": {
      "text/plain": [
       "True"
      ]
     },
     "execution_count": 2,
     "metadata": {},
     "output_type": "execute_result"
    }
   ],
   "source": [
    "#tanto o disp_id como o client_id servem para chave primária\n",
    "#(ou seja disp_id também funciona como o código do cliente)\n",
    "disp.client_id.unique().shape==disp.disp_id.unique().shape"
   ]
  },
  {
   "cell_type": "code",
   "execution_count": 3,
   "metadata": {},
   "outputs": [
    {
     "data": {
      "text/plain": [
       "(4500,)"
      ]
     },
     "execution_count": 3,
     "metadata": {},
     "output_type": "execute_result"
    }
   ],
   "source": [
    "#não esquecer que existem contas com mais de um cliente\n",
    "disp.account_id.unique().shape"
   ]
  },
  {
   "cell_type": "code",
   "execution_count": 4,
   "metadata": {},
   "outputs": [
    {
     "data": {
      "text/html": [
       "<div>\n",
       "<style scoped>\n",
       "    .dataframe tbody tr th:only-of-type {\n",
       "        vertical-align: middle;\n",
       "    }\n",
       "\n",
       "    .dataframe tbody tr th {\n",
       "        vertical-align: top;\n",
       "    }\n",
       "\n",
       "    .dataframe thead th {\n",
       "        text-align: right;\n",
       "    }\n",
       "</style>\n",
       "<table border=\"1\" class=\"dataframe\">\n",
       "  <thead>\n",
       "    <tr style=\"text-align: right;\">\n",
       "      <th></th>\n",
       "      <th>account_id</th>\n",
       "      <th>client_id</th>\n",
       "    </tr>\n",
       "  </thead>\n",
       "  <tbody>\n",
       "  </tbody>\n",
       "</table>\n",
       "</div>"
      ],
      "text/plain": [
       "Empty DataFrame\n",
       "Columns: [account_id, client_id]\n",
       "Index: []"
      ]
     },
     "execution_count": 4,
     "metadata": {},
     "output_type": "execute_result"
    }
   ],
   "source": [
    "#cada conta tem no máximo 2 pessoas\n",
    "gb_ac=disp.groupby('account_id')['client_id'].count().reset_index()\n",
    "gb_ac.loc[gb_ac.client_id>2]"
   ]
  },
  {
   "cell_type": "code",
   "execution_count": 5,
   "metadata": {},
   "outputs": [
    {
     "data": {
      "text/plain": [
       "True"
      ]
     },
     "execution_count": 5,
     "metadata": {},
     "output_type": "execute_result"
    }
   ],
   "source": [
    "#tanto o disp_id como o card_id servem para chave primária\n",
    "#(como o disp_id também funciona como o código do cliente, cada cliente tem no máx um cartão)\n",
    "#(esta tabela só tem 1º tit!!)\n",
    "card_dev.card_id.unique().shape==card_dev.disp_id.unique().shape"
   ]
  },
  {
   "cell_type": "markdown",
   "metadata": {},
   "source": [
    "#### concluo que cada cliente tem no máx 1 cartão associado!"
   ]
  },
  {
   "cell_type": "code",
   "execution_count": 6,
   "metadata": {},
   "outputs": [
    {
     "data": {
      "text/plain": [
       "True"
      ]
     },
     "execution_count": 6,
     "metadata": {},
     "output_type": "execute_result"
    }
   ],
   "source": [
    "#tanto o account_id como o loan_id servem para chave primária\n",
    "loan_dev.loan_id.unique().shape==loan_dev.account_id.unique().shape"
   ]
  },
  {
   "cell_type": "markdown",
   "metadata": {},
   "source": [
    "### Perceber categorias na tabela trans"
   ]
  },
  {
   "cell_type": "code",
   "execution_count": 15,
   "metadata": {},
   "outputs": [],
   "source": [
    "trans_dev['generation']= trans_dev['trans_date'].dt.strftime('%Y-%m')"
   ]
  },
  {
   "cell_type": "code",
   "execution_count": 16,
   "metadata": {},
   "outputs": [
    {
     "data": {
      "text/html": [
       "<div>\n",
       "<style scoped>\n",
       "    .dataframe tbody tr th:only-of-type {\n",
       "        vertical-align: middle;\n",
       "    }\n",
       "\n",
       "    .dataframe tbody tr th {\n",
       "        vertical-align: top;\n",
       "    }\n",
       "\n",
       "    .dataframe thead th {\n",
       "        text-align: right;\n",
       "    }\n",
       "</style>\n",
       "<table border=\"1\" class=\"dataframe\">\n",
       "  <thead>\n",
       "    <tr style=\"text-align: right;\">\n",
       "      <th></th>\n",
       "      <th>trans_id</th>\n",
       "      <th>account_id</th>\n",
       "      <th>type</th>\n",
       "      <th>operation</th>\n",
       "      <th>amount</th>\n",
       "      <th>balance</th>\n",
       "      <th>k_symbol</th>\n",
       "      <th>bank</th>\n",
       "      <th>account</th>\n",
       "      <th>trans_date</th>\n",
       "      <th>generation</th>\n",
       "    </tr>\n",
       "  </thead>\n",
       "  <tbody>\n",
       "    <tr>\n",
       "      <th>73782</th>\n",
       "      <td>18045</td>\n",
       "      <td>61</td>\n",
       "      <td>withdrawal</td>\n",
       "      <td>remittance to another bank</td>\n",
       "      <td>1645.0</td>\n",
       "      <td>19150.0</td>\n",
       "      <td>household</td>\n",
       "      <td>EF</td>\n",
       "      <td>20533621.0</td>\n",
       "      <td>1994-05-13</td>\n",
       "      <td>1994-05</td>\n",
       "    </tr>\n",
       "    <tr>\n",
       "      <th>77744</th>\n",
       "      <td>18118</td>\n",
       "      <td>61</td>\n",
       "      <td>withdrawal</td>\n",
       "      <td>remittance to another bank</td>\n",
       "      <td>668.0</td>\n",
       "      <td>18516.3</td>\n",
       "      <td>Missing</td>\n",
       "      <td>IJ</td>\n",
       "      <td>20426410.0</td>\n",
       "      <td>1994-06-05</td>\n",
       "      <td>1994-06</td>\n",
       "    </tr>\n",
       "    <tr>\n",
       "      <th>80116</th>\n",
       "      <td>18046</td>\n",
       "      <td>61</td>\n",
       "      <td>withdrawal</td>\n",
       "      <td>remittance to another bank</td>\n",
       "      <td>1645.0</td>\n",
       "      <td>20890.3</td>\n",
       "      <td>household</td>\n",
       "      <td>EF</td>\n",
       "      <td>20533621.0</td>\n",
       "      <td>1994-06-13</td>\n",
       "      <td>1994-06</td>\n",
       "    </tr>\n",
       "    <tr>\n",
       "      <th>84325</th>\n",
       "      <td>18119</td>\n",
       "      <td>61</td>\n",
       "      <td>withdrawal</td>\n",
       "      <td>remittance to another bank</td>\n",
       "      <td>668.0</td>\n",
       "      <td>20294.7</td>\n",
       "      <td>Missing</td>\n",
       "      <td>IJ</td>\n",
       "      <td>20426410.0</td>\n",
       "      <td>1994-07-05</td>\n",
       "      <td>1994-07</td>\n",
       "    </tr>\n",
       "    <tr>\n",
       "      <th>86505</th>\n",
       "      <td>18047</td>\n",
       "      <td>61</td>\n",
       "      <td>withdrawal</td>\n",
       "      <td>remittance to another bank</td>\n",
       "      <td>1645.0</td>\n",
       "      <td>22668.7</td>\n",
       "      <td>household</td>\n",
       "      <td>EF</td>\n",
       "      <td>20533621.0</td>\n",
       "      <td>1994-07-13</td>\n",
       "      <td>1994-07</td>\n",
       "    </tr>\n",
       "  </tbody>\n",
       "</table>\n",
       "</div>"
      ],
      "text/plain": [
       "       trans_id  account_id        type                   operation  amount  \\\n",
       "73782     18045          61  withdrawal  remittance to another bank  1645.0   \n",
       "77744     18118          61  withdrawal  remittance to another bank   668.0   \n",
       "80116     18046          61  withdrawal  remittance to another bank  1645.0   \n",
       "84325     18119          61  withdrawal  remittance to another bank   668.0   \n",
       "86505     18047          61  withdrawal  remittance to another bank  1645.0   \n",
       "\n",
       "       balance   k_symbol bank     account trans_date generation  \n",
       "73782  19150.0  household   EF  20533621.0 1994-05-13    1994-05  \n",
       "77744  18516.3    Missing   IJ  20426410.0 1994-06-05    1994-06  \n",
       "80116  20890.3  household   EF  20533621.0 1994-06-13    1994-06  \n",
       "84325  20294.7    Missing   IJ  20426410.0 1994-07-05    1994-07  \n",
       "86505  22668.7  household   EF  20533621.0 1994-07-13    1994-07  "
      ]
     },
     "execution_count": 16,
     "metadata": {},
     "output_type": "execute_result"
    }
   ],
   "source": [
    "trans_dev.loc[(trans_dev.account_id==61) & (trans_dev.operation.str.contains('remitt', na=False))].head()"
   ]
  },
  {
   "cell_type": "code",
   "execution_count": 17,
   "metadata": {},
   "outputs": [
    {
     "data": {
      "text/plain": [
       "array(['Missing', 'interest credited', 'household',\n",
       "       'payment for statement', 'insurrance payment',\n",
       "       'sanction interest if negative balance', 'old-age pension'],\n",
       "      dtype=object)"
      ]
     },
     "execution_count": 17,
     "metadata": {},
     "output_type": "execute_result"
    }
   ],
   "source": [
    "trans_dev.k_symbol.unique()"
   ]
  },
  {
   "cell_type": "code",
   "execution_count": 18,
   "metadata": {},
   "outputs": [
    {
     "data": {
      "text/plain": [
       "(305, 11)"
      ]
     },
     "execution_count": 18,
     "metadata": {},
     "output_type": "execute_result"
    }
   ],
   "source": [
    "#sanction aparece quando o cartão teve uma penalização!\n",
    "trans_dev.loc[trans_dev.k_symbol.str.contains('sanction', na=False)].shape"
   ]
  },
  {
   "cell_type": "code",
   "execution_count": 19,
   "metadata": {},
   "outputs": [
    {
     "data": {
      "text/plain": [
       "(105, 11)"
      ]
     },
     "execution_count": 19,
     "metadata": {},
     "output_type": "execute_result"
    }
   ],
   "source": [
    "trans_dev.loc[(trans_dev.balance<0) & (trans_dev.k_symbol.str.contains('sanction', na=False))].shape"
   ]
  },
  {
   "cell_type": "code",
   "execution_count": 20,
   "metadata": {},
   "outputs": [
    {
     "data": {
      "text/plain": [
       "(512, 11)"
      ]
     },
     "execution_count": 20,
     "metadata": {},
     "output_type": "execute_result"
    }
   ],
   "source": [
    "trans_dev.loc[(trans_dev.balance<0)].shape"
   ]
  },
  {
   "cell_type": "code",
   "execution_count": 21,
   "metadata": {},
   "outputs": [
    {
     "data": {
      "text/plain": [
       "(712, 11)"
      ]
     },
     "execution_count": 21,
     "metadata": {},
     "output_type": "execute_result"
    }
   ],
   "source": [
    "#contas arriscadas??\n",
    "trans_dev.loc[(trans_dev.balance<0) | (trans_dev.k_symbol.str.contains('sanction', na=False))].shape"
   ]
  },
  {
   "cell_type": "code",
   "execution_count": 22,
   "metadata": {},
   "outputs": [
    {
     "data": {
      "text/html": [
       "<div>\n",
       "<style scoped>\n",
       "    .dataframe tbody tr th:only-of-type {\n",
       "        vertical-align: middle;\n",
       "    }\n",
       "\n",
       "    .dataframe tbody tr th {\n",
       "        vertical-align: top;\n",
       "    }\n",
       "\n",
       "    .dataframe thead th {\n",
       "        text-align: right;\n",
       "    }\n",
       "</style>\n",
       "<table border=\"1\" class=\"dataframe\">\n",
       "  <thead>\n",
       "    <tr style=\"text-align: right;\">\n",
       "      <th></th>\n",
       "      <th>trans_id</th>\n",
       "      <th>account_id</th>\n",
       "      <th>type</th>\n",
       "      <th>operation</th>\n",
       "      <th>amount</th>\n",
       "      <th>balance</th>\n",
       "      <th>k_symbol</th>\n",
       "      <th>bank</th>\n",
       "      <th>account</th>\n",
       "      <th>trans_date</th>\n",
       "      <th>generation</th>\n",
       "    </tr>\n",
       "  </thead>\n",
       "  <tbody>\n",
       "    <tr>\n",
       "      <th>0</th>\n",
       "      <td>1548749</td>\n",
       "      <td>5270</td>\n",
       "      <td>credit</td>\n",
       "      <td>credit in cash</td>\n",
       "      <td>800.0</td>\n",
       "      <td>800.0</td>\n",
       "      <td>Missing</td>\n",
       "      <td>Missing</td>\n",
       "      <td>NaN</td>\n",
       "      <td>1993-01-13</td>\n",
       "      <td>1993-01</td>\n",
       "    </tr>\n",
       "    <tr>\n",
       "      <th>1</th>\n",
       "      <td>1548750</td>\n",
       "      <td>5270</td>\n",
       "      <td>credit</td>\n",
       "      <td>collection from another bank</td>\n",
       "      <td>44749.0</td>\n",
       "      <td>45549.0</td>\n",
       "      <td>Missing</td>\n",
       "      <td>IJ</td>\n",
       "      <td>80269753.0</td>\n",
       "      <td>1993-01-14</td>\n",
       "      <td>1993-01</td>\n",
       "    </tr>\n",
       "    <tr>\n",
       "      <th>12</th>\n",
       "      <td>3669814</td>\n",
       "      <td>5270</td>\n",
       "      <td>credit</td>\n",
       "      <td>Missing</td>\n",
       "      <td>110.2</td>\n",
       "      <td>45659.2</td>\n",
       "      <td>interest credited</td>\n",
       "      <td>Missing</td>\n",
       "      <td>NaN</td>\n",
       "      <td>1993-01-31</td>\n",
       "      <td>1993-01</td>\n",
       "    </tr>\n",
       "    <tr>\n",
       "      <th>27</th>\n",
       "      <td>1549098</td>\n",
       "      <td>5270</td>\n",
       "      <td>withdrawal</td>\n",
       "      <td>withdrawal in cash</td>\n",
       "      <td>9600.0</td>\n",
       "      <td>36059.2</td>\n",
       "      <td>Missing</td>\n",
       "      <td>Missing</td>\n",
       "      <td>NaN</td>\n",
       "      <td>1993-02-12</td>\n",
       "      <td>1993-02</td>\n",
       "    </tr>\n",
       "    <tr>\n",
       "      <th>32</th>\n",
       "      <td>1548751</td>\n",
       "      <td>5270</td>\n",
       "      <td>credit</td>\n",
       "      <td>collection from another bank</td>\n",
       "      <td>44749.0</td>\n",
       "      <td>80808.2</td>\n",
       "      <td>Missing</td>\n",
       "      <td>IJ</td>\n",
       "      <td>80269753.0</td>\n",
       "      <td>1993-02-14</td>\n",
       "      <td>1993-02</td>\n",
       "    </tr>\n",
       "    <tr>\n",
       "      <th>55</th>\n",
       "      <td>3669815</td>\n",
       "      <td>5270</td>\n",
       "      <td>credit</td>\n",
       "      <td>Missing</td>\n",
       "      <td>268.5</td>\n",
       "      <td>81076.7</td>\n",
       "      <td>interest credited</td>\n",
       "      <td>Missing</td>\n",
       "      <td>NaN</td>\n",
       "      <td>1993-02-28</td>\n",
       "      <td>1993-02</td>\n",
       "    </tr>\n",
       "    <tr>\n",
       "      <th>89</th>\n",
       "      <td>1548752</td>\n",
       "      <td>5270</td>\n",
       "      <td>credit</td>\n",
       "      <td>collection from another bank</td>\n",
       "      <td>44749.0</td>\n",
       "      <td>125825.7</td>\n",
       "      <td>Missing</td>\n",
       "      <td>IJ</td>\n",
       "      <td>80269753.0</td>\n",
       "      <td>1993-03-14</td>\n",
       "      <td>1993-03</td>\n",
       "    </tr>\n",
       "    <tr>\n",
       "      <th>90</th>\n",
       "      <td>1549099</td>\n",
       "      <td>5270</td>\n",
       "      <td>withdrawal</td>\n",
       "      <td>withdrawal in cash</td>\n",
       "      <td>51700.0</td>\n",
       "      <td>74125.7</td>\n",
       "      <td>Missing</td>\n",
       "      <td>Missing</td>\n",
       "      <td>NaN</td>\n",
       "      <td>1993-03-14</td>\n",
       "      <td>1993-03</td>\n",
       "    </tr>\n",
       "    <tr>\n",
       "      <th>91</th>\n",
       "      <td>1549100</td>\n",
       "      <td>5270</td>\n",
       "      <td>withdrawal</td>\n",
       "      <td>withdrawal in cash</td>\n",
       "      <td>25300.0</td>\n",
       "      <td>48825.7</td>\n",
       "      <td>Missing</td>\n",
       "      <td>Missing</td>\n",
       "      <td>NaN</td>\n",
       "      <td>1993-03-14</td>\n",
       "      <td>1993-03</td>\n",
       "    </tr>\n",
       "    <tr>\n",
       "      <th>158</th>\n",
       "      <td>3669816</td>\n",
       "      <td>5270</td>\n",
       "      <td>credit</td>\n",
       "      <td>Missing</td>\n",
       "      <td>259.3</td>\n",
       "      <td>49085.0</td>\n",
       "      <td>interest credited</td>\n",
       "      <td>Missing</td>\n",
       "      <td>NaN</td>\n",
       "      <td>1993-03-31</td>\n",
       "      <td>1993-03</td>\n",
       "    </tr>\n",
       "  </tbody>\n",
       "</table>\n",
       "</div>"
      ],
      "text/plain": [
       "     trans_id  account_id        type                     operation   amount  \\\n",
       "0     1548749        5270      credit                credit in cash    800.0   \n",
       "1     1548750        5270      credit  collection from another bank  44749.0   \n",
       "12    3669814        5270      credit                       Missing    110.2   \n",
       "27    1549098        5270  withdrawal            withdrawal in cash   9600.0   \n",
       "32    1548751        5270      credit  collection from another bank  44749.0   \n",
       "55    3669815        5270      credit                       Missing    268.5   \n",
       "89    1548752        5270      credit  collection from another bank  44749.0   \n",
       "90    1549099        5270  withdrawal            withdrawal in cash  51700.0   \n",
       "91    1549100        5270  withdrawal            withdrawal in cash  25300.0   \n",
       "158   3669816        5270      credit                       Missing    259.3   \n",
       "\n",
       "      balance           k_symbol     bank     account trans_date generation  \n",
       "0       800.0            Missing  Missing         NaN 1993-01-13    1993-01  \n",
       "1     45549.0            Missing       IJ  80269753.0 1993-01-14    1993-01  \n",
       "12    45659.2  interest credited  Missing         NaN 1993-01-31    1993-01  \n",
       "27    36059.2            Missing  Missing         NaN 1993-02-12    1993-02  \n",
       "32    80808.2            Missing       IJ  80269753.0 1993-02-14    1993-02  \n",
       "55    81076.7  interest credited  Missing         NaN 1993-02-28    1993-02  \n",
       "89   125825.7            Missing       IJ  80269753.0 1993-03-14    1993-03  \n",
       "90    74125.7            Missing  Missing         NaN 1993-03-14    1993-03  \n",
       "91    48825.7            Missing  Missing         NaN 1993-03-14    1993-03  \n",
       "158   49085.0  interest credited  Missing         NaN 1993-03-31    1993-03  "
      ]
     },
     "execution_count": 22,
     "metadata": {},
     "output_type": "execute_result"
    }
   ],
   "source": [
    "#operation: collection from another bank - é o ordenado?\n",
    "#k_symbol: interest credited - juros de uma conta poupança?\n",
    "trans_dev.loc[trans_dev.account_id==5270].head(10)"
   ]
  },
  {
   "cell_type": "code",
   "execution_count": 23,
   "metadata": {},
   "outputs": [
    {
     "data": {
      "text/html": [
       "<div>\n",
       "<style scoped>\n",
       "    .dataframe tbody tr th:only-of-type {\n",
       "        vertical-align: middle;\n",
       "    }\n",
       "\n",
       "    .dataframe tbody tr th {\n",
       "        vertical-align: top;\n",
       "    }\n",
       "\n",
       "    .dataframe thead th {\n",
       "        text-align: right;\n",
       "    }\n",
       "</style>\n",
       "<table border=\"1\" class=\"dataframe\">\n",
       "  <thead>\n",
       "    <tr style=\"text-align: right;\">\n",
       "      <th></th>\n",
       "      <th>account_id</th>\n",
       "      <th>generation</th>\n",
       "      <th>operation</th>\n",
       "      <th>amount</th>\n",
       "    </tr>\n",
       "  </thead>\n",
       "  <tbody>\n",
       "  </tbody>\n",
       "</table>\n",
       "</div>"
      ],
      "text/plain": [
       "Empty DataFrame\n",
       "Columns: [account_id, generation, operation, amount]\n",
       "Index: []"
      ]
     },
     "execution_count": 23,
     "metadata": {},
     "output_type": "execute_result"
    }
   ],
   "source": [
    "#collection from another bank aparece no máx uma vez por mês\n",
    "gb_rev=trans_dev.loc[trans_dev.operation=='collection from another bank'].groupby(['account_id','generation']).agg({'operation': 'count', 'amount': 'sum'}).reset_index()\n",
    "gb_rev.loc[gb_rev.operation>1]"
   ]
  },
  {
   "cell_type": "code",
   "execution_count": 24,
   "metadata": {},
   "outputs": [
    {
     "data": {
      "text/html": [
       "<div>\n",
       "<style scoped>\n",
       "    .dataframe tbody tr th:only-of-type {\n",
       "        vertical-align: middle;\n",
       "    }\n",
       "\n",
       "    .dataframe tbody tr th {\n",
       "        vertical-align: top;\n",
       "    }\n",
       "\n",
       "    .dataframe thead th {\n",
       "        text-align: right;\n",
       "    }\n",
       "</style>\n",
       "<table border=\"1\" class=\"dataframe\">\n",
       "  <thead>\n",
       "    <tr style=\"text-align: right;\">\n",
       "      <th></th>\n",
       "      <th>trans_id</th>\n",
       "      <th>account_id</th>\n",
       "      <th>type</th>\n",
       "      <th>operation</th>\n",
       "      <th>amount</th>\n",
       "      <th>balance</th>\n",
       "      <th>k_symbol</th>\n",
       "      <th>bank</th>\n",
       "      <th>account</th>\n",
       "      <th>trans_date</th>\n",
       "      <th>generation</th>\n",
       "    </tr>\n",
       "  </thead>\n",
       "  <tbody>\n",
       "  </tbody>\n",
       "</table>\n",
       "</div>"
      ],
      "text/plain": [
       "Empty DataFrame\n",
       "Columns: [trans_id, account_id, type, operation, amount, balance, k_symbol, bank, account, trans_date, generation]\n",
       "Index: []"
      ]
     },
     "execution_count": 24,
     "metadata": {},
     "output_type": "execute_result"
    }
   ],
   "source": [
    "#opeartion=Missing <=> k_symbol=interest credited\n",
    "trans_dev.loc[(trans_dev.operation=='Missing') & (trans_dev.k_symbol!='interest credited')]"
   ]
  },
  {
   "cell_type": "code",
   "execution_count": 25,
   "metadata": {},
   "outputs": [
    {
     "data": {
      "text/html": [
       "<div>\n",
       "<style scoped>\n",
       "    .dataframe tbody tr th:only-of-type {\n",
       "        vertical-align: middle;\n",
       "    }\n",
       "\n",
       "    .dataframe tbody tr th {\n",
       "        vertical-align: top;\n",
       "    }\n",
       "\n",
       "    .dataframe thead th {\n",
       "        text-align: right;\n",
       "    }\n",
       "</style>\n",
       "<table border=\"1\" class=\"dataframe\">\n",
       "  <thead>\n",
       "    <tr style=\"text-align: right;\">\n",
       "      <th></th>\n",
       "      <th>trans_id</th>\n",
       "      <th>account_id</th>\n",
       "      <th>type</th>\n",
       "      <th>operation</th>\n",
       "      <th>amount</th>\n",
       "      <th>balance</th>\n",
       "      <th>k_symbol</th>\n",
       "      <th>bank</th>\n",
       "      <th>account</th>\n",
       "      <th>trans_date</th>\n",
       "      <th>generation</th>\n",
       "    </tr>\n",
       "  </thead>\n",
       "  <tbody>\n",
       "  </tbody>\n",
       "</table>\n",
       "</div>"
      ],
      "text/plain": [
       "Empty DataFrame\n",
       "Columns: [trans_id, account_id, type, operation, amount, balance, k_symbol, bank, account, trans_date, generation]\n",
       "Index: []"
      ]
     },
     "execution_count": 25,
     "metadata": {},
     "output_type": "execute_result"
    }
   ],
   "source": [
    "#opeartion=Missing <=> k_symbol=interest credited\n",
    "trans_dev.loc[(trans_dev.operation!='Missing') & (trans_dev.k_symbol=='interest credited')]"
   ]
  },
  {
   "cell_type": "markdown",
   "metadata": {},
   "source": [
    "## Informações de Conta"
   ]
  },
  {
   "cell_type": "code",
   "execution_count": 26,
   "metadata": {},
   "outputs": [],
   "source": [
    "account_d=account.merge(disp,left_on='account_id',right_on='account_id',how='inner')\n",
    "#4500 linhas para 5369 (ok)"
   ]
  },
  {
   "cell_type": "code",
   "execution_count": 27,
   "metadata": {},
   "outputs": [],
   "source": [
    "account_dc=account_d.merge(client,left_on='client_id',right_on='client_id',how='inner',suffixes=('_ac', '_cli'))\n",
    "#mantem 5369\n",
    "#dados com incongruencias no district (percebido que um é da filial e outro do cliente)"
   ]
  },
  {
   "cell_type": "code",
   "execution_count": 28,
   "metadata": {},
   "outputs": [],
   "source": [
    "account_dc.loc[account_dc.district_id_ac!=account_dc.district_id_cli,'change_district']=1\n",
    "account_dc.loc[account_dc.district_id_ac==account_dc.district_id_cli,'change_district']=0"
   ]
  },
  {
   "cell_type": "code",
   "execution_count": 29,
   "metadata": {},
   "outputs": [
    {
     "data": {
      "text/html": [
       "<div>\n",
       "<style scoped>\n",
       "    .dataframe tbody tr th:only-of-type {\n",
       "        vertical-align: middle;\n",
       "    }\n",
       "\n",
       "    .dataframe tbody tr th {\n",
       "        vertical-align: top;\n",
       "    }\n",
       "\n",
       "    .dataframe thead th {\n",
       "        text-align: right;\n",
       "    }\n",
       "</style>\n",
       "<table border=\"1\" class=\"dataframe\">\n",
       "  <thead>\n",
       "    <tr style=\"text-align: right;\">\n",
       "      <th></th>\n",
       "      <th>account_id</th>\n",
       "      <th>district_id</th>\n",
       "      <th>frequency</th>\n",
       "      <th>ac_date</th>\n",
       "      <th>disp_id</th>\n",
       "      <th>client_id</th>\n",
       "      <th>type</th>\n",
       "    </tr>\n",
       "  </thead>\n",
       "  <tbody>\n",
       "    <tr>\n",
       "      <th>0</th>\n",
       "      <td>576</td>\n",
       "      <td>55</td>\n",
       "      <td>monthly issuance</td>\n",
       "      <td>1993-01-01</td>\n",
       "      <td>692</td>\n",
       "      <td>692</td>\n",
       "      <td>OWNER</td>\n",
       "    </tr>\n",
       "  </tbody>\n",
       "</table>\n",
       "</div>"
      ],
      "text/plain": [
       "   account_id  district_id         frequency    ac_date  disp_id  client_id  \\\n",
       "0         576           55  monthly issuance 1993-01-01      692        692   \n",
       "\n",
       "    type  \n",
       "0  OWNER  "
      ]
     },
     "execution_count": 29,
     "metadata": {},
     "output_type": "execute_result"
    }
   ],
   "source": [
    "#um exemplo da diferença\n",
    "account_d.loc[account_d.client_id==692]"
   ]
  },
  {
   "cell_type": "code",
   "execution_count": 30,
   "metadata": {},
   "outputs": [
    {
     "data": {
      "text/html": [
       "<div>\n",
       "<style scoped>\n",
       "    .dataframe tbody tr th:only-of-type {\n",
       "        vertical-align: middle;\n",
       "    }\n",
       "\n",
       "    .dataframe tbody tr th {\n",
       "        vertical-align: top;\n",
       "    }\n",
       "\n",
       "    .dataframe thead th {\n",
       "        text-align: right;\n",
       "    }\n",
       "</style>\n",
       "<table border=\"1\" class=\"dataframe\">\n",
       "  <thead>\n",
       "    <tr style=\"text-align: right;\">\n",
       "      <th></th>\n",
       "      <th>client_id</th>\n",
       "      <th>district_id</th>\n",
       "      <th>sex</th>\n",
       "      <th>birth_date</th>\n",
       "    </tr>\n",
       "  </thead>\n",
       "  <tbody>\n",
       "    <tr>\n",
       "      <th>660</th>\n",
       "      <td>692</td>\n",
       "      <td>74</td>\n",
       "      <td>F</td>\n",
       "      <td>1936-01-11</td>\n",
       "    </tr>\n",
       "  </tbody>\n",
       "</table>\n",
       "</div>"
      ],
      "text/plain": [
       "     client_id  district_id sex birth_date\n",
       "660        692           74   F 1936-01-11"
      ]
     },
     "execution_count": 30,
     "metadata": {},
     "output_type": "execute_result"
    }
   ],
   "source": [
    "client.loc[client.client_id==692]"
   ]
  },
  {
   "cell_type": "code",
   "execution_count": 31,
   "metadata": {},
   "outputs": [
    {
     "data": {
      "text/plain": [
       "Index(['account_id', 'district_id_ac', 'frequency', 'ac_date', 'disp_id',\n",
       "       'client_id', 'type', 'district_id_cli', 'sex', 'birth_date',\n",
       "       'change_district'],\n",
       "      dtype='object')"
      ]
     },
     "execution_count": 31,
     "metadata": {},
     "output_type": "execute_result"
    }
   ],
   "source": [
    "account_dc.columns"
   ]
  },
  {
   "cell_type": "code",
   "execution_count": 32,
   "metadata": {},
   "outputs": [],
   "source": [
    "#organizar colunas\n",
    "account_dc=account_dc[['account_id', 'district_id_ac', 'district_id_cli', 'disp_id', 'client_id', \n",
    "                       'ac_date', 'birth_date',\n",
    "                        'frequency','type', 'sex', 'change_district']]"
   ]
  },
  {
   "cell_type": "code",
   "execution_count": 33,
   "metadata": {},
   "outputs": [],
   "source": [
    "account_dcd=account_dc.merge(district, left_on='district_id_cli', right_on='code', how='inner')\n",
    "account_dcd.drop(['code', 'client_id'],axis=1,inplace=True)\n",
    "#mantem 5369"
   ]
  },
  {
   "cell_type": "code",
   "execution_count": 34,
   "metadata": {},
   "outputs": [
    {
     "data": {
      "text/plain": [
       "Index(['account_id', 'district_id_ac', 'district_id_cli', 'disp_id', 'ac_date',\n",
       "       'birth_date', 'frequency', 'type', 'sex', 'change_district', 'name',\n",
       "       'region', 'no_inhabitants', 'no_municipalities_with_inhabitants_499',\n",
       "       'no_municipalities_inhabitants_500_1999',\n",
       "       'no_municipalities_with_inhabitants_2000_9999',\n",
       "       'no_municipalities_with_inhabitants_10000', 'no_cities',\n",
       "       'ratio_urban_inhabitants', 'average_salary', 'unemploymant_rate_95',\n",
       "       'unemploymant_rate_96', 'no_enterpreneurs_per_1000_inhabitants',\n",
       "       'no_commited_crimes_95', 'no_commited_crimes_96'],\n",
       "      dtype='object')"
      ]
     },
     "execution_count": 34,
     "metadata": {},
     "output_type": "execute_result"
    }
   ],
   "source": [
    "account_dcd.columns"
   ]
  },
  {
   "cell_type": "markdown",
   "metadata": {},
   "source": [
    "## Créditos com cartão"
   ]
  },
  {
   "cell_type": "code",
   "execution_count": 35,
   "metadata": {},
   "outputs": [],
   "source": [
    "card_ac=card_dev.merge(account_dcd,left_on='disp_id',right_on='disp_id',how='inner',suffixes=('_card', '_disp'))\n",
    "\n",
    "card_ac.drop(['card_id'],axis=1,inplace=True)"
   ]
  },
  {
   "cell_type": "code",
   "execution_count": 36,
   "metadata": {},
   "outputs": [],
   "source": [
    "#organizar a base de dados\n",
    "card_ac=card_ac[['disp_id', 'account_id', \n",
    "       'issued_date', 'ac_date', 'birth_date',\n",
    "       'type_card', 'frequency', 'type_disp', 'sex', 'change_district',\n",
    "       'name', 'region', 'no_inhabitants',\n",
    "       'no_municipalities_with_inhabitants_499',\n",
    "       'no_municipalities_inhabitants_500_1999',\n",
    "       'no_municipalities_with_inhabitants_2000_9999',\n",
    "       'no_municipalities_with_inhabitants_10000', 'no_cities',\n",
    "       'ratio_urban_inhabitants', 'average_salary', 'unemploymant_rate_95',\n",
    "       'unemploymant_rate_96', 'no_enterpreneurs_per_1000_inhabitants',\n",
    "       'no_commited_crimes_95', 'no_commited_crimes_96']]\n",
    "\n",
    "#rename colunamas\n",
    "card_ac.rename(columns={'issued_date':'product_date', 'type_card':'card_type',}, inplace=True)"
   ]
  },
  {
   "cell_type": "markdown",
   "metadata": {},
   "source": [
    "## Créditos clássicos"
   ]
  },
  {
   "cell_type": "code",
   "execution_count": 37,
   "metadata": {},
   "outputs": [
    {
     "data": {
      "text/html": [
       "<div>\n",
       "<style scoped>\n",
       "    .dataframe tbody tr th:only-of-type {\n",
       "        vertical-align: middle;\n",
       "    }\n",
       "\n",
       "    .dataframe tbody tr th {\n",
       "        vertical-align: top;\n",
       "    }\n",
       "\n",
       "    .dataframe thead th {\n",
       "        text-align: right;\n",
       "    }\n",
       "</style>\n",
       "<table border=\"1\" class=\"dataframe\">\n",
       "  <thead>\n",
       "    <tr style=\"text-align: right;\">\n",
       "      <th></th>\n",
       "      <th>loan_id</th>\n",
       "      <th>account_id</th>\n",
       "      <th>amount</th>\n",
       "      <th>duration</th>\n",
       "      <th>payments</th>\n",
       "      <th>status</th>\n",
       "      <th>loan_date</th>\n",
       "    </tr>\n",
       "  </thead>\n",
       "  <tbody>\n",
       "    <tr>\n",
       "      <th>0</th>\n",
       "      <td>5314</td>\n",
       "      <td>1787</td>\n",
       "      <td>96396</td>\n",
       "      <td>12</td>\n",
       "      <td>8033</td>\n",
       "      <td>1</td>\n",
       "      <td>1993-07-05</td>\n",
       "    </tr>\n",
       "    <tr>\n",
       "      <th>1</th>\n",
       "      <td>5316</td>\n",
       "      <td>1801</td>\n",
       "      <td>165960</td>\n",
       "      <td>36</td>\n",
       "      <td>4610</td>\n",
       "      <td>0</td>\n",
       "      <td>1993-07-11</td>\n",
       "    </tr>\n",
       "    <tr>\n",
       "      <th>2</th>\n",
       "      <td>6863</td>\n",
       "      <td>9188</td>\n",
       "      <td>127080</td>\n",
       "      <td>60</td>\n",
       "      <td>2118</td>\n",
       "      <td>0</td>\n",
       "      <td>1993-07-28</td>\n",
       "    </tr>\n",
       "    <tr>\n",
       "      <th>3</th>\n",
       "      <td>5325</td>\n",
       "      <td>1843</td>\n",
       "      <td>105804</td>\n",
       "      <td>36</td>\n",
       "      <td>2939</td>\n",
       "      <td>0</td>\n",
       "      <td>1993-08-03</td>\n",
       "    </tr>\n",
       "    <tr>\n",
       "      <th>4</th>\n",
       "      <td>7240</td>\n",
       "      <td>11013</td>\n",
       "      <td>274740</td>\n",
       "      <td>60</td>\n",
       "      <td>4579</td>\n",
       "      <td>0</td>\n",
       "      <td>1993-09-06</td>\n",
       "    </tr>\n",
       "  </tbody>\n",
       "</table>\n",
       "</div>"
      ],
      "text/plain": [
       "   loan_id  account_id  amount  duration  payments  status  loan_date\n",
       "0     5314        1787   96396        12      8033       1 1993-07-05\n",
       "1     5316        1801  165960        36      4610       0 1993-07-11\n",
       "2     6863        9188  127080        60      2118       0 1993-07-28\n",
       "3     5325        1843  105804        36      2939       0 1993-08-03\n",
       "4     7240       11013  274740        60      4579       0 1993-09-06"
      ]
     },
     "execution_count": 37,
     "metadata": {},
     "output_type": "execute_result"
    }
   ],
   "source": [
    "loan_dev.head()"
   ]
  },
  {
   "cell_type": "code",
   "execution_count": 38,
   "metadata": {},
   "outputs": [],
   "source": [
    "loan_ac=loan_dev.merge(account_dcd)\n",
    "#passa de 328 linhas para 403.\n",
    "# ---> Podemos considerar 2º tit aqui?????\n",
    "\n",
    "#loan_ac=loan_dev.merge(account_dcd.loc[account_dcd.type=='OWNER']) #este não considera 2º tit\n",
    "\n",
    "loan_ac.drop(['loan_id'],axis=1,inplace=True)"
   ]
  },
  {
   "cell_type": "code",
   "execution_count": 39,
   "metadata": {},
   "outputs": [],
   "source": [
    "#organizar a base de dados\n",
    "loan_ac=loan_ac[['status', 'account_id', 'disp_id',\n",
    "       'loan_date', 'ac_date', 'birth_date', \n",
    "       'amount', 'duration', 'payments', 'frequency', 'type',\n",
    "       'sex', 'change_district', 'name', 'region', 'no_inhabitants',\n",
    "       'no_municipalities_with_inhabitants_499',\n",
    "       'no_municipalities_inhabitants_500_1999',\n",
    "       'no_municipalities_with_inhabitants_2000_9999',\n",
    "       'no_municipalities_with_inhabitants_10000', 'no_cities',\n",
    "       'ratio_urban_inhabitants', 'average_salary', 'unemploymant_rate_95',\n",
    "       'unemploymant_rate_96', 'no_enterpreneurs_per_1000_inhabitants',\n",
    "       'no_commited_crimes_95', 'no_commited_crimes_96']]\n",
    "\n",
    "#rename colunamas\n",
    "loan_ac.rename(columns={'loan_date':'product_date', 'type':'type_disp',}, inplace=True)"
   ]
  },
  {
   "cell_type": "code",
   "execution_count": 40,
   "metadata": {},
   "outputs": [
    {
     "data": {
      "text/plain": [
       "(11, 28)"
      ]
     },
     "execution_count": 40,
     "metadata": {},
     "output_type": "execute_result"
    }
   ],
   "source": [
    "#existem clientes com cartão na tabela loan!!\n",
    "loan_ac.loc[loan_ac.disp_id.isin(card_dev.disp_id)].shape"
   ]
  },
  {
   "cell_type": "code",
   "execution_count": 41,
   "metadata": {},
   "outputs": [],
   "source": [
    "#creditos = pd.concat([card_ac,loan_ac])"
   ]
  }
 ],
 "metadata": {
  "kernelspec": {
   "display_name": "Python 3",
   "language": "python",
   "name": "python3"
  },
  "language_info": {
   "codemirror_mode": {
    "name": "ipython",
    "version": 3
   },
   "file_extension": ".py",
   "mimetype": "text/x-python",
   "name": "python",
   "nbconvert_exporter": "python",
   "pygments_lexer": "ipython3",
   "version": "3.7.6"
  }
 },
 "nbformat": 4,
 "nbformat_minor": 4
}
