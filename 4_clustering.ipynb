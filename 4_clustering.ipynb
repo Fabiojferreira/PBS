{
 "cells": [
  {
   "cell_type": "code",
   "execution_count": 1,
   "metadata": {},
   "outputs": [],
   "source": [
    "import pandas as pd\n",
    "import numpy as np\n",
    "import math\n",
    "\n",
    "descriptive=pd.read_parquet('descriptive.gzip') "
   ]
  },
  {
   "cell_type": "code",
   "execution_count": 2,
   "metadata": {},
   "outputs": [],
   "source": [
    "import sys\n",
    "sys.path.insert(1, '../Functions')\n",
    "from check_missing import check_missing\n",
    "from Treat_Missing import *"
   ]
  },
  {
   "cell_type": "code",
   "execution_count": 3,
   "metadata": {},
   "outputs": [
    {
     "name": "stdout",
     "output_type": "stream",
     "text": [
      "The dataframe has 62 columns.\n",
      " There are 28 columns that have missing values.\n",
      " There are 34 columns that have no missing values.\n",
      " \n",
      " Here is the list of variable having missing values: \n",
      "['issued_date', 'loan_date', 'type_card', 'amount', 'duration', 'payments', 'status', 'unemploymant_rate_95', 'rend_sum', 'avg_wage_trans', 'fout_sum', 'avg_fout_trans', 'balance_sum', 'avg_balance', 'avg_nr_ntrans', 'avg_amt_ntrans', 'avg_nr_ptrans', 'avg_amt_ptrans', 'avg_ins', 'avg_interest', 'avg_pension', 'avg_house', 'avg_ncard', 'loan_end', 'ac_maturity', 'ratio_crimes_95', 'nr_rtrans', 'trans_date_max']\n"
     ]
    },
    {
     "data": {
      "text/html": [
       "<div>\n",
       "<style scoped>\n",
       "    .dataframe tbody tr th:only-of-type {\n",
       "        vertical-align: middle;\n",
       "    }\n",
       "\n",
       "    .dataframe tbody tr th {\n",
       "        vertical-align: top;\n",
       "    }\n",
       "\n",
       "    .dataframe thead th {\n",
       "        text-align: right;\n",
       "    }\n",
       "</style>\n",
       "<table border=\"1\" class=\"dataframe\">\n",
       "  <thead>\n",
       "    <tr style=\"text-align: right;\">\n",
       "      <th></th>\n",
       "      <th># Missing Values</th>\n",
       "      <th>% Missing Values</th>\n",
       "    </tr>\n",
       "  </thead>\n",
       "  <tbody>\n",
       "    <tr>\n",
       "      <th>nr_rtrans</th>\n",
       "      <td>4177</td>\n",
       "      <td>97.4</td>\n",
       "    </tr>\n",
       "    <tr>\n",
       "      <th>avg_ncard</th>\n",
       "      <td>4137</td>\n",
       "      <td>96.4</td>\n",
       "    </tr>\n",
       "    <tr>\n",
       "      <th>issued_date</th>\n",
       "      <td>4113</td>\n",
       "      <td>95.9</td>\n",
       "    </tr>\n",
       "    <tr>\n",
       "      <th>type_card</th>\n",
       "      <td>4113</td>\n",
       "      <td>95.9</td>\n",
       "    </tr>\n",
       "    <tr>\n",
       "      <th>avg_ins</th>\n",
       "      <td>3986</td>\n",
       "      <td>92.9</td>\n",
       "    </tr>\n",
       "    <tr>\n",
       "      <th>amount</th>\n",
       "      <td>3962</td>\n",
       "      <td>92.4</td>\n",
       "    </tr>\n",
       "    <tr>\n",
       "      <th>duration</th>\n",
       "      <td>3962</td>\n",
       "      <td>92.4</td>\n",
       "    </tr>\n",
       "    <tr>\n",
       "      <th>payments</th>\n",
       "      <td>3962</td>\n",
       "      <td>92.4</td>\n",
       "    </tr>\n",
       "    <tr>\n",
       "      <th>status</th>\n",
       "      <td>3962</td>\n",
       "      <td>92.4</td>\n",
       "    </tr>\n",
       "    <tr>\n",
       "      <th>loan_end</th>\n",
       "      <td>3962</td>\n",
       "      <td>92.4</td>\n",
       "    </tr>\n",
       "    <tr>\n",
       "      <th>loan_date</th>\n",
       "      <td>3962</td>\n",
       "      <td>92.4</td>\n",
       "    </tr>\n",
       "    <tr>\n",
       "      <th>avg_pension</th>\n",
       "      <td>3714</td>\n",
       "      <td>86.6</td>\n",
       "    </tr>\n",
       "    <tr>\n",
       "      <th>avg_wage_trans</th>\n",
       "      <td>3108</td>\n",
       "      <td>72.4</td>\n",
       "    </tr>\n",
       "    <tr>\n",
       "      <th>rend_sum</th>\n",
       "      <td>2819</td>\n",
       "      <td>65.7</td>\n",
       "    </tr>\n",
       "    <tr>\n",
       "      <th>avg_house</th>\n",
       "      <td>2221</td>\n",
       "      <td>51.8</td>\n",
       "    </tr>\n",
       "    <tr>\n",
       "      <th>avg_fout_trans</th>\n",
       "      <td>1496</td>\n",
       "      <td>34.9</td>\n",
       "    </tr>\n",
       "    <tr>\n",
       "      <th>avg_nr_ntrans</th>\n",
       "      <td>1196</td>\n",
       "      <td>27.9</td>\n",
       "    </tr>\n",
       "    <tr>\n",
       "      <th>avg_amt_ntrans</th>\n",
       "      <td>1196</td>\n",
       "      <td>27.9</td>\n",
       "    </tr>\n",
       "    <tr>\n",
       "      <th>avg_interest</th>\n",
       "      <td>1121</td>\n",
       "      <td>26.1</td>\n",
       "    </tr>\n",
       "    <tr>\n",
       "      <th>fout_sum</th>\n",
       "      <td>958</td>\n",
       "      <td>22.3</td>\n",
       "    </tr>\n",
       "    <tr>\n",
       "      <th>avg_amt_ptrans</th>\n",
       "      <td>920</td>\n",
       "      <td>21.4</td>\n",
       "    </tr>\n",
       "    <tr>\n",
       "      <th>avg_nr_ptrans</th>\n",
       "      <td>920</td>\n",
       "      <td>21.4</td>\n",
       "    </tr>\n",
       "    <tr>\n",
       "      <th>ac_maturity</th>\n",
       "      <td>688</td>\n",
       "      <td>16.0</td>\n",
       "    </tr>\n",
       "    <tr>\n",
       "      <th>avg_balance</th>\n",
       "      <td>281</td>\n",
       "      <td>6.6</td>\n",
       "    </tr>\n",
       "    <tr>\n",
       "      <th>balance_sum</th>\n",
       "      <td>281</td>\n",
       "      <td>6.6</td>\n",
       "    </tr>\n",
       "    <tr>\n",
       "      <th>trans_date_max</th>\n",
       "      <td>281</td>\n",
       "      <td>6.6</td>\n",
       "    </tr>\n",
       "    <tr>\n",
       "      <th>ratio_crimes_95</th>\n",
       "      <td>44</td>\n",
       "      <td>1.0</td>\n",
       "    </tr>\n",
       "    <tr>\n",
       "      <th>unemploymant_rate_95</th>\n",
       "      <td>44</td>\n",
       "      <td>1.0</td>\n",
       "    </tr>\n",
       "  </tbody>\n",
       "</table>\n",
       "</div>"
      ],
      "text/plain": [
       "                      # Missing Values  % Missing Values\n",
       "nr_rtrans                         4177              97.4\n",
       "avg_ncard                         4137              96.4\n",
       "issued_date                       4113              95.9\n",
       "type_card                         4113              95.9\n",
       "avg_ins                           3986              92.9\n",
       "amount                            3962              92.4\n",
       "duration                          3962              92.4\n",
       "payments                          3962              92.4\n",
       "status                            3962              92.4\n",
       "loan_end                          3962              92.4\n",
       "loan_date                         3962              92.4\n",
       "avg_pension                       3714              86.6\n",
       "avg_wage_trans                    3108              72.4\n",
       "rend_sum                          2819              65.7\n",
       "avg_house                         2221              51.8\n",
       "avg_fout_trans                    1496              34.9\n",
       "avg_nr_ntrans                     1196              27.9\n",
       "avg_amt_ntrans                    1196              27.9\n",
       "avg_interest                      1121              26.1\n",
       "fout_sum                           958              22.3\n",
       "avg_amt_ptrans                     920              21.4\n",
       "avg_nr_ptrans                      920              21.4\n",
       "ac_maturity                        688              16.0\n",
       "avg_balance                        281               6.6\n",
       "balance_sum                        281               6.6\n",
       "trans_date_max                     281               6.6\n",
       "ratio_crimes_95                     44               1.0\n",
       "unemploymant_rate_95                44               1.0"
      ]
     },
     "execution_count": 3,
     "metadata": {},
     "output_type": "execute_result"
    }
   ],
   "source": [
    "check_missing(descriptive)"
   ]
  },
  {
   "cell_type": "code",
   "execution_count": 4,
   "metadata": {},
   "outputs": [
    {
     "data": {
      "text/plain": [
       "Index(['client_id', 'disp_id', 'account_id', 'district_id_cli',\n",
       "       'district_id_ac', 'ac_date', 'birth_date', 'issued_date', 'loan_date',\n",
       "       'type_disp', 'type_card', 'sex', 'frequency', 'amount', 'duration',\n",
       "       'payments', 'card', 'loan', 'nb_prod', 'status', 'name', 'region',\n",
       "       'no_inhabitants', 'no_cities', 'ratio_urban_inhabitants',\n",
       "       'average_salary', 'unemploymant_rate_95', 'unemploymant_rate_96',\n",
       "       'no_enterpreneurs_per_1000_inhabitants', 'dif_district', 'rend_sum',\n",
       "       'max_date', 'meses_trans', 'avg_wage_trans', 'fout_sum',\n",
       "       'avg_fout_trans', 'balance_sum', 'avg_balance', 'avg_nr_ntrans',\n",
       "       'avg_amt_ntrans', 'avg_nr_ptrans', 'avg_amt_ptrans', 'avg_ins',\n",
       "       'avg_interest', 'avg_pension', 'avg_house', 'avg_ncard', 'bank_fee',\n",
       "       'Age', 'loan_end', 'ac_maturity', 'Nb_muni', 'ratio_mun_499',\n",
       "       'ratio_mun_500_1999', 'ratio_mun_2000_9999', 'ratio_mun_10000',\n",
       "       'ratio_crimes_95', 'ratio_crimes_96', 'risk_trans', 'nr_rtrans',\n",
       "       'trans_date_max', 'district_new'],\n",
       "      dtype='object')"
      ]
     },
     "execution_count": 4,
     "metadata": {},
     "output_type": "execute_result"
    }
   ],
   "source": [
    "descriptive.columns"
   ]
  },
  {
   "cell_type": "code",
   "execution_count": 5,
   "metadata": {},
   "outputs": [
    {
     "data": {
      "text/plain": [
       "(44, 62)"
      ]
     },
     "execution_count": 5,
     "metadata": {},
     "output_type": "execute_result"
    }
   ],
   "source": [
    "descriptive.loc[descriptive.name=='Jesenik'].shape"
   ]
  },
  {
   "cell_type": "code",
   "execution_count": 6,
   "metadata": {},
   "outputs": [
    {
     "data": {
      "text/html": [
       "<div>\n",
       "<style scoped>\n",
       "    .dataframe tbody tr th:only-of-type {\n",
       "        vertical-align: middle;\n",
       "    }\n",
       "\n",
       "    .dataframe tbody tr th {\n",
       "        vertical-align: top;\n",
       "    }\n",
       "\n",
       "    .dataframe thead th {\n",
       "        text-align: right;\n",
       "    }\n",
       "</style>\n",
       "<table border=\"1\" class=\"dataframe\">\n",
       "  <thead>\n",
       "    <tr style=\"text-align: right;\">\n",
       "      <th></th>\n",
       "      <th>name</th>\n",
       "      <th>region</th>\n",
       "    </tr>\n",
       "  </thead>\n",
       "  <tbody>\n",
       "    <tr>\n",
       "      <th>174</th>\n",
       "      <td>Jesenik</td>\n",
       "      <td>north Moravia</td>\n",
       "    </tr>\n",
       "    <tr>\n",
       "      <th>175</th>\n",
       "      <td>Jesenik</td>\n",
       "      <td>north Moravia</td>\n",
       "    </tr>\n",
       "    <tr>\n",
       "      <th>218</th>\n",
       "      <td>Jesenik</td>\n",
       "      <td>north Moravia</td>\n",
       "    </tr>\n",
       "    <tr>\n",
       "      <th>312</th>\n",
       "      <td>Jesenik</td>\n",
       "      <td>north Moravia</td>\n",
       "    </tr>\n",
       "    <tr>\n",
       "      <th>390</th>\n",
       "      <td>Jesenik</td>\n",
       "      <td>north Moravia</td>\n",
       "    </tr>\n",
       "  </tbody>\n",
       "</table>\n",
       "</div>"
      ],
      "text/plain": [
       "        name         region\n",
       "174  Jesenik  north Moravia\n",
       "175  Jesenik  north Moravia\n",
       "218  Jesenik  north Moravia\n",
       "312  Jesenik  north Moravia\n",
       "390  Jesenik  north Moravia"
      ]
     },
     "execution_count": 6,
     "metadata": {},
     "output_type": "execute_result"
    }
   ],
   "source": [
    "#Os missings são todos do distrito Jesenik (nas duas variáveis)\n",
    "descriptive.loc[descriptive.unemploymant_rate_95.isnull(),['name','region']].head()"
   ]
  },
  {
   "cell_type": "code",
   "execution_count": 7,
   "metadata": {},
   "outputs": [],
   "source": [
    "#med_un_region=descriptive.loc[descriptive.region=='north Moravia','unemploymant_rate_95'].median()\n",
    "un_jes=descriptive.loc[descriptive.name=='Jesenik','unemploymant_rate_96'][174]"
   ]
  },
  {
   "cell_type": "code",
   "execution_count": 8,
   "metadata": {},
   "outputs": [],
   "source": [
    "#med_cr_region=descriptive.loc[descriptive.region=='north Moravia','ratio_crimes_95'].median()\n",
    "cr_jes=descriptive.loc[descriptive.name=='Jesenik','ratio_crimes_96'][174]"
   ]
  },
  {
   "cell_type": "code",
   "execution_count": 9,
   "metadata": {},
   "outputs": [
    {
     "data": {
      "text/plain": [
       "'Finished.'"
      ]
     },
     "execution_count": 9,
     "metadata": {},
     "output_type": "execute_result"
    }
   ],
   "source": [
    "#tratar missings\n",
    "cat=['type_card'] \n",
    "num_0=['rend_sum','avg_wage_trans', 'fout_sum', 'avg_fout_trans', \n",
    "     'balance_sum', 'avg_balance', 'avg_nr_ntrans',\n",
    "    'avg_amt_ntrans', 'avg_nr_ptrans', 'avg_amt_ptrans', 'avg_ins', 'avg_interest', \n",
    "     'avg_pension', 'avg_house', 'avg_ncard', 'nr_rtrans',\n",
    "      'amount', 'duration', 'payments']\n",
    "num_un=['unemploymant_rate_95']\n",
    "num_cr=['ratio_crimes_95']\n",
    "\n",
    "Treat_Missing(df=descriptive,var=[cat,num_0,num_un,num_cr],values=['Missing',0,un_jes,cr_jes])"
   ]
  },
  {
   "cell_type": "code",
   "execution_count": 10,
   "metadata": {},
   "outputs": [],
   "source": [
    "#tratar segundo tit\n",
    "descriptive.loc[descriptive.type_disp=='DISPONENT', num_0]=np.nan\n",
    "descriptive.loc[descriptive.type_disp=='DISPONENT', cat]=np.nan\n",
    "descriptive.loc[descriptive.type_disp=='DISPONENT', num_un]=np.nan\n",
    "descriptive.loc[descriptive.type_disp=='DISPONENT', num_cr]=np.nan"
   ]
  },
  {
   "cell_type": "code",
   "execution_count": 11,
   "metadata": {},
   "outputs": [],
   "source": [
    "descriptive.drop(['issued_date','trans_date_max','loan_end'],axis=1,inplace=True)"
   ]
  },
  {
   "cell_type": "code",
   "execution_count": 12,
   "metadata": {},
   "outputs": [
    {
     "name": "stdout",
     "output_type": "stream",
     "text": [
      "The dataframe has 59 columns.\n",
      " There are 25 columns that have missing values.\n",
      " There are 34 columns that have no missing values.\n",
      " \n",
      " Here is the list of variable having missing values: \n",
      "['loan_date', 'type_card', 'amount', 'duration', 'payments', 'status', 'unemploymant_rate_95', 'rend_sum', 'avg_wage_trans', 'fout_sum', 'avg_fout_trans', 'balance_sum', 'avg_balance', 'avg_nr_ntrans', 'avg_amt_ntrans', 'avg_nr_ptrans', 'avg_amt_ptrans', 'avg_ins', 'avg_interest', 'avg_pension', 'avg_house', 'avg_ncard', 'ac_maturity', 'ratio_crimes_95', 'nr_rtrans']\n"
     ]
    },
    {
     "data": {
      "text/html": [
       "<div>\n",
       "<style scoped>\n",
       "    .dataframe tbody tr th:only-of-type {\n",
       "        vertical-align: middle;\n",
       "    }\n",
       "\n",
       "    .dataframe tbody tr th {\n",
       "        vertical-align: top;\n",
       "    }\n",
       "\n",
       "    .dataframe thead th {\n",
       "        text-align: right;\n",
       "    }\n",
       "</style>\n",
       "<table border=\"1\" class=\"dataframe\">\n",
       "  <thead>\n",
       "    <tr style=\"text-align: right;\">\n",
       "      <th></th>\n",
       "      <th># Missing Values</th>\n",
       "      <th>% Missing Values</th>\n",
       "    </tr>\n",
       "  </thead>\n",
       "  <tbody>\n",
       "    <tr>\n",
       "      <th>loan_date</th>\n",
       "      <td>3962</td>\n",
       "      <td>92.4</td>\n",
       "    </tr>\n",
       "    <tr>\n",
       "      <th>status</th>\n",
       "      <td>3962</td>\n",
       "      <td>92.4</td>\n",
       "    </tr>\n",
       "    <tr>\n",
       "      <th>avg_nr_ntrans</th>\n",
       "      <td>688</td>\n",
       "      <td>16.0</td>\n",
       "    </tr>\n",
       "    <tr>\n",
       "      <th>ratio_crimes_95</th>\n",
       "      <td>688</td>\n",
       "      <td>16.0</td>\n",
       "    </tr>\n",
       "    <tr>\n",
       "      <th>ac_maturity</th>\n",
       "      <td>688</td>\n",
       "      <td>16.0</td>\n",
       "    </tr>\n",
       "    <tr>\n",
       "      <th>avg_ncard</th>\n",
       "      <td>688</td>\n",
       "      <td>16.0</td>\n",
       "    </tr>\n",
       "    <tr>\n",
       "      <th>avg_house</th>\n",
       "      <td>688</td>\n",
       "      <td>16.0</td>\n",
       "    </tr>\n",
       "    <tr>\n",
       "      <th>avg_pension</th>\n",
       "      <td>688</td>\n",
       "      <td>16.0</td>\n",
       "    </tr>\n",
       "    <tr>\n",
       "      <th>avg_interest</th>\n",
       "      <td>688</td>\n",
       "      <td>16.0</td>\n",
       "    </tr>\n",
       "    <tr>\n",
       "      <th>avg_ins</th>\n",
       "      <td>688</td>\n",
       "      <td>16.0</td>\n",
       "    </tr>\n",
       "    <tr>\n",
       "      <th>avg_amt_ptrans</th>\n",
       "      <td>688</td>\n",
       "      <td>16.0</td>\n",
       "    </tr>\n",
       "    <tr>\n",
       "      <th>avg_nr_ptrans</th>\n",
       "      <td>688</td>\n",
       "      <td>16.0</td>\n",
       "    </tr>\n",
       "    <tr>\n",
       "      <th>avg_amt_ntrans</th>\n",
       "      <td>688</td>\n",
       "      <td>16.0</td>\n",
       "    </tr>\n",
       "    <tr>\n",
       "      <th>avg_balance</th>\n",
       "      <td>688</td>\n",
       "      <td>16.0</td>\n",
       "    </tr>\n",
       "    <tr>\n",
       "      <th>type_card</th>\n",
       "      <td>688</td>\n",
       "      <td>16.0</td>\n",
       "    </tr>\n",
       "    <tr>\n",
       "      <th>balance_sum</th>\n",
       "      <td>688</td>\n",
       "      <td>16.0</td>\n",
       "    </tr>\n",
       "    <tr>\n",
       "      <th>avg_fout_trans</th>\n",
       "      <td>688</td>\n",
       "      <td>16.0</td>\n",
       "    </tr>\n",
       "    <tr>\n",
       "      <th>fout_sum</th>\n",
       "      <td>688</td>\n",
       "      <td>16.0</td>\n",
       "    </tr>\n",
       "    <tr>\n",
       "      <th>avg_wage_trans</th>\n",
       "      <td>688</td>\n",
       "      <td>16.0</td>\n",
       "    </tr>\n",
       "    <tr>\n",
       "      <th>rend_sum</th>\n",
       "      <td>688</td>\n",
       "      <td>16.0</td>\n",
       "    </tr>\n",
       "    <tr>\n",
       "      <th>unemploymant_rate_95</th>\n",
       "      <td>688</td>\n",
       "      <td>16.0</td>\n",
       "    </tr>\n",
       "    <tr>\n",
       "      <th>payments</th>\n",
       "      <td>688</td>\n",
       "      <td>16.0</td>\n",
       "    </tr>\n",
       "    <tr>\n",
       "      <th>duration</th>\n",
       "      <td>688</td>\n",
       "      <td>16.0</td>\n",
       "    </tr>\n",
       "    <tr>\n",
       "      <th>amount</th>\n",
       "      <td>688</td>\n",
       "      <td>16.0</td>\n",
       "    </tr>\n",
       "    <tr>\n",
       "      <th>nr_rtrans</th>\n",
       "      <td>688</td>\n",
       "      <td>16.0</td>\n",
       "    </tr>\n",
       "  </tbody>\n",
       "</table>\n",
       "</div>"
      ],
      "text/plain": [
       "                      # Missing Values  % Missing Values\n",
       "loan_date                         3962              92.4\n",
       "status                            3962              92.4\n",
       "avg_nr_ntrans                      688              16.0\n",
       "ratio_crimes_95                    688              16.0\n",
       "ac_maturity                        688              16.0\n",
       "avg_ncard                          688              16.0\n",
       "avg_house                          688              16.0\n",
       "avg_pension                        688              16.0\n",
       "avg_interest                       688              16.0\n",
       "avg_ins                            688              16.0\n",
       "avg_amt_ptrans                     688              16.0\n",
       "avg_nr_ptrans                      688              16.0\n",
       "avg_amt_ntrans                     688              16.0\n",
       "avg_balance                        688              16.0\n",
       "type_card                          688              16.0\n",
       "balance_sum                        688              16.0\n",
       "avg_fout_trans                     688              16.0\n",
       "fout_sum                           688              16.0\n",
       "avg_wage_trans                     688              16.0\n",
       "rend_sum                           688              16.0\n",
       "unemploymant_rate_95               688              16.0\n",
       "payments                           688              16.0\n",
       "duration                           688              16.0\n",
       "amount                             688              16.0\n",
       "nr_rtrans                          688              16.0"
      ]
     },
     "execution_count": 12,
     "metadata": {},
     "output_type": "execute_result"
    }
   ],
   "source": [
    "#missings (2º tit)\n",
    "check_missing(descriptive)"
   ]
  },
  {
   "cell_type": "code",
   "execution_count": 13,
   "metadata": {},
   "outputs": [],
   "source": [
    "from sklearn.cluster import KMeans"
   ]
  },
  {
   "cell_type": "code",
   "execution_count": 14,
   "metadata": {},
   "outputs": [],
   "source": [
    "stit=descriptive.loc[descriptive.type_disp!='OWNER','account_id'].unique()\n",
    "descriptive.loc[descriptive.account_id.isin(stit),'2tit']=1\n",
    "descriptive.loc[~descriptive.account_id.isin(stit),'2tit']=0"
   ]
  },
  {
   "cell_type": "code",
   "execution_count": 15,
   "metadata": {},
   "outputs": [
    {
     "data": {
      "text/plain": [
       "Index(['client_id', 'disp_id', 'account_id', 'district_id_cli',\n",
       "       'district_id_ac', 'ac_date', 'birth_date', 'loan_date', 'type_disp',\n",
       "       'type_card', 'sex', 'frequency', 'amount', 'duration', 'payments',\n",
       "       'card', 'loan', 'nb_prod', 'status', 'name', 'region', 'no_inhabitants',\n",
       "       'no_cities', 'ratio_urban_inhabitants', 'average_salary',\n",
       "       'unemploymant_rate_95', 'unemploymant_rate_96',\n",
       "       'no_enterpreneurs_per_1000_inhabitants', 'dif_district', 'rend_sum',\n",
       "       'max_date', 'meses_trans', 'avg_wage_trans', 'fout_sum',\n",
       "       'avg_fout_trans', 'balance_sum', 'avg_balance', 'avg_nr_ntrans',\n",
       "       'avg_amt_ntrans', 'avg_nr_ptrans', 'avg_amt_ptrans', 'avg_ins',\n",
       "       'avg_interest', 'avg_pension', 'avg_house', 'avg_ncard', 'bank_fee',\n",
       "       'Age', 'ac_maturity', 'Nb_muni', 'ratio_mun_499', 'ratio_mun_500_1999',\n",
       "       'ratio_mun_2000_9999', 'ratio_mun_10000', 'ratio_crimes_95',\n",
       "       'ratio_crimes_96', 'risk_trans', 'nr_rtrans', 'district_new', '2tit'],\n",
       "      dtype='object')"
      ]
     },
     "execution_count": 15,
     "metadata": {},
     "output_type": "execute_result"
    }
   ],
   "source": [
    "descriptive.columns"
   ]
  },
  {
   "cell_type": "code",
   "execution_count": 16,
   "metadata": {},
   "outputs": [],
   "source": [
    "clust=descriptive.drop(['client_id', 'disp_id', 'account_id', 'district_id_cli',\n",
    "       'district_id_ac', 'ac_date', 'birth_date','status', 'name','max_date','type_disp','loan_date'],axis=1)"
   ]
  },
  {
   "cell_type": "code",
   "execution_count": 17,
   "metadata": {},
   "outputs": [
    {
     "data": {
      "text/plain": [
       "Index(['type_card', 'sex', 'frequency', 'amount', 'duration', 'payments',\n",
       "       'card', 'loan', 'nb_prod', 'region', 'no_inhabitants', 'no_cities',\n",
       "       'ratio_urban_inhabitants', 'average_salary', 'unemploymant_rate_95',\n",
       "       'unemploymant_rate_96', 'no_enterpreneurs_per_1000_inhabitants',\n",
       "       'dif_district', 'rend_sum', 'meses_trans', 'avg_wage_trans', 'fout_sum',\n",
       "       'avg_fout_trans', 'balance_sum', 'avg_balance', 'avg_nr_ntrans',\n",
       "       'avg_amt_ntrans', 'avg_nr_ptrans', 'avg_amt_ptrans', 'avg_ins',\n",
       "       'avg_interest', 'avg_pension', 'avg_house', 'avg_ncard', 'bank_fee',\n",
       "       'Age', 'ac_maturity', 'Nb_muni', 'ratio_mun_499', 'ratio_mun_500_1999',\n",
       "       'ratio_mun_2000_9999', 'ratio_mun_10000', 'ratio_crimes_95',\n",
       "       'ratio_crimes_96', 'risk_trans', 'nr_rtrans', 'district_new', '2tit'],\n",
       "      dtype='object')"
      ]
     },
     "execution_count": 17,
     "metadata": {},
     "output_type": "execute_result"
    }
   ],
   "source": [
    "clust.columns"
   ]
  },
  {
   "cell_type": "code",
   "execution_count": 18,
   "metadata": {},
   "outputs": [],
   "source": [
    "clust.dropna(inplace=True)"
   ]
  },
  {
   "cell_type": "code",
   "execution_count": 19,
   "metadata": {},
   "outputs": [],
   "source": [
    "clust_socdem=clust[['region', 'no_inhabitants',\n",
    "       'no_cities', 'ratio_urban_inhabitants', 'average_salary',\n",
    "       'unemploymant_rate_95', 'unemploymant_rate_96',\n",
    "       'no_enterpreneurs_per_1000_inhabitants','district_new',\n",
    "        'Nb_muni', 'ratio_mun_499', 'ratio_mun_500_1999',\n",
    "       'ratio_mun_2000_9999', 'ratio_mun_10000', 'ratio_crimes_95',\n",
    "       'ratio_crimes_96','Age','sex']]"
   ]
  },
  {
   "cell_type": "code",
   "execution_count": 20,
   "metadata": {},
   "outputs": [],
   "source": [
    "clust_binf=clust[['type_card', 'frequency', 'amount', 'duration', 'payments',\n",
    "       'card', 'loan', 'nb_prod','dif_district', 'rend_sum', 'meses_trans', 'avg_wage_trans', 'fout_sum',\n",
    "       'avg_fout_trans', 'balance_sum', 'avg_balance', 'avg_nr_ntrans',\n",
    "       'avg_amt_ntrans', 'avg_nr_ptrans', 'avg_amt_ptrans', 'avg_ins',\n",
    "       'avg_interest', 'avg_pension', 'avg_house', 'avg_ncard', 'bank_fee',\n",
    "                 'risk_trans', 'nr_rtrans','2tit']]"
   ]
  },
  {
   "cell_type": "code",
   "execution_count": 21,
   "metadata": {},
   "outputs": [],
   "source": [
    "#CLUSTERING NOS LOAN"
   ]
  },
  {
   "cell_type": "code",
   "execution_count": 22,
   "metadata": {},
   "outputs": [],
   "source": [
    "clust_socdem=pd.get_dummies(clust_socdem)"
   ]
  },
  {
   "cell_type": "code",
   "execution_count": 23,
   "metadata": {},
   "outputs": [],
   "source": [
    "clust_binf=pd.get_dummies(clust_binf)"
   ]
  },
  {
   "cell_type": "code",
   "execution_count": 24,
   "metadata": {},
   "outputs": [
    {
     "data": {
      "text/plain": [
       "33"
      ]
     },
     "execution_count": 24,
     "metadata": {},
     "output_type": "execute_result"
    }
   ],
   "source": [
    "len(clust_socdem.columns)"
   ]
  },
  {
   "cell_type": "code",
   "execution_count": 25,
   "metadata": {},
   "outputs": [
    {
     "data": {
      "text/plain": [
       "34"
      ]
     },
     "execution_count": 25,
     "metadata": {},
     "output_type": "execute_result"
    }
   ],
   "source": [
    "len(clust_binf.columns)"
   ]
  },
  {
   "cell_type": "code",
   "execution_count": 26,
   "metadata": {},
   "outputs": [],
   "source": [
    "from sklearn.preprocessing import MinMaxScaler\n",
    "from sklearn.metrics import calinski_harabasz_score\n",
    "socdem = MinMaxScaler().fit_transform(clust_socdem)"
   ]
  },
  {
   "cell_type": "code",
   "execution_count": 27,
   "metadata": {},
   "outputs": [
    {
     "data": {
      "text/plain": [
       "Text(0, 0.5, '$J(C_k)$')"
      ]
     },
     "execution_count": 27,
     "metadata": {},
     "output_type": "execute_result"
    },
    {
     "data": {
      "image/png": "[encoded data removed]",
      "text/plain": [
       "<Figure size 432x288 with 1 Axes>"
      ]
     },
     "metadata": {
      "needs_background": "light"
     },
     "output_type": "display_data"
    }
   ],
   "source": [
    "import matplotlib.pyplot as plt\n",
    "\n",
    "inertia = []\n",
    "for k in range(1, 40):\n",
    "    kmeans = KMeans(n_clusters=k, random_state=1).fit(socdem)\n",
    "    inertia.append(np.sqrt(kmeans.inertia_))\n",
    "    \n",
    "plt.plot(range(1, 40), inertia, marker='s');\n",
    "plt.xlabel('$k$')\n",
    "plt.ylabel('$J(C_k)$')"
   ]
  },
  {
   "cell_type": "code",
   "execution_count": 28,
   "metadata": {},
   "outputs": [],
   "source": [
    "kmeans = KMeans(n_clusters=2, random_state=1).fit(socdem)"
   ]
  },
  {
   "cell_type": "code",
   "execution_count": 29,
   "metadata": {},
   "outputs": [
    {
     "name": "stdout",
     "output_type": "stream",
     "text": [
      "[[ 6.66632799e-02  5.58003442e-01  4.23189191e-01  1.96398322e-01\n",
      "   4.27377107e-01  3.93275731e-01  3.85530161e-01  4.20719028e-01\n",
      "   6.36233276e-01  5.03156869e-01  2.03893821e-01  3.70843945e-02\n",
      "   2.65107209e-01  2.04109480e-01  4.47696669e-01  3.10862447e-15\n",
      "   1.56970740e-01  1.54216867e-01  1.31497418e-01  1.71428571e-01\n",
      "   1.02925990e-01  1.79345955e-01  1.03614458e-01 -3.95516953e-16\n",
      "   3.10862447e-15  3.95869191e-02  1.37693632e-02  1.37693632e-02\n",
      "   1.26287869e-15  9.32874355e-01 -7.89299182e-16  4.94664372e-01\n",
      "   5.05335628e-01]\n",
      " [ 7.12097524e-01  5.66213743e-15  1.00000000e+00  8.14058186e-01\n",
      "   1.58663777e-01  1.41178390e-01  7.91364986e-01 -4.44089210e-15\n",
      "   2.99760217e-15  9.43689571e-16 -2.49800181e-15  1.00000000e+00\n",
      "   8.67477175e-01  8.18023427e-01  4.31449911e-01  6.18364419e-01\n",
      "  -2.16493490e-15  9.71445147e-17 -2.63677968e-16  1.79340029e-01\n",
      "  -8.60422844e-16  1.50645624e-01  5.16499283e-02  1.50645624e-01\n",
      "   6.18364419e-01 -2.63677968e-16  8.67361738e-18  8.67361738e-18\n",
      "   1.79340029e-01  7.54951657e-15  5.16499283e-02  4.83500717e-01\n",
      "   5.16499283e-01]]\n"
     ]
    }
   ],
   "source": [
    "print(kmeans.cluster_centers_)"
   ]
  },
  {
   "cell_type": "code",
   "execution_count": 30,
   "metadata": {},
   "outputs": [
    {
     "data": {
      "image/png": "[encoded data removed]",
      "text/plain": [
       "<Figure size 1080x576 with 1 Axes>"
      ]
     },
     "metadata": {
      "needs_background": "light"
     },
     "output_type": "display_data"
    }
   ],
   "source": [
    "fig, ax = plt.subplots(figsize=(15,8))\n",
    "ax.plot(clust_socdem.columns, kmeans.cluster_centers_[0], label='C0')\n",
    "ax.plot(clust_socdem.columns, kmeans.cluster_centers_[1], label='C1')\n",
    "legend = ax.legend(loc='upper right')\n",
    "_=plt.xticks(rotation=90)"
   ]
  },
  {
   "cell_type": "code",
   "execution_count": 31,
   "metadata": {},
   "outputs": [],
   "source": [
    "y_km = kmeans.fit_predict(clust_socdem)"
   ]
  },
  {
   "cell_type": "code",
   "execution_count": 32,
   "metadata": {},
   "outputs": [
    {
     "data": {
      "text/plain": [
       "array([0, 1, 0, ..., 0, 0, 0])"
      ]
     },
     "execution_count": 32,
     "metadata": {},
     "output_type": "execute_result"
    }
   ],
   "source": [
    "y_km"
   ]
  },
  {
   "cell_type": "code",
   "execution_count": 33,
   "metadata": {},
   "outputs": [
    {
     "data": {
      "text/plain": [
       "Index(['no_inhabitants', 'no_cities', 'ratio_urban_inhabitants',\n",
       "       'average_salary', 'unemploymant_rate_95', 'unemploymant_rate_96',\n",
       "       'no_enterpreneurs_per_1000_inhabitants', 'Nb_muni', 'ratio_mun_499',\n",
       "       'ratio_mun_500_1999', 'ratio_mun_2000_9999', 'ratio_mun_10000',\n",
       "       'ratio_crimes_95', 'ratio_crimes_96', 'Age', 'region_Prague',\n",
       "       'region_central Bohemia', 'region_east Bohemia', 'region_north Bohemia',\n",
       "       'region_north Moravia', 'region_south Bohemia', 'region_south Moravia',\n",
       "       'region_west Bohemia', 'district_new_Brno - mesto',\n",
       "       'district_new_Hl.m. Praha', 'district_new_Karvina',\n",
       "       'district_new_Louny', 'district_new_Most',\n",
       "       'district_new_Ostrava - mesto', 'district_new_Other',\n",
       "       'district_new_Plzen - mesto', 'sex_F', 'sex_M'],\n",
       "      dtype='object')"
      ]
     },
     "execution_count": 33,
     "metadata": {},
     "output_type": "execute_result"
    }
   ],
   "source": [
    "clust_socdem.columns"
   ]
  },
  {
   "cell_type": "code",
   "execution_count": 34,
   "metadata": {},
   "outputs": [
    {
     "data": {
      "text/plain": [
       "431"
      ]
     },
     "execution_count": 34,
     "metadata": {},
     "output_type": "execute_result"
    }
   ],
   "source": [
    "clust_socdem.loc[y_km==1,'district_new_Hl.m. Praha'].sum()"
   ]
  },
  {
   "cell_type": "code",
   "execution_count": 35,
   "metadata": {},
   "outputs": [
    {
     "data": {
      "text/html": [
       "<div>\n",
       "<style scoped>\n",
       "    .dataframe tbody tr th:only-of-type {\n",
       "        vertical-align: middle;\n",
       "    }\n",
       "\n",
       "    .dataframe tbody tr th {\n",
       "        vertical-align: top;\n",
       "    }\n",
       "\n",
       "    .dataframe thead th {\n",
       "        text-align: right;\n",
       "    }\n",
       "</style>\n",
       "<table border=\"1\" class=\"dataframe\">\n",
       "  <thead>\n",
       "    <tr style=\"text-align: right;\">\n",
       "      <th></th>\n",
       "      <th>no_inhabitants</th>\n",
       "      <th>no_cities</th>\n",
       "      <th>ratio_urban_inhabitants</th>\n",
       "      <th>average_salary</th>\n",
       "      <th>unemploymant_rate_95</th>\n",
       "      <th>unemploymant_rate_96</th>\n",
       "      <th>no_enterpreneurs_per_1000_inhabitants</th>\n",
       "      <th>Nb_muni</th>\n",
       "      <th>ratio_mun_499</th>\n",
       "      <th>ratio_mun_500_1999</th>\n",
       "      <th>...</th>\n",
       "      <th>district_new_Brno - mesto</th>\n",
       "      <th>district_new_Hl.m. Praha</th>\n",
       "      <th>district_new_Karvina</th>\n",
       "      <th>district_new_Louny</th>\n",
       "      <th>district_new_Most</th>\n",
       "      <th>district_new_Ostrava - mesto</th>\n",
       "      <th>district_new_Other</th>\n",
       "      <th>district_new_Plzen - mesto</th>\n",
       "      <th>sex_F</th>\n",
       "      <th>sex_M</th>\n",
       "    </tr>\n",
       "  </thead>\n",
       "  <tbody>\n",
       "    <tr>\n",
       "      <th>1</th>\n",
       "      <td>1204953</td>\n",
       "      <td>1</td>\n",
       "      <td>100.0</td>\n",
       "      <td>12541</td>\n",
       "      <td>0.29</td>\n",
       "      <td>0.43</td>\n",
       "      <td>167</td>\n",
       "      <td>1</td>\n",
       "      <td>0.0</td>\n",
       "      <td>0.0</td>\n",
       "      <td>...</td>\n",
       "      <td>0</td>\n",
       "      <td>1</td>\n",
       "      <td>0</td>\n",
       "      <td>0</td>\n",
       "      <td>0</td>\n",
       "      <td>0</td>\n",
       "      <td>0</td>\n",
       "      <td>0</td>\n",
       "      <td>0</td>\n",
       "      <td>1</td>\n",
       "    </tr>\n",
       "    <tr>\n",
       "      <th>16</th>\n",
       "      <td>1204953</td>\n",
       "      <td>1</td>\n",
       "      <td>100.0</td>\n",
       "      <td>12541</td>\n",
       "      <td>0.29</td>\n",
       "      <td>0.43</td>\n",
       "      <td>167</td>\n",
       "      <td>1</td>\n",
       "      <td>0.0</td>\n",
       "      <td>0.0</td>\n",
       "      <td>...</td>\n",
       "      <td>0</td>\n",
       "      <td>1</td>\n",
       "      <td>0</td>\n",
       "      <td>0</td>\n",
       "      <td>0</td>\n",
       "      <td>0</td>\n",
       "      <td>0</td>\n",
       "      <td>0</td>\n",
       "      <td>0</td>\n",
       "      <td>1</td>\n",
       "    </tr>\n",
       "    <tr>\n",
       "      <th>39</th>\n",
       "      <td>1204953</td>\n",
       "      <td>1</td>\n",
       "      <td>100.0</td>\n",
       "      <td>12541</td>\n",
       "      <td>0.29</td>\n",
       "      <td>0.43</td>\n",
       "      <td>167</td>\n",
       "      <td>1</td>\n",
       "      <td>0.0</td>\n",
       "      <td>0.0</td>\n",
       "      <td>...</td>\n",
       "      <td>0</td>\n",
       "      <td>1</td>\n",
       "      <td>0</td>\n",
       "      <td>0</td>\n",
       "      <td>0</td>\n",
       "      <td>0</td>\n",
       "      <td>0</td>\n",
       "      <td>0</td>\n",
       "      <td>0</td>\n",
       "      <td>1</td>\n",
       "    </tr>\n",
       "    <tr>\n",
       "      <th>45</th>\n",
       "      <td>1204953</td>\n",
       "      <td>1</td>\n",
       "      <td>100.0</td>\n",
       "      <td>12541</td>\n",
       "      <td>0.29</td>\n",
       "      <td>0.43</td>\n",
       "      <td>167</td>\n",
       "      <td>1</td>\n",
       "      <td>0.0</td>\n",
       "      <td>0.0</td>\n",
       "      <td>...</td>\n",
       "      <td>0</td>\n",
       "      <td>1</td>\n",
       "      <td>0</td>\n",
       "      <td>0</td>\n",
       "      <td>0</td>\n",
       "      <td>0</td>\n",
       "      <td>0</td>\n",
       "      <td>0</td>\n",
       "      <td>1</td>\n",
       "      <td>0</td>\n",
       "    </tr>\n",
       "    <tr>\n",
       "      <th>54</th>\n",
       "      <td>1204953</td>\n",
       "      <td>1</td>\n",
       "      <td>100.0</td>\n",
       "      <td>12541</td>\n",
       "      <td>0.29</td>\n",
       "      <td>0.43</td>\n",
       "      <td>167</td>\n",
       "      <td>1</td>\n",
       "      <td>0.0</td>\n",
       "      <td>0.0</td>\n",
       "      <td>...</td>\n",
       "      <td>0</td>\n",
       "      <td>1</td>\n",
       "      <td>0</td>\n",
       "      <td>0</td>\n",
       "      <td>0</td>\n",
       "      <td>0</td>\n",
       "      <td>0</td>\n",
       "      <td>0</td>\n",
       "      <td>1</td>\n",
       "      <td>0</td>\n",
       "    </tr>\n",
       "    <tr>\n",
       "      <th>...</th>\n",
       "      <td>...</td>\n",
       "      <td>...</td>\n",
       "      <td>...</td>\n",
       "      <td>...</td>\n",
       "      <td>...</td>\n",
       "      <td>...</td>\n",
       "      <td>...</td>\n",
       "      <td>...</td>\n",
       "      <td>...</td>\n",
       "      <td>...</td>\n",
       "      <td>...</td>\n",
       "      <td>...</td>\n",
       "      <td>...</td>\n",
       "      <td>...</td>\n",
       "      <td>...</td>\n",
       "      <td>...</td>\n",
       "      <td>...</td>\n",
       "      <td>...</td>\n",
       "      <td>...</td>\n",
       "      <td>...</td>\n",
       "      <td>...</td>\n",
       "    </tr>\n",
       "    <tr>\n",
       "      <th>4228</th>\n",
       "      <td>1204953</td>\n",
       "      <td>1</td>\n",
       "      <td>100.0</td>\n",
       "      <td>12541</td>\n",
       "      <td>0.29</td>\n",
       "      <td>0.43</td>\n",
       "      <td>167</td>\n",
       "      <td>1</td>\n",
       "      <td>0.0</td>\n",
       "      <td>0.0</td>\n",
       "      <td>...</td>\n",
       "      <td>0</td>\n",
       "      <td>1</td>\n",
       "      <td>0</td>\n",
       "      <td>0</td>\n",
       "      <td>0</td>\n",
       "      <td>0</td>\n",
       "      <td>0</td>\n",
       "      <td>0</td>\n",
       "      <td>1</td>\n",
       "      <td>0</td>\n",
       "    </tr>\n",
       "    <tr>\n",
       "      <th>4244</th>\n",
       "      <td>1204953</td>\n",
       "      <td>1</td>\n",
       "      <td>100.0</td>\n",
       "      <td>12541</td>\n",
       "      <td>0.29</td>\n",
       "      <td>0.43</td>\n",
       "      <td>167</td>\n",
       "      <td>1</td>\n",
       "      <td>0.0</td>\n",
       "      <td>0.0</td>\n",
       "      <td>...</td>\n",
       "      <td>0</td>\n",
       "      <td>1</td>\n",
       "      <td>0</td>\n",
       "      <td>0</td>\n",
       "      <td>0</td>\n",
       "      <td>0</td>\n",
       "      <td>0</td>\n",
       "      <td>0</td>\n",
       "      <td>0</td>\n",
       "      <td>1</td>\n",
       "    </tr>\n",
       "    <tr>\n",
       "      <th>4254</th>\n",
       "      <td>1204953</td>\n",
       "      <td>1</td>\n",
       "      <td>100.0</td>\n",
       "      <td>12541</td>\n",
       "      <td>0.29</td>\n",
       "      <td>0.43</td>\n",
       "      <td>167</td>\n",
       "      <td>1</td>\n",
       "      <td>0.0</td>\n",
       "      <td>0.0</td>\n",
       "      <td>...</td>\n",
       "      <td>0</td>\n",
       "      <td>1</td>\n",
       "      <td>0</td>\n",
       "      <td>0</td>\n",
       "      <td>0</td>\n",
       "      <td>0</td>\n",
       "      <td>0</td>\n",
       "      <td>0</td>\n",
       "      <td>0</td>\n",
       "      <td>1</td>\n",
       "    </tr>\n",
       "    <tr>\n",
       "      <th>4263</th>\n",
       "      <td>1204953</td>\n",
       "      <td>1</td>\n",
       "      <td>100.0</td>\n",
       "      <td>12541</td>\n",
       "      <td>0.29</td>\n",
       "      <td>0.43</td>\n",
       "      <td>167</td>\n",
       "      <td>1</td>\n",
       "      <td>0.0</td>\n",
       "      <td>0.0</td>\n",
       "      <td>...</td>\n",
       "      <td>0</td>\n",
       "      <td>1</td>\n",
       "      <td>0</td>\n",
       "      <td>0</td>\n",
       "      <td>0</td>\n",
       "      <td>0</td>\n",
       "      <td>0</td>\n",
       "      <td>0</td>\n",
       "      <td>0</td>\n",
       "      <td>1</td>\n",
       "    </tr>\n",
       "    <tr>\n",
       "      <th>4285</th>\n",
       "      <td>1204953</td>\n",
       "      <td>1</td>\n",
       "      <td>100.0</td>\n",
       "      <td>12541</td>\n",
       "      <td>0.29</td>\n",
       "      <td>0.43</td>\n",
       "      <td>167</td>\n",
       "      <td>1</td>\n",
       "      <td>0.0</td>\n",
       "      <td>0.0</td>\n",
       "      <td>...</td>\n",
       "      <td>0</td>\n",
       "      <td>1</td>\n",
       "      <td>0</td>\n",
       "      <td>0</td>\n",
       "      <td>0</td>\n",
       "      <td>0</td>\n",
       "      <td>0</td>\n",
       "      <td>0</td>\n",
       "      <td>1</td>\n",
       "      <td>0</td>\n",
       "    </tr>\n",
       "  </tbody>\n",
       "</table>\n",
       "<p>431 rows × 33 columns</p>\n",
       "</div>"
      ],
      "text/plain": [
       "      no_inhabitants  no_cities  ratio_urban_inhabitants  average_salary  \\\n",
       "1            1204953          1                    100.0           12541   \n",
       "16           1204953          1                    100.0           12541   \n",
       "39           1204953          1                    100.0           12541   \n",
       "45           1204953          1                    100.0           12541   \n",
       "54           1204953          1                    100.0           12541   \n",
       "...              ...        ...                      ...             ...   \n",
       "4228         1204953          1                    100.0           12541   \n",
       "4244         1204953          1                    100.0           12541   \n",
       "4254         1204953          1                    100.0           12541   \n",
       "4263         1204953          1                    100.0           12541   \n",
       "4285         1204953          1                    100.0           12541   \n",
       "\n",
       "      unemploymant_rate_95  unemploymant_rate_96  \\\n",
       "1                     0.29                  0.43   \n",
       "16                    0.29                  0.43   \n",
       "39                    0.29                  0.43   \n",
       "45                    0.29                  0.43   \n",
       "54                    0.29                  0.43   \n",
       "...                    ...                   ...   \n",
       "4228                  0.29                  0.43   \n",
       "4244                  0.29                  0.43   \n",
       "4254                  0.29                  0.43   \n",
       "4263                  0.29                  0.43   \n",
       "4285                  0.29                  0.43   \n",
       "\n",
       "      no_enterpreneurs_per_1000_inhabitants  Nb_muni  ratio_mun_499  \\\n",
       "1                                       167        1            0.0   \n",
       "16                                      167        1            0.0   \n",
       "39                                      167        1            0.0   \n",
       "45                                      167        1            0.0   \n",
       "54                                      167        1            0.0   \n",
       "...                                     ...      ...            ...   \n",
       "4228                                    167        1            0.0   \n",
       "4244                                    167        1            0.0   \n",
       "4254                                    167        1            0.0   \n",
       "4263                                    167        1            0.0   \n",
       "4285                                    167        1            0.0   \n",
       "\n",
       "      ratio_mun_500_1999  ...  district_new_Brno - mesto  \\\n",
       "1                    0.0  ...                          0   \n",
       "16                   0.0  ...                          0   \n",
       "39                   0.0  ...                          0   \n",
       "45                   0.0  ...                          0   \n",
       "54                   0.0  ...                          0   \n",
       "...                  ...  ...                        ...   \n",
       "4228                 0.0  ...                          0   \n",
       "4244                 0.0  ...                          0   \n",
       "4254                 0.0  ...                          0   \n",
       "4263                 0.0  ...                          0   \n",
       "4285                 0.0  ...                          0   \n",
       "\n",
       "      district_new_Hl.m. Praha  district_new_Karvina  district_new_Louny  \\\n",
       "1                            1                     0                   0   \n",
       "16                           1                     0                   0   \n",
       "39                           1                     0                   0   \n",
       "45                           1                     0                   0   \n",
       "54                           1                     0                   0   \n",
       "...                        ...                   ...                 ...   \n",
       "4228                         1                     0                   0   \n",
       "4244                         1                     0                   0   \n",
       "4254                         1                     0                   0   \n",
       "4263                         1                     0                   0   \n",
       "4285                         1                     0                   0   \n",
       "\n",
       "      district_new_Most  district_new_Ostrava - mesto  district_new_Other  \\\n",
       "1                     0                             0                   0   \n",
       "16                    0                             0                   0   \n",
       "39                    0                             0                   0   \n",
       "45                    0                             0                   0   \n",
       "54                    0                             0                   0   \n",
       "...                 ...                           ...                 ...   \n",
       "4228                  0                             0                   0   \n",
       "4244                  0                             0                   0   \n",
       "4254                  0                             0                   0   \n",
       "4263                  0                             0                   0   \n",
       "4285                  0                             0                   0   \n",
       "\n",
       "      district_new_Plzen - mesto  sex_F  sex_M  \n",
       "1                              0      0      1  \n",
       "16                             0      0      1  \n",
       "39                             0      0      1  \n",
       "45                             0      1      0  \n",
       "54                             0      1      0  \n",
       "...                          ...    ...    ...  \n",
       "4228                           0      1      0  \n",
       "4244                           0      0      1  \n",
       "4254                           0      0      1  \n",
       "4263                           0      0      1  \n",
       "4285                           0      1      0  \n",
       "\n",
       "[431 rows x 33 columns]"
      ]
     },
     "execution_count": 35,
     "metadata": {},
     "output_type": "execute_result"
    }
   ],
   "source": [
    "clust_socdem.loc[clust_socdem['district_new_Hl.m. Praha']==1]"
   ]
  },
  {
   "cell_type": "code",
   "execution_count": 36,
   "metadata": {},
   "outputs": [],
   "source": [
    "import scipy.cluster.hierarchy as sch\n",
    "from sklearn.cluster import AgglomerativeClustering"
   ]
  },
  {
   "cell_type": "code",
   "execution_count": 37,
   "metadata": {},
   "outputs": [
    {
     "data": {
      "image/png": "[encoded data removed]",
      "text/plain": [
       "<Figure size 432x288 with 1 Axes>"
      ]
     },
     "metadata": {
      "needs_background": "light"
     },
     "output_type": "display_data"
    }
   ],
   "source": [
    "dendrogram = sch.dendrogram(sch.linkage(clust_socdem, method='ward'))\n",
    "\n",
    "hc = AgglomerativeClustering(n_clusters=2, affinity = 'euclidean', linkage = 'ward')\n",
    "y_hc = hc.fit_predict(clust_socdem)"
   ]
  },
  {
   "cell_type": "code",
   "execution_count": 38,
   "metadata": {},
   "outputs": [
    {
     "data": {
      "text/html": [
       "<div>\n",
       "<style scoped>\n",
       "    .dataframe tbody tr th:only-of-type {\n",
       "        vertical-align: middle;\n",
       "    }\n",
       "\n",
       "    .dataframe tbody tr th {\n",
       "        vertical-align: top;\n",
       "    }\n",
       "\n",
       "    .dataframe thead th {\n",
       "        text-align: right;\n",
       "    }\n",
       "</style>\n",
       "<table border=\"1\" class=\"dataframe\">\n",
       "  <thead>\n",
       "    <tr style=\"text-align: right;\">\n",
       "      <th></th>\n",
       "      <th>no_inhabitants</th>\n",
       "      <th>no_cities</th>\n",
       "      <th>ratio_urban_inhabitants</th>\n",
       "      <th>average_salary</th>\n",
       "      <th>unemploymant_rate_95</th>\n",
       "      <th>unemploymant_rate_96</th>\n",
       "      <th>no_enterpreneurs_per_1000_inhabitants</th>\n",
       "      <th>Nb_muni</th>\n",
       "      <th>ratio_mun_499</th>\n",
       "      <th>ratio_mun_500_1999</th>\n",
       "      <th>...</th>\n",
       "      <th>district_new_Brno - mesto</th>\n",
       "      <th>district_new_Hl.m. Praha</th>\n",
       "      <th>district_new_Karvina</th>\n",
       "      <th>district_new_Louny</th>\n",
       "      <th>district_new_Most</th>\n",
       "      <th>district_new_Ostrava - mesto</th>\n",
       "      <th>district_new_Other</th>\n",
       "      <th>district_new_Plzen - mesto</th>\n",
       "      <th>sex_F</th>\n",
       "      <th>sex_M</th>\n",
       "    </tr>\n",
       "  </thead>\n",
       "  <tbody>\n",
       "    <tr>\n",
       "      <th>1</th>\n",
       "      <td>1204953</td>\n",
       "      <td>1</td>\n",
       "      <td>100.0</td>\n",
       "      <td>12541</td>\n",
       "      <td>0.29</td>\n",
       "      <td>0.43</td>\n",
       "      <td>167</td>\n",
       "      <td>1</td>\n",
       "      <td>0.0</td>\n",
       "      <td>0.0</td>\n",
       "      <td>...</td>\n",
       "      <td>0</td>\n",
       "      <td>1</td>\n",
       "      <td>0</td>\n",
       "      <td>0</td>\n",
       "      <td>0</td>\n",
       "      <td>0</td>\n",
       "      <td>0</td>\n",
       "      <td>0</td>\n",
       "      <td>0</td>\n",
       "      <td>1</td>\n",
       "    </tr>\n",
       "    <tr>\n",
       "      <th>16</th>\n",
       "      <td>1204953</td>\n",
       "      <td>1</td>\n",
       "      <td>100.0</td>\n",
       "      <td>12541</td>\n",
       "      <td>0.29</td>\n",
       "      <td>0.43</td>\n",
       "      <td>167</td>\n",
       "      <td>1</td>\n",
       "      <td>0.0</td>\n",
       "      <td>0.0</td>\n",
       "      <td>...</td>\n",
       "      <td>0</td>\n",
       "      <td>1</td>\n",
       "      <td>0</td>\n",
       "      <td>0</td>\n",
       "      <td>0</td>\n",
       "      <td>0</td>\n",
       "      <td>0</td>\n",
       "      <td>0</td>\n",
       "      <td>0</td>\n",
       "      <td>1</td>\n",
       "    </tr>\n",
       "    <tr>\n",
       "      <th>39</th>\n",
       "      <td>1204953</td>\n",
       "      <td>1</td>\n",
       "      <td>100.0</td>\n",
       "      <td>12541</td>\n",
       "      <td>0.29</td>\n",
       "      <td>0.43</td>\n",
       "      <td>167</td>\n",
       "      <td>1</td>\n",
       "      <td>0.0</td>\n",
       "      <td>0.0</td>\n",
       "      <td>...</td>\n",
       "      <td>0</td>\n",
       "      <td>1</td>\n",
       "      <td>0</td>\n",
       "      <td>0</td>\n",
       "      <td>0</td>\n",
       "      <td>0</td>\n",
       "      <td>0</td>\n",
       "      <td>0</td>\n",
       "      <td>0</td>\n",
       "      <td>1</td>\n",
       "    </tr>\n",
       "    <tr>\n",
       "      <th>45</th>\n",
       "      <td>1204953</td>\n",
       "      <td>1</td>\n",
       "      <td>100.0</td>\n",
       "      <td>12541</td>\n",
       "      <td>0.29</td>\n",
       "      <td>0.43</td>\n",
       "      <td>167</td>\n",
       "      <td>1</td>\n",
       "      <td>0.0</td>\n",
       "      <td>0.0</td>\n",
       "      <td>...</td>\n",
       "      <td>0</td>\n",
       "      <td>1</td>\n",
       "      <td>0</td>\n",
       "      <td>0</td>\n",
       "      <td>0</td>\n",
       "      <td>0</td>\n",
       "      <td>0</td>\n",
       "      <td>0</td>\n",
       "      <td>1</td>\n",
       "      <td>0</td>\n",
       "    </tr>\n",
       "    <tr>\n",
       "      <th>54</th>\n",
       "      <td>1204953</td>\n",
       "      <td>1</td>\n",
       "      <td>100.0</td>\n",
       "      <td>12541</td>\n",
       "      <td>0.29</td>\n",
       "      <td>0.43</td>\n",
       "      <td>167</td>\n",
       "      <td>1</td>\n",
       "      <td>0.0</td>\n",
       "      <td>0.0</td>\n",
       "      <td>...</td>\n",
       "      <td>0</td>\n",
       "      <td>1</td>\n",
       "      <td>0</td>\n",
       "      <td>0</td>\n",
       "      <td>0</td>\n",
       "      <td>0</td>\n",
       "      <td>0</td>\n",
       "      <td>0</td>\n",
       "      <td>1</td>\n",
       "      <td>0</td>\n",
       "    </tr>\n",
       "    <tr>\n",
       "      <th>...</th>\n",
       "      <td>...</td>\n",
       "      <td>...</td>\n",
       "      <td>...</td>\n",
       "      <td>...</td>\n",
       "      <td>...</td>\n",
       "      <td>...</td>\n",
       "      <td>...</td>\n",
       "      <td>...</td>\n",
       "      <td>...</td>\n",
       "      <td>...</td>\n",
       "      <td>...</td>\n",
       "      <td>...</td>\n",
       "      <td>...</td>\n",
       "      <td>...</td>\n",
       "      <td>...</td>\n",
       "      <td>...</td>\n",
       "      <td>...</td>\n",
       "      <td>...</td>\n",
       "      <td>...</td>\n",
       "      <td>...</td>\n",
       "      <td>...</td>\n",
       "    </tr>\n",
       "    <tr>\n",
       "      <th>4228</th>\n",
       "      <td>1204953</td>\n",
       "      <td>1</td>\n",
       "      <td>100.0</td>\n",
       "      <td>12541</td>\n",
       "      <td>0.29</td>\n",
       "      <td>0.43</td>\n",
       "      <td>167</td>\n",
       "      <td>1</td>\n",
       "      <td>0.0</td>\n",
       "      <td>0.0</td>\n",
       "      <td>...</td>\n",
       "      <td>0</td>\n",
       "      <td>1</td>\n",
       "      <td>0</td>\n",
       "      <td>0</td>\n",
       "      <td>0</td>\n",
       "      <td>0</td>\n",
       "      <td>0</td>\n",
       "      <td>0</td>\n",
       "      <td>1</td>\n",
       "      <td>0</td>\n",
       "    </tr>\n",
       "    <tr>\n",
       "      <th>4244</th>\n",
       "      <td>1204953</td>\n",
       "      <td>1</td>\n",
       "      <td>100.0</td>\n",
       "      <td>12541</td>\n",
       "      <td>0.29</td>\n",
       "      <td>0.43</td>\n",
       "      <td>167</td>\n",
       "      <td>1</td>\n",
       "      <td>0.0</td>\n",
       "      <td>0.0</td>\n",
       "      <td>...</td>\n",
       "      <td>0</td>\n",
       "      <td>1</td>\n",
       "      <td>0</td>\n",
       "      <td>0</td>\n",
       "      <td>0</td>\n",
       "      <td>0</td>\n",
       "      <td>0</td>\n",
       "      <td>0</td>\n",
       "      <td>0</td>\n",
       "      <td>1</td>\n",
       "    </tr>\n",
       "    <tr>\n",
       "      <th>4254</th>\n",
       "      <td>1204953</td>\n",
       "      <td>1</td>\n",
       "      <td>100.0</td>\n",
       "      <td>12541</td>\n",
       "      <td>0.29</td>\n",
       "      <td>0.43</td>\n",
       "      <td>167</td>\n",
       "      <td>1</td>\n",
       "      <td>0.0</td>\n",
       "      <td>0.0</td>\n",
       "      <td>...</td>\n",
       "      <td>0</td>\n",
       "      <td>1</td>\n",
       "      <td>0</td>\n",
       "      <td>0</td>\n",
       "      <td>0</td>\n",
       "      <td>0</td>\n",
       "      <td>0</td>\n",
       "      <td>0</td>\n",
       "      <td>0</td>\n",
       "      <td>1</td>\n",
       "    </tr>\n",
       "    <tr>\n",
       "      <th>4263</th>\n",
       "      <td>1204953</td>\n",
       "      <td>1</td>\n",
       "      <td>100.0</td>\n",
       "      <td>12541</td>\n",
       "      <td>0.29</td>\n",
       "      <td>0.43</td>\n",
       "      <td>167</td>\n",
       "      <td>1</td>\n",
       "      <td>0.0</td>\n",
       "      <td>0.0</td>\n",
       "      <td>...</td>\n",
       "      <td>0</td>\n",
       "      <td>1</td>\n",
       "      <td>0</td>\n",
       "      <td>0</td>\n",
       "      <td>0</td>\n",
       "      <td>0</td>\n",
       "      <td>0</td>\n",
       "      <td>0</td>\n",
       "      <td>0</td>\n",
       "      <td>1</td>\n",
       "    </tr>\n",
       "    <tr>\n",
       "      <th>4285</th>\n",
       "      <td>1204953</td>\n",
       "      <td>1</td>\n",
       "      <td>100.0</td>\n",
       "      <td>12541</td>\n",
       "      <td>0.29</td>\n",
       "      <td>0.43</td>\n",
       "      <td>167</td>\n",
       "      <td>1</td>\n",
       "      <td>0.0</td>\n",
       "      <td>0.0</td>\n",
       "      <td>...</td>\n",
       "      <td>0</td>\n",
       "      <td>1</td>\n",
       "      <td>0</td>\n",
       "      <td>0</td>\n",
       "      <td>0</td>\n",
       "      <td>0</td>\n",
       "      <td>0</td>\n",
       "      <td>0</td>\n",
       "      <td>1</td>\n",
       "      <td>0</td>\n",
       "    </tr>\n",
       "  </tbody>\n",
       "</table>\n",
       "<p>431 rows × 33 columns</p>\n",
       "</div>"
      ],
      "text/plain": [
       "      no_inhabitants  no_cities  ratio_urban_inhabitants  average_salary  \\\n",
       "1            1204953          1                    100.0           12541   \n",
       "16           1204953          1                    100.0           12541   \n",
       "39           1204953          1                    100.0           12541   \n",
       "45           1204953          1                    100.0           12541   \n",
       "54           1204953          1                    100.0           12541   \n",
       "...              ...        ...                      ...             ...   \n",
       "4228         1204953          1                    100.0           12541   \n",
       "4244         1204953          1                    100.0           12541   \n",
       "4254         1204953          1                    100.0           12541   \n",
       "4263         1204953          1                    100.0           12541   \n",
       "4285         1204953          1                    100.0           12541   \n",
       "\n",
       "      unemploymant_rate_95  unemploymant_rate_96  \\\n",
       "1                     0.29                  0.43   \n",
       "16                    0.29                  0.43   \n",
       "39                    0.29                  0.43   \n",
       "45                    0.29                  0.43   \n",
       "54                    0.29                  0.43   \n",
       "...                    ...                   ...   \n",
       "4228                  0.29                  0.43   \n",
       "4244                  0.29                  0.43   \n",
       "4254                  0.29                  0.43   \n",
       "4263                  0.29                  0.43   \n",
       "4285                  0.29                  0.43   \n",
       "\n",
       "      no_enterpreneurs_per_1000_inhabitants  Nb_muni  ratio_mun_499  \\\n",
       "1                                       167        1            0.0   \n",
       "16                                      167        1            0.0   \n",
       "39                                      167        1            0.0   \n",
       "45                                      167        1            0.0   \n",
       "54                                      167        1            0.0   \n",
       "...                                     ...      ...            ...   \n",
       "4228                                    167        1            0.0   \n",
       "4244                                    167        1            0.0   \n",
       "4254                                    167        1            0.0   \n",
       "4263                                    167        1            0.0   \n",
       "4285                                    167        1            0.0   \n",
       "\n",
       "      ratio_mun_500_1999  ...  district_new_Brno - mesto  \\\n",
       "1                    0.0  ...                          0   \n",
       "16                   0.0  ...                          0   \n",
       "39                   0.0  ...                          0   \n",
       "45                   0.0  ...                          0   \n",
       "54                   0.0  ...                          0   \n",
       "...                  ...  ...                        ...   \n",
       "4228                 0.0  ...                          0   \n",
       "4244                 0.0  ...                          0   \n",
       "4254                 0.0  ...                          0   \n",
       "4263                 0.0  ...                          0   \n",
       "4285                 0.0  ...                          0   \n",
       "\n",
       "      district_new_Hl.m. Praha  district_new_Karvina  district_new_Louny  \\\n",
       "1                            1                     0                   0   \n",
       "16                           1                     0                   0   \n",
       "39                           1                     0                   0   \n",
       "45                           1                     0                   0   \n",
       "54                           1                     0                   0   \n",
       "...                        ...                   ...                 ...   \n",
       "4228                         1                     0                   0   \n",
       "4244                         1                     0                   0   \n",
       "4254                         1                     0                   0   \n",
       "4263                         1                     0                   0   \n",
       "4285                         1                     0                   0   \n",
       "\n",
       "      district_new_Most  district_new_Ostrava - mesto  district_new_Other  \\\n",
       "1                     0                             0                   0   \n",
       "16                    0                             0                   0   \n",
       "39                    0                             0                   0   \n",
       "45                    0                             0                   0   \n",
       "54                    0                             0                   0   \n",
       "...                 ...                           ...                 ...   \n",
       "4228                  0                             0                   0   \n",
       "4244                  0                             0                   0   \n",
       "4254                  0                             0                   0   \n",
       "4263                  0                             0                   0   \n",
       "4285                  0                             0                   0   \n",
       "\n",
       "      district_new_Plzen - mesto  sex_F  sex_M  \n",
       "1                              0      0      1  \n",
       "16                             0      0      1  \n",
       "39                             0      0      1  \n",
       "45                             0      1      0  \n",
       "54                             0      1      0  \n",
       "...                          ...    ...    ...  \n",
       "4228                           0      1      0  \n",
       "4244                           0      0      1  \n",
       "4254                           0      0      1  \n",
       "4263                           0      0      1  \n",
       "4285                           0      1      0  \n",
       "\n",
       "[431 rows x 33 columns]"
      ]
     },
     "execution_count": 38,
     "metadata": {},
     "output_type": "execute_result"
    }
   ],
   "source": [
    "clust_socdem.loc[y_hc==1]"
   ]
  },
  {
   "cell_type": "code",
   "execution_count": 39,
   "metadata": {},
   "outputs": [],
   "source": [
    "# info banco"
   ]
  },
  {
   "cell_type": "code",
   "execution_count": 40,
   "metadata": {},
   "outputs": [],
   "source": [
    "binf = MinMaxScaler().fit_transform(clust_binf)"
   ]
  },
  {
   "cell_type": "code",
   "execution_count": 41,
   "metadata": {},
   "outputs": [
    {
     "data": {
      "text/plain": [
       "Text(0, 0.5, '$J(C_k)$')"
      ]
     },
     "execution_count": 41,
     "metadata": {},
     "output_type": "execute_result"
    },
    {
     "data": {
      "image/png": "[encoded data removed]",
      "text/plain": [
       "<Figure size 432x288 with 1 Axes>"
      ]
     },
     "metadata": {
      "needs_background": "light"
     },
     "output_type": "display_data"
    }
   ],
   "source": [
    "inertia = []\n",
    "for k in range(1, 40):\n",
    "    kmeans = KMeans(n_clusters=k, random_state=1).fit(binf)\n",
    "    inertia.append(np.sqrt(kmeans.inertia_))\n",
    "    \n",
    "plt.plot(range(1, 40), inertia, marker='s');\n",
    "plt.xlabel('$k$')\n",
    "plt.ylabel('$J(C_k)$')"
   ]
  },
  {
   "cell_type": "code",
   "execution_count": 42,
   "metadata": {},
   "outputs": [],
   "source": [
    "kmeans = KMeans(n_clusters=4, random_state=1).fit(binf)"
   ]
  },
  {
   "cell_type": "code",
   "execution_count": 43,
   "metadata": {},
   "outputs": [
    {
     "name": "stdout",
     "output_type": "stream",
     "text": [
      "C0: 2663 , C1: 60 , C2: 520 , C3: 359\n"
     ]
    }
   ],
   "source": [
    "y_km = kmeans.fit_predict(clust_binf)\n",
    "print('C0:',(y_km==0).sum(),', C1:',(y_km==1).sum(),', C2:',(y_km==2).sum(),', C3:',(y_km==3).sum())"
   ]
  },
  {
   "cell_type": "code",
   "execution_count": 44,
   "metadata": {},
   "outputs": [
    {
     "data": {
      "image/png": "[encoded data removed]",
      "text/plain": [
       "<Figure size 1080x576 with 1 Axes>"
      ]
     },
     "metadata": {
      "needs_background": "light"
     },
     "output_type": "display_data"
    }
   ],
   "source": [
    "fig, ax = plt.subplots(figsize=(15,8))\n",
    "ax.plot(clust_binf.columns, kmeans.cluster_centers_[0], label='C0')\n",
    "ax.plot(clust_binf.columns, kmeans.cluster_centers_[1], label='C1')\n",
    "ax.plot(clust_binf.columns, kmeans.cluster_centers_[2], label='C2')\n",
    "ax.plot(clust_binf.columns, kmeans.cluster_centers_[3], label='C3')\n",
    "#ax.plot(clust_binf.columns, kmeans.cluster_centers_[4], label='C4')\n",
    "legend = ax.legend(loc='upper right')\n",
    "_=plt.xticks(rotation=90)"
   ]
  },
  {
   "cell_type": "code",
   "execution_count": 45,
   "metadata": {},
   "outputs": [
    {
     "data": {
      "image/png": "[encoded data removed]",
      "text/plain": [
       "<Figure size 432x288 with 1 Axes>"
      ]
     },
     "metadata": {
      "needs_background": "light"
     },
     "output_type": "display_data"
    }
   ],
   "source": [
    "dendrogram = sch.dendrogram(sch.linkage(clust_binf, method='ward'))\n",
    "\n",
    "hc = AgglomerativeClustering(n_clusters=4, affinity = 'euclidean', linkage = 'ward')\n",
    "y_hc = hc.fit_predict(clust_binf)"
   ]
  },
  {
   "cell_type": "code",
   "execution_count": 46,
   "metadata": {},
   "outputs": [
    {
     "data": {
      "text/plain": [
       "array([3, 0, 3, ..., 2, 3, 2], dtype=int64)"
      ]
     },
     "execution_count": 46,
     "metadata": {},
     "output_type": "execute_result"
    }
   ],
   "source": [
    "y_hc"
   ]
  },
  {
   "cell_type": "code",
   "execution_count": 47,
   "metadata": {},
   "outputs": [
    {
     "name": "stdout",
     "output_type": "stream",
     "text": [
      "C0: 822 , C1: 53 , C2: 107 , C3: 2620\n"
     ]
    }
   ],
   "source": [
    "print('C0:',(y_hc==0).sum(),', C1:',(y_hc==1).sum(),', C2:',(y_hc==2).sum(),', C3:',(y_hc==3).sum())"
   ]
  },
  {
   "cell_type": "markdown",
   "metadata": {},
   "source": [
    "## Clustering nos loan\n",
    "#### uso das variáveis importantes no RFE"
   ]
  },
  {
   "cell_type": "code",
   "execution_count": 48,
   "metadata": {},
   "outputs": [],
   "source": [
    "pred1=descriptive[['account_id', 'loan_date', 'status', 'amount', 'payments', 'avg_fout_trans', 'balance_sum', 'avg_balance',\n",
    "       'avg_nr_ptrans', 'avg_amt_ptrans', 'risk_trans', 'nr_rtrans']]"
   ]
  },
  {
   "cell_type": "markdown",
   "metadata": {},
   "source": [
    "#### retirar variáveis desinteressantes"
   ]
  },
  {
   "cell_type": "code",
   "execution_count": 49,
   "metadata": {},
   "outputs": [],
   "source": [
    "pred1=descriptive[['account_id', 'loan_date', 'status', 'payments', 'avg_fout_trans', 'balance_sum', \n",
    "       'avg_amt_ptrans', 'risk_trans', 'nr_rtrans']]"
   ]
  },
  {
   "cell_type": "code",
   "execution_count": 50,
   "metadata": {},
   "outputs": [
    {
     "name": "stderr",
     "output_type": "stream",
     "text": [
      "C:\\Users\\Fabio\\anaconda3\\lib\\site-packages\\pandas\\core\\frame.py:3997: SettingWithCopyWarning: \n",
      "A value is trying to be set on a copy of a slice from a DataFrame\n",
      "\n",
      "See the caveats in the documentation: https://pandas.pydata.org/pandas-docs/stable/user_guide/indexing.html#returning-a-view-versus-a-copy\n",
      "  errors=errors,\n"
     ]
    }
   ],
   "source": [
    "clust_pred=pred1.loc[(pred1.payments>0)&(pred1.loan_date<'1996-01-01')]\n",
    "\n",
    "clust_pred.drop(['account_id', 'loan_date', 'status'],axis=1,inplace=True)"
   ]
  },
  {
   "cell_type": "code",
   "execution_count": 51,
   "metadata": {},
   "outputs": [
    {
     "data": {
      "text/html": [
       "<div>\n",
       "<style scoped>\n",
       "    .dataframe tbody tr th:only-of-type {\n",
       "        vertical-align: middle;\n",
       "    }\n",
       "\n",
       "    .dataframe tbody tr th {\n",
       "        vertical-align: top;\n",
       "    }\n",
       "\n",
       "    .dataframe thead th {\n",
       "        text-align: right;\n",
       "    }\n",
       "</style>\n",
       "<table border=\"1\" class=\"dataframe\">\n",
       "  <thead>\n",
       "    <tr style=\"text-align: right;\">\n",
       "      <th></th>\n",
       "      <th>payments</th>\n",
       "      <th>avg_fout_trans</th>\n",
       "      <th>balance_sum</th>\n",
       "      <th>avg_amt_ptrans</th>\n",
       "      <th>risk_trans</th>\n",
       "      <th>nr_rtrans</th>\n",
       "    </tr>\n",
       "  </thead>\n",
       "  <tbody>\n",
       "    <tr>\n",
       "      <th>1</th>\n",
       "      <td>3373.0</td>\n",
       "      <td>3310.690909</td>\n",
       "      <td>27840.7</td>\n",
       "      <td>20789.572727</td>\n",
       "      <td>0.0</td>\n",
       "      <td>0.0</td>\n",
       "    </tr>\n",
       "    <tr>\n",
       "      <th>160</th>\n",
       "      <td>8734.0</td>\n",
       "      <td>2461.514286</td>\n",
       "      <td>28015.4</td>\n",
       "      <td>16235.142857</td>\n",
       "      <td>0.0</td>\n",
       "      <td>0.0</td>\n",
       "    </tr>\n",
       "    <tr>\n",
       "      <th>265</th>\n",
       "      <td>2577.0</td>\n",
       "      <td>2970.800000</td>\n",
       "      <td>25187.2</td>\n",
       "      <td>23805.566667</td>\n",
       "      <td>0.0</td>\n",
       "      <td>0.0</td>\n",
       "    </tr>\n",
       "    <tr>\n",
       "      <th>311</th>\n",
       "      <td>1683.0</td>\n",
       "      <td>3289.830769</td>\n",
       "      <td>47137.8</td>\n",
       "      <td>15977.353846</td>\n",
       "      <td>0.0</td>\n",
       "      <td>0.0</td>\n",
       "    </tr>\n",
       "    <tr>\n",
       "      <th>314</th>\n",
       "      <td>7801.0</td>\n",
       "      <td>10.305882</td>\n",
       "      <td>50832.2</td>\n",
       "      <td>29537.858824</td>\n",
       "      <td>1.0</td>\n",
       "      <td>2.0</td>\n",
       "    </tr>\n",
       "    <tr>\n",
       "      <th>...</th>\n",
       "      <td>...</td>\n",
       "      <td>...</td>\n",
       "      <td>...</td>\n",
       "      <td>...</td>\n",
       "      <td>...</td>\n",
       "      <td>...</td>\n",
       "    </tr>\n",
       "    <tr>\n",
       "      <th>4267</th>\n",
       "      <td>1445.0</td>\n",
       "      <td>9.733333</td>\n",
       "      <td>38665.1</td>\n",
       "      <td>13634.073333</td>\n",
       "      <td>0.0</td>\n",
       "      <td>0.0</td>\n",
       "    </tr>\n",
       "    <tr>\n",
       "      <th>4271</th>\n",
       "      <td>3004.0</td>\n",
       "      <td>3167.066667</td>\n",
       "      <td>21921.4</td>\n",
       "      <td>42991.666667</td>\n",
       "      <td>0.0</td>\n",
       "      <td>0.0</td>\n",
       "    </tr>\n",
       "    <tr>\n",
       "      <th>4274</th>\n",
       "      <td>5073.0</td>\n",
       "      <td>0.000000</td>\n",
       "      <td>45660.9</td>\n",
       "      <td>15332.180000</td>\n",
       "      <td>0.0</td>\n",
       "      <td>0.0</td>\n",
       "    </tr>\n",
       "    <tr>\n",
       "      <th>4278</th>\n",
       "      <td>4399.0</td>\n",
       "      <td>1388.422222</td>\n",
       "      <td>21029.0</td>\n",
       "      <td>10042.755556</td>\n",
       "      <td>0.0</td>\n",
       "      <td>0.0</td>\n",
       "    </tr>\n",
       "    <tr>\n",
       "      <th>4285</th>\n",
       "      <td>6998.0</td>\n",
       "      <td>1814.333333</td>\n",
       "      <td>24704.5</td>\n",
       "      <td>38698.416667</td>\n",
       "      <td>0.0</td>\n",
       "      <td>0.0</td>\n",
       "    </tr>\n",
       "  </tbody>\n",
       "</table>\n",
       "<p>211 rows × 6 columns</p>\n",
       "</div>"
      ],
      "text/plain": [
       "      payments  avg_fout_trans  balance_sum  avg_amt_ptrans  risk_trans  \\\n",
       "1       3373.0     3310.690909      27840.7    20789.572727         0.0   \n",
       "160     8734.0     2461.514286      28015.4    16235.142857         0.0   \n",
       "265     2577.0     2970.800000      25187.2    23805.566667         0.0   \n",
       "311     1683.0     3289.830769      47137.8    15977.353846         0.0   \n",
       "314     7801.0       10.305882      50832.2    29537.858824         1.0   \n",
       "...        ...             ...          ...             ...         ...   \n",
       "4267    1445.0        9.733333      38665.1    13634.073333         0.0   \n",
       "4271    3004.0     3167.066667      21921.4    42991.666667         0.0   \n",
       "4274    5073.0        0.000000      45660.9    15332.180000         0.0   \n",
       "4278    4399.0     1388.422222      21029.0    10042.755556         0.0   \n",
       "4285    6998.0     1814.333333      24704.5    38698.416667         0.0   \n",
       "\n",
       "      nr_rtrans  \n",
       "1           0.0  \n",
       "160         0.0  \n",
       "265         0.0  \n",
       "311         0.0  \n",
       "314         2.0  \n",
       "...         ...  \n",
       "4267        0.0  \n",
       "4271        0.0  \n",
       "4274        0.0  \n",
       "4278        0.0  \n",
       "4285        0.0  \n",
       "\n",
       "[211 rows x 6 columns]"
      ]
     },
     "execution_count": 51,
     "metadata": {},
     "output_type": "execute_result"
    }
   ],
   "source": [
    "clust_pred"
   ]
  },
  {
   "cell_type": "code",
   "execution_count": 59,
   "metadata": {},
   "outputs": [],
   "source": [
    "minmax = MinMaxScaler().fit(clust_pred)\n",
    "pred = minmax.transform(clust_pred)"
   ]
  },
  {
   "cell_type": "code",
   "execution_count": 60,
   "metadata": {},
   "outputs": [
    {
     "data": {
      "text/plain": [
       "Text(0, 0.5, '$J(C_k)$')"
      ]
     },
     "execution_count": 60,
     "metadata": {},
     "output_type": "execute_result"
    },
    {
     "data": {
      "image/png": "[encoded data removed]",
      "text/plain": [
       "<Figure size 432x288 with 1 Axes>"
      ]
     },
     "metadata": {
      "needs_background": "light"
     },
     "output_type": "display_data"
    }
   ],
   "source": [
    "inertia = []\n",
    "for k in range(1, 40):\n",
    "    kmeans = KMeans(n_clusters=k, random_state=1).fit(pred)\n",
    "    inertia.append(np.sqrt(kmeans.inertia_))\n",
    "    \n",
    "plt.plot(range(1, 40), inertia, marker='s');\n",
    "plt.xlabel('$k$')\n",
    "plt.ylabel('$J(C_k)$')"
   ]
  },
  {
   "cell_type": "code",
   "execution_count": 61,
   "metadata": {},
   "outputs": [],
   "source": [
    "kmeans = KMeans(n_clusters=5, random_state=1).fit(pred)"
   ]
  },
  {
   "cell_type": "code",
   "execution_count": 62,
   "metadata": {},
   "outputs": [
    {
     "name": "stdout",
     "output_type": "stream",
     "text": [
      "C0: 46 , C1: 35 , C2: 34 , C3: 10 , C4: 86\n"
     ]
    }
   ],
   "source": [
    "y_km = kmeans.predict(pred)\n",
    "print('C0:',(y_km==0).sum(),', C1:',(y_km==1).sum(),', C2:',(y_km==2).sum(),', C3:',(y_km==3).sum(),', C4:',(y_km==4).sum())"
   ]
  },
  {
   "cell_type": "code",
   "execution_count": 63,
   "metadata": {},
   "outputs": [
    {
     "data": {
      "image/png": "[encoded data removed]",
      "text/plain": [
       "<Figure size 1080x576 with 1 Axes>"
      ]
     },
     "metadata": {
      "needs_background": "light"
     },
     "output_type": "display_data"
    }
   ],
   "source": [
    "fig, ax = plt.subplots(figsize=(15,8))\n",
    "ax.plot(clust_pred.columns, kmeans.cluster_centers_[0], label='C0')\n",
    "ax.plot(clust_pred.columns, kmeans.cluster_centers_[1], label='C1')\n",
    "ax.plot(clust_pred.columns, kmeans.cluster_centers_[2], label='C2')\n",
    "ax.plot(clust_pred.columns, kmeans.cluster_centers_[3], label='C3')\n",
    "ax.plot(clust_pred.columns, kmeans.cluster_centers_[4], label='C4')\n",
    "legend = ax.legend(loc='upper right')\n",
    "_=plt.xticks(rotation=90)\n",
    "\n",
    "plt.savefig('clustering.png')"
   ]
  },
  {
   "cell_type": "code",
   "execution_count": 64,
   "metadata": {},
   "outputs": [
    {
     "name": "stderr",
     "output_type": "stream",
     "text": [
      "C:\\Users\\Fabio\\anaconda3\\lib\\site-packages\\pandas\\core\\frame.py:3997: SettingWithCopyWarning: \n",
      "A value is trying to be set on a copy of a slice from a DataFrame\n",
      "\n",
      "See the caveats in the documentation: https://pandas.pydata.org/pandas-docs/stable/user_guide/indexing.html#returning-a-view-versus-a-copy\n",
      "  errors=errors,\n"
     ]
    }
   ],
   "source": [
    "clust_pred2=pred1.loc[(pred1.payments>0)&(pred1.loan_date>='1996-01-01')]\n",
    "\n",
    "clust_pred2.drop(['account_id', 'loan_date' , 'status'],axis=1,inplace=True)"
   ]
  },
  {
   "cell_type": "code",
   "execution_count": 65,
   "metadata": {},
   "outputs": [],
   "source": [
    "pred2 = minmax.transform(clust_pred2)\n",
    "\n",
    "y_km2 = kmeans.predict(pred2)"
   ]
  },
  {
   "cell_type": "code",
   "execution_count": 66,
   "metadata": {},
   "outputs": [
    {
     "data": {
      "image/png": "[encoded data removed]",
      "text/plain": [
       "<Figure size 1080x576 with 1 Axes>"
      ]
     },
     "metadata": {
      "needs_background": "light"
     },
     "output_type": "display_data"
    }
   ],
   "source": [
    "fig, ax = plt.subplots(figsize=(15,8))\n",
    "ax.plot(clust_pred.columns, kmeans.cluster_centers_[0], label='C0')\n",
    "ax.plot(clust_pred.columns, kmeans.cluster_centers_[1], label='C1')\n",
    "ax.plot(clust_pred.columns, kmeans.cluster_centers_[2], label='C2')\n",
    "ax.plot(clust_pred.columns, kmeans.cluster_centers_[3], label='C3')\n",
    "ax.plot(clust_pred.columns, kmeans.cluster_centers_[4], label='C4')\n",
    "legend = ax.legend(loc='upper right')\n",
    "_=plt.xticks(rotation=90)"
   ]
  },
  {
   "cell_type": "code",
   "execution_count": 67,
   "metadata": {},
   "outputs": [
    {
     "name": "stderr",
     "output_type": "stream",
     "text": [
      "C:\\Users\\Fabio\\anaconda3\\lib\\site-packages\\ipykernel_launcher.py:3: SettingWithCopyWarning: \n",
      "A value is trying to be set on a copy of a slice from a DataFrame.\n",
      "Try using .loc[row_indexer,col_indexer] = value instead\n",
      "\n",
      "See the caveats in the documentation: https://pandas.pydata.org/pandas-docs/stable/user_guide/indexing.html#returning-a-view-versus-a-copy\n",
      "  This is separate from the ipykernel package so we can avoid doing imports until\n"
     ]
    }
   ],
   "source": [
    "predf_tre=pred1.loc[(pred1.payments>0)&(pred1.loan_date<'1996-01-01')]\n",
    "\n",
    "predf_tre['cluster']=y_km"
   ]
  },
  {
   "cell_type": "code",
   "execution_count": 68,
   "metadata": {},
   "outputs": [
    {
     "name": "stderr",
     "output_type": "stream",
     "text": [
      "C:\\Users\\Fabio\\anaconda3\\lib\\site-packages\\ipykernel_launcher.py:3: SettingWithCopyWarning: \n",
      "A value is trying to be set on a copy of a slice from a DataFrame.\n",
      "Try using .loc[row_indexer,col_indexer] = value instead\n",
      "\n",
      "See the caveats in the documentation: https://pandas.pydata.org/pandas-docs/stable/user_guide/indexing.html#returning-a-view-versus-a-copy\n",
      "  This is separate from the ipykernel package so we can avoid doing imports until\n"
     ]
    }
   ],
   "source": [
    "predf_val=pred1.loc[(pred1.payments>0)&(pred1.loan_date>='1996-01-01')]\n",
    "\n",
    "predf_val['cluster']=y_km2"
   ]
  },
  {
   "cell_type": "code",
   "execution_count": 69,
   "metadata": {},
   "outputs": [
    {
     "data": {
      "text/plain": [
       "cluster\n",
       "0    0.086957\n",
       "1    0.285714\n",
       "2    0.088235\n",
       "3    0.900000\n",
       "4    0.046512\n",
       "dtype: float64"
      ]
     },
     "execution_count": 69,
     "metadata": {},
     "output_type": "execute_result"
    }
   ],
   "source": [
    "pt_tre=pd.pivot_table(predf_tre,index='cluster',columns='status',values='payments',aggfunc='count')\n",
    "pt_tre[1]/pt_tre.sum(axis=1)"
   ]
  },
  {
   "cell_type": "code",
   "execution_count": 70,
   "metadata": {},
   "outputs": [
    {
     "data": {
      "text/plain": [
       "cluster\n",
       "0    0.107143\n",
       "1    0.105263\n",
       "2    0.125000\n",
       "3    0.800000\n",
       "4    0.102041\n",
       "dtype: float64"
      ]
     },
     "execution_count": 70,
     "metadata": {},
     "output_type": "execute_result"
    }
   ],
   "source": [
    "pt_val=pd.pivot_table(predf_val,index='cluster',columns='status',values='payments',aggfunc='count')\n",
    "pt_val[1]/pt_val.sum(axis=1)"
   ]
  },
  {
   "cell_type": "code",
   "execution_count": 71,
   "metadata": {},
   "outputs": [
    {
     "name": "stderr",
     "output_type": "stream",
     "text": [
      "C:\\Users\\Fabio\\anaconda3\\lib\\site-packages\\ipykernel_launcher.py:2: SettingWithCopyWarning: \n",
      "A value is trying to be set on a copy of a slice from a DataFrame.\n",
      "Try using .loc[row_indexer,col_indexer] = value instead\n",
      "\n",
      "See the caveats in the documentation: https://pandas.pydata.org/pandas-docs/stable/user_guide/indexing.html#returning-a-view-versus-a-copy\n",
      "  \n",
      "C:\\Users\\Fabio\\anaconda3\\lib\\site-packages\\ipykernel_launcher.py:3: SettingWithCopyWarning: \n",
      "A value is trying to be set on a copy of a slice from a DataFrame.\n",
      "Try using .loc[row_indexer,col_indexer] = value instead\n",
      "\n",
      "See the caveats in the documentation: https://pandas.pydata.org/pandas-docs/stable/user_guide/indexing.html#returning-a-view-versus-a-copy\n",
      "  This is separate from the ipykernel package so we can avoid doing imports until\n"
     ]
    }
   ],
   "source": [
    "#tratar risco\n",
    "predf_tre['cluster']=predf_tre['cluster'].replace({0:0,1:0,2:0,4:0,3:1})\n",
    "predf_val['cluster']=predf_val['cluster'].replace({0:0,1:0,2:0,4:0,3:1})"
   ]
  },
  {
   "cell_type": "code",
   "execution_count": 72,
   "metadata": {},
   "outputs": [
    {
     "data": {
      "text/plain": [
       "0    201\n",
       "1     10\n",
       "Name: cluster, dtype: int64"
      ]
     },
     "execution_count": 72,
     "metadata": {},
     "output_type": "execute_result"
    }
   ],
   "source": [
    "predf_tre.cluster.value_counts()"
   ]
  },
  {
   "cell_type": "code",
   "execution_count": 73,
   "metadata": {},
   "outputs": [
    {
     "data": {
      "text/plain": [
       "cluster\n",
       "0    0.104478\n",
       "1    0.900000\n",
       "dtype: float64"
      ]
     },
     "execution_count": 73,
     "metadata": {},
     "output_type": "execute_result"
    }
   ],
   "source": [
    "pt_tre=pd.pivot_table(predf_tre,index='cluster',columns='status',values='payments',aggfunc='count')\n",
    "pt_tre[1]/pt_tre.sum(axis=1)"
   ]
  },
  {
   "cell_type": "code",
   "execution_count": 74,
   "metadata": {},
   "outputs": [
    {
     "data": {
      "text/plain": [
       "cluster\n",
       "0    0.107143\n",
       "1    0.800000\n",
       "dtype: float64"
      ]
     },
     "execution_count": 74,
     "metadata": {},
     "output_type": "execute_result"
    }
   ],
   "source": [
    "pt_val=pd.pivot_table(predf_val,index='cluster',columns='status',values='payments',aggfunc='count')\n",
    "pt_val[1]/pt_val.sum(axis=1)"
   ]
  },
  {
   "cell_type": "code",
   "execution_count": 75,
   "metadata": {},
   "outputs": [],
   "source": [
    "predf_tre[['account_id','cluster']].to_csv('cluster_treino1.csv',index=False)\n",
    "predf_val[['account_id','cluster']].to_csv('cluster_teste1.csv',index=False)"
   ]
  },
  {
   "cell_type": "markdown",
   "metadata": {},
   "source": [
    "### sem ano 93"
   ]
  },
  {
   "cell_type": "code",
   "execution_count": 87,
   "metadata": {},
   "outputs": [
    {
     "name": "stderr",
     "output_type": "stream",
     "text": [
      "C:\\Users\\Fabio\\anaconda3\\lib\\site-packages\\pandas\\core\\frame.py:3997: SettingWithCopyWarning: \n",
      "A value is trying to be set on a copy of a slice from a DataFrame\n",
      "\n",
      "See the caveats in the documentation: https://pandas.pydata.org/pandas-docs/stable/user_guide/indexing.html#returning-a-view-versus-a-copy\n",
      "  errors=errors,\n"
     ]
    }
   ],
   "source": [
    "clust_pred=pred1.loc[(pred1.payments>0)&(pred1.loan_date<'1996-01-01')&(pred1.loan_date>='1994-01-01')]\n",
    "\n",
    "clust_pred.drop(['account_id', 'loan_date', 'status'],axis=1,inplace=True)"
   ]
  },
  {
   "cell_type": "code",
   "execution_count": 88,
   "metadata": {},
   "outputs": [],
   "source": [
    "minmax = MinMaxScaler().fit(clust_pred)\n",
    "pred = minmax.transform(clust_pred)"
   ]
  },
  {
   "cell_type": "code",
   "execution_count": 89,
   "metadata": {},
   "outputs": [
    {
     "data": {
      "text/plain": [
       "Text(0, 0.5, '$J(C_k)$')"
      ]
     },
     "execution_count": 89,
     "metadata": {},
     "output_type": "execute_result"
    },
    {
     "data": {
      "image/png": "[encoded data removed]",
      "text/plain": [
       "<Figure size 432x288 with 1 Axes>"
      ]
     },
     "metadata": {
      "needs_background": "light"
     },
     "output_type": "display_data"
    }
   ],
   "source": [
    "inertia = []\n",
    "for k in range(1, 40):\n",
    "    kmeans = KMeans(n_clusters=k, random_state=1).fit(pred)\n",
    "    inertia.append(np.sqrt(kmeans.inertia_))\n",
    "    \n",
    "plt.plot(range(1, 40), inertia, marker='s');\n",
    "plt.xlabel('$k$')\n",
    "plt.ylabel('$J(C_k)$')"
   ]
  },
  {
   "cell_type": "code",
   "execution_count": 95,
   "metadata": {},
   "outputs": [],
   "source": [
    "kmeans = KMeans(n_clusters=5, random_state=1).fit(pred)"
   ]
  },
  {
   "cell_type": "code",
   "execution_count": 96,
   "metadata": {},
   "outputs": [
    {
     "name": "stdout",
     "output_type": "stream",
     "text": [
      "C0: 76 , C1: 10 , C2: 38 , C3: 35 , C4: 32\n"
     ]
    }
   ],
   "source": [
    "y_km = kmeans.predict(pred)\n",
    "print('C0:',(y_km==0).sum(),', C1:',(y_km==1).sum(),', C2:',(y_km==2).sum(),', C3:',(y_km==3).sum(),', C4:',(y_km==4).sum())"
   ]
  },
  {
   "cell_type": "code",
   "execution_count": 97,
   "metadata": {},
   "outputs": [
    {
     "data": {
      "image/png": "[encoded data removed]",
      "text/plain": [
       "<Figure size 1080x576 with 1 Axes>"
      ]
     },
     "metadata": {
      "needs_background": "light"
     },
     "output_type": "display_data"
    }
   ],
   "source": [
    "fig, ax = plt.subplots(figsize=(15,8))\n",
    "ax.plot(clust_pred.columns, kmeans.cluster_centers_[0], label='C0')\n",
    "ax.plot(clust_pred.columns, kmeans.cluster_centers_[1], label='C1')\n",
    "ax.plot(clust_pred.columns, kmeans.cluster_centers_[2], label='C2')\n",
    "ax.plot(clust_pred.columns, kmeans.cluster_centers_[3], label='C3')\n",
    "ax.plot(clust_pred.columns, kmeans.cluster_centers_[4], label='C4')\n",
    "legend = ax.legend(loc='upper right')\n",
    "_=plt.xticks(rotation=90)"
   ]
  },
  {
   "cell_type": "code",
   "execution_count": 98,
   "metadata": {},
   "outputs": [
    {
     "name": "stderr",
     "output_type": "stream",
     "text": [
      "C:\\Users\\Fabio\\anaconda3\\lib\\site-packages\\pandas\\core\\frame.py:3997: SettingWithCopyWarning: \n",
      "A value is trying to be set on a copy of a slice from a DataFrame\n",
      "\n",
      "See the caveats in the documentation: https://pandas.pydata.org/pandas-docs/stable/user_guide/indexing.html#returning-a-view-versus-a-copy\n",
      "  errors=errors,\n"
     ]
    }
   ],
   "source": [
    "clust_pred2=pred1.loc[(pred1.payments>0)&(pred1.loan_date>='1996-01-01')]\n",
    "\n",
    "clust_pred2.drop(['account_id', 'loan_date' , 'status'],axis=1,inplace=True)"
   ]
  },
  {
   "cell_type": "code",
   "execution_count": 99,
   "metadata": {},
   "outputs": [],
   "source": [
    "pred2 = minmax.transform(clust_pred2)\n",
    "\n",
    "y_km2 = kmeans.predict(pred2)"
   ]
  },
  {
   "cell_type": "code",
   "execution_count": 100,
   "metadata": {},
   "outputs": [
    {
     "data": {
      "image/png": "[encoded data removed]",
      "text/plain": [
       "<Figure size 1080x576 with 1 Axes>"
      ]
     },
     "metadata": {
      "needs_background": "light"
     },
     "output_type": "display_data"
    }
   ],
   "source": [
    "fig, ax = plt.subplots(figsize=(15,8))\n",
    "ax.plot(clust_pred.columns, kmeans.cluster_centers_[0], label='C0')\n",
    "ax.plot(clust_pred.columns, kmeans.cluster_centers_[1], label='C1')\n",
    "ax.plot(clust_pred.columns, kmeans.cluster_centers_[2], label='C2')\n",
    "ax.plot(clust_pred.columns, kmeans.cluster_centers_[3], label='C3')\n",
    "ax.plot(clust_pred.columns, kmeans.cluster_centers_[4], label='C4')\n",
    "legend = ax.legend(loc='upper right')\n",
    "_=plt.xticks(rotation=90)"
   ]
  },
  {
   "cell_type": "code",
   "execution_count": 101,
   "metadata": {},
   "outputs": [
    {
     "name": "stderr",
     "output_type": "stream",
     "text": [
      "C:\\Users\\Fabio\\anaconda3\\lib\\site-packages\\ipykernel_launcher.py:3: SettingWithCopyWarning: \n",
      "A value is trying to be set on a copy of a slice from a DataFrame.\n",
      "Try using .loc[row_indexer,col_indexer] = value instead\n",
      "\n",
      "See the caveats in the documentation: https://pandas.pydata.org/pandas-docs/stable/user_guide/indexing.html#returning-a-view-versus-a-copy\n",
      "  This is separate from the ipykernel package so we can avoid doing imports until\n"
     ]
    }
   ],
   "source": [
    "predf_tre=pred1.loc[(pred1.payments>0)&(pred1.loan_date<'1996-01-01')&(pred1.loan_date>='1994-01-01')]\n",
    "\n",
    "predf_tre['cluster']=y_km"
   ]
  },
  {
   "cell_type": "code",
   "execution_count": 102,
   "metadata": {},
   "outputs": [
    {
     "name": "stderr",
     "output_type": "stream",
     "text": [
      "C:\\Users\\Fabio\\anaconda3\\lib\\site-packages\\ipykernel_launcher.py:3: SettingWithCopyWarning: \n",
      "A value is trying to be set on a copy of a slice from a DataFrame.\n",
      "Try using .loc[row_indexer,col_indexer] = value instead\n",
      "\n",
      "See the caveats in the documentation: https://pandas.pydata.org/pandas-docs/stable/user_guide/indexing.html#returning-a-view-versus-a-copy\n",
      "  This is separate from the ipykernel package so we can avoid doing imports until\n"
     ]
    }
   ],
   "source": [
    "predf_val=pred1.loc[(pred1.payments>0)&(pred1.loan_date>='1996-01-01')]\n",
    "\n",
    "predf_val['cluster']=y_km2"
   ]
  },
  {
   "cell_type": "code",
   "execution_count": 103,
   "metadata": {},
   "outputs": [
    {
     "data": {
      "text/plain": [
       "cluster\n",
       "0    0.039474\n",
       "1    0.900000\n",
       "2    0.026316\n",
       "3    0.285714\n",
       "4    0.093750\n",
       "dtype: float64"
      ]
     },
     "execution_count": 103,
     "metadata": {},
     "output_type": "execute_result"
    }
   ],
   "source": [
    "pt_tre=pd.pivot_table(predf_tre,index='cluster',columns='status',values='payments',aggfunc='count')\n",
    "pt_tre[1]/pt_tre.sum(axis=1)"
   ]
  },
  {
   "cell_type": "code",
   "execution_count": 104,
   "metadata": {},
   "outputs": [
    {
     "data": {
      "text/plain": [
       "cluster\n",
       "0    0.106383\n",
       "1    0.800000\n",
       "2    0.103448\n",
       "3    0.100000\n",
       "4    0.125000\n",
       "dtype: float64"
      ]
     },
     "execution_count": 104,
     "metadata": {},
     "output_type": "execute_result"
    }
   ],
   "source": [
    "pt_val=pd.pivot_table(predf_val,index='cluster',columns='status',values='payments',aggfunc='count')\n",
    "pt_val[1]/pt_val.sum(axis=1)"
   ]
  },
  {
   "cell_type": "code",
   "execution_count": 105,
   "metadata": {},
   "outputs": [
    {
     "name": "stderr",
     "output_type": "stream",
     "text": [
      "C:\\Users\\Fabio\\anaconda3\\lib\\site-packages\\ipykernel_launcher.py:2: SettingWithCopyWarning: \n",
      "A value is trying to be set on a copy of a slice from a DataFrame.\n",
      "Try using .loc[row_indexer,col_indexer] = value instead\n",
      "\n",
      "See the caveats in the documentation: https://pandas.pydata.org/pandas-docs/stable/user_guide/indexing.html#returning-a-view-versus-a-copy\n",
      "  \n",
      "C:\\Users\\Fabio\\anaconda3\\lib\\site-packages\\ipykernel_launcher.py:3: SettingWithCopyWarning: \n",
      "A value is trying to be set on a copy of a slice from a DataFrame.\n",
      "Try using .loc[row_indexer,col_indexer] = value instead\n",
      "\n",
      "See the caveats in the documentation: https://pandas.pydata.org/pandas-docs/stable/user_guide/indexing.html#returning-a-view-versus-a-copy\n",
      "  This is separate from the ipykernel package so we can avoid doing imports until\n"
     ]
    }
   ],
   "source": [
    "#tratar risco\n",
    "predf_tre['cluster']=predf_tre['cluster'].replace({0:0,2:0,4:0,3:0})\n",
    "predf_val['cluster']=predf_val['cluster'].replace({0:0,2:0,4:0,3:0})"
   ]
  },
  {
   "cell_type": "code",
   "execution_count": 106,
   "metadata": {},
   "outputs": [
    {
     "data": {
      "text/plain": [
       "0    181\n",
       "1     10\n",
       "Name: cluster, dtype: int64"
      ]
     },
     "execution_count": 106,
     "metadata": {},
     "output_type": "execute_result"
    }
   ],
   "source": [
    "predf_tre.cluster.value_counts()"
   ]
  },
  {
   "cell_type": "code",
   "execution_count": 107,
   "metadata": {},
   "outputs": [
    {
     "data": {
      "text/plain": [
       "cluster\n",
       "0    0.093923\n",
       "1    0.900000\n",
       "dtype: float64"
      ]
     },
     "execution_count": 107,
     "metadata": {},
     "output_type": "execute_result"
    }
   ],
   "source": [
    "pt_tre=pd.pivot_table(predf_tre,index='cluster',columns='status',values='payments',aggfunc='count')\n",
    "pt_tre[1]/pt_tre.sum(axis=1)"
   ]
  },
  {
   "cell_type": "code",
   "execution_count": 108,
   "metadata": {},
   "outputs": [
    {
     "data": {
      "text/plain": [
       "cluster\n",
       "0    0.107143\n",
       "1    0.800000\n",
       "dtype: float64"
      ]
     },
     "execution_count": 108,
     "metadata": {},
     "output_type": "execute_result"
    }
   ],
   "source": [
    "pt_val=pd.pivot_table(predf_val,index='cluster',columns='status',values='payments',aggfunc='count')\n",
    "pt_val[1]/pt_val.sum(axis=1)"
   ]
  },
  {
   "cell_type": "code",
   "execution_count": 109,
   "metadata": {},
   "outputs": [],
   "source": [
    "predf_tre[['account_id','cluster']].to_csv('cluster_treino2.csv',index=False)\n",
    "predf_val[['account_id','cluster']].to_csv('cluster_teste2.csv',index=False)"
   ]
  }
 ],
 "metadata": {
  "kernelspec": {
   "display_name": "Python 3",
   "language": "python",
   "name": "python3"
  },
  "language_info": {
   "codemirror_mode": {
    "name": "ipython",
    "version": 3
   },
   "file_extension": ".py",
   "mimetype": "text/x-python",
   "name": "python",
   "nbconvert_exporter": "python",
   "pygments_lexer": "ipython3",
   "version": "3.7.6"
  }
 },
 "nbformat": 4,
 "nbformat_minor": 4
}
