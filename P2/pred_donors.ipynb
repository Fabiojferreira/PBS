{
 "cells": [
  {
   "cell_type": "code",
   "execution_count": 1,
   "metadata": {},
   "outputs": [],
   "source": [
    "import pandas as pd\n",
    "import numpy as np\n",
    "import math\n",
    "\n",
    "cla=pd.read_csv('cla.gzip',compression='gzip') \n",
    "sna=pd.read_csv('sna_metrics.csv')"
   ]
  },
  {
   "cell_type": "code",
   "execution_count": 2,
   "metadata": {},
   "outputs": [
    {
     "data": {
      "text/plain": [
       "(455401, 90)"
      ]
     },
     "execution_count": 2,
     "metadata": {},
     "output_type": "execute_result"
    }
   ],
   "source": [
    "cla.shape"
   ]
  },
  {
   "cell_type": "code",
   "execution_count": 3,
   "metadata": {},
   "outputs": [
    {
     "data": {
      "text/plain": [
       "(136, 10)"
      ]
     },
     "execution_count": 3,
     "metadata": {},
     "output_type": "execute_result"
    }
   ],
   "source": [
    "sna.shape"
   ]
  },
  {
   "cell_type": "code",
   "execution_count": 4,
   "metadata": {
    "scrolled": true
   },
   "outputs": [
    {
     "data": {
      "text/html": [
       "<div>\n",
       "<style scoped>\n",
       "    .dataframe tbody tr th:only-of-type {\n",
       "        vertical-align: middle;\n",
       "    }\n",
       "\n",
       "    .dataframe tbody tr th {\n",
       "        vertical-align: top;\n",
       "    }\n",
       "\n",
       "    .dataframe thead th {\n",
       "        text-align: right;\n",
       "    }\n",
       "</style>\n",
       "<table border=\"1\" class=\"dataframe\">\n",
       "  <thead>\n",
       "    <tr style=\"text-align: right;\">\n",
       "      <th></th>\n",
       "      <th>Id</th>\n",
       "      <th>Label</th>\n",
       "      <th>timeset</th>\n",
       "      <th>modularity_class</th>\n",
       "      <th>Degree</th>\n",
       "      <th>Eccentricity</th>\n",
       "      <th>closnesscentrality</th>\n",
       "      <th>harmonicclosnesscentrality</th>\n",
       "      <th>betweenesscentrality</th>\n",
       "      <th>pageranks</th>\n",
       "    </tr>\n",
       "  </thead>\n",
       "  <tbody>\n",
       "    <tr>\n",
       "      <th>0</th>\n",
       "      <td>0</td>\n",
       "      <td>NaN</td>\n",
       "      <td>NaN</td>\n",
       "      <td>3</td>\n",
       "      <td>101</td>\n",
       "      <td>2</td>\n",
       "      <td>0.798817</td>\n",
       "      <td>0.874074</td>\n",
       "      <td>195.889144</td>\n",
       "      <td>0.006164</td>\n",
       "    </tr>\n",
       "    <tr>\n",
       "      <th>1</th>\n",
       "      <td>100</td>\n",
       "      <td>NaN</td>\n",
       "      <td>NaN</td>\n",
       "      <td>2</td>\n",
       "      <td>4</td>\n",
       "      <td>3</td>\n",
       "      <td>0.487365</td>\n",
       "      <td>0.501235</td>\n",
       "      <td>0.000000</td>\n",
       "      <td>0.001121</td>\n",
       "    </tr>\n",
       "    <tr>\n",
       "      <th>2</th>\n",
       "      <td>101</td>\n",
       "      <td>NaN</td>\n",
       "      <td>NaN</td>\n",
       "      <td>2</td>\n",
       "      <td>28</td>\n",
       "      <td>3</td>\n",
       "      <td>0.555556</td>\n",
       "      <td>0.602469</td>\n",
       "      <td>9.120506</td>\n",
       "      <td>0.001414</td>\n",
       "    </tr>\n",
       "    <tr>\n",
       "      <th>3</th>\n",
       "      <td>102</td>\n",
       "      <td>NaN</td>\n",
       "      <td>NaN</td>\n",
       "      <td>2</td>\n",
       "      <td>27</td>\n",
       "      <td>3</td>\n",
       "      <td>0.553279</td>\n",
       "      <td>0.598765</td>\n",
       "      <td>0.051610</td>\n",
       "      <td>0.001194</td>\n",
       "    </tr>\n",
       "    <tr>\n",
       "      <th>4</th>\n",
       "      <td>103</td>\n",
       "      <td>NaN</td>\n",
       "      <td>NaN</td>\n",
       "      <td>1</td>\n",
       "      <td>25</td>\n",
       "      <td>3</td>\n",
       "      <td>0.546559</td>\n",
       "      <td>0.590123</td>\n",
       "      <td>0.042335</td>\n",
       "      <td>0.001223</td>\n",
       "    </tr>\n",
       "  </tbody>\n",
       "</table>\n",
       "</div>"
      ],
      "text/plain": [
       "    Id  Label  timeset  modularity_class  Degree  Eccentricity  \\\n",
       "0    0    NaN      NaN                 3     101             2   \n",
       "1  100    NaN      NaN                 2       4             3   \n",
       "2  101    NaN      NaN                 2      28             3   \n",
       "3  102    NaN      NaN                 2      27             3   \n",
       "4  103    NaN      NaN                 1      25             3   \n",
       "\n",
       "   closnesscentrality  harmonicclosnesscentrality  betweenesscentrality  \\\n",
       "0            0.798817                    0.874074            195.889144   \n",
       "1            0.487365                    0.501235              0.000000   \n",
       "2            0.555556                    0.602469              9.120506   \n",
       "3            0.553279                    0.598765              0.051610   \n",
       "4            0.546559                    0.590123              0.042335   \n",
       "\n",
       "   pageranks  \n",
       "0   0.006164  \n",
       "1   0.001121  \n",
       "2   0.001414  \n",
       "3   0.001194  \n",
       "4   0.001223  "
      ]
     },
     "execution_count": 4,
     "metadata": {},
     "output_type": "execute_result"
    }
   ],
   "source": [
    "sna.head()"
   ]
  },
  {
   "cell_type": "code",
   "execution_count": 5,
   "metadata": {},
   "outputs": [],
   "source": [
    "sna.drop(['Label','timeset'],axis=1,inplace=True)"
   ]
  },
  {
   "cell_type": "code",
   "execution_count": 6,
   "metadata": {},
   "outputs": [],
   "source": [
    "sna=sna.round(2)"
   ]
  },
  {
   "cell_type": "raw",
   "metadata": {},
   "source": [
    "cla.subcategory_1=pd.to_numeric(cla.subcategory_1,errors='coerce')\n",
    "cla.subcategory_2=pd.to_numeric(cla.subcategory_2,errors='coerce')"
   ]
  },
  {
   "cell_type": "code",
   "execution_count": 7,
   "metadata": {},
   "outputs": [],
   "source": [
    "cla=cla.merge(sna,left_on='subcategory_1',right_on='Id',how='left').drop('Id',axis=1)"
   ]
  },
  {
   "cell_type": "code",
   "execution_count": 8,
   "metadata": {},
   "outputs": [],
   "source": [
    "cla=cla.merge(sna,left_on='subcategory_2',right_on='Id',how='left',suffixes=('_1', '_2')).drop('Id',axis=1)"
   ]
  },
  {
   "cell_type": "code",
   "execution_count": 9,
   "metadata": {},
   "outputs": [
    {
     "data": {
      "text/plain": [
       "Index(['sa', 'is_donor', 'month_id_original', 'cp4', 'dsc_class_churn',\n",
       "       'geom_distrito_dsc', 'geom_municipio_dsc', 'geom_freguesia_dsc',\n",
       "       'geom_nuts_ii_dsc', 'geom_nuts_iii_dsc',\n",
       "       ...\n",
       "       'harmonicclosnesscentrality_1', 'betweenesscentrality_1', 'pageranks_1',\n",
       "       'modularity_class_2', 'Degree_2', 'Eccentricity_2',\n",
       "       'closnesscentrality_2', 'harmonicclosnesscentrality_2',\n",
       "       'betweenesscentrality_2', 'pageranks_2'],\n",
       "      dtype='object', length=104)"
      ]
     },
     "execution_count": 9,
     "metadata": {},
     "output_type": "execute_result"
    }
   ],
   "source": [
    "cla.columns"
   ]
  },
  {
   "cell_type": "code",
   "execution_count": 10,
   "metadata": {},
   "outputs": [
    {
     "data": {
      "text/plain": [
       "104"
      ]
     },
     "execution_count": 10,
     "metadata": {},
     "output_type": "execute_result"
    }
   ],
   "source": [
    "len(cla.columns)"
   ]
  },
  {
   "cell_type": "code",
   "execution_count": 11,
   "metadata": {},
   "outputs": [],
   "source": [
    "sub=[col for col in cla.columns if \"subcat\" in col and \"bin\" not in col]"
   ]
  },
  {
   "cell_type": "code",
   "execution_count": 12,
   "metadata": {},
   "outputs": [],
   "source": [
    "for col in sub:\n",
    "    cla[col]=cla[col].astype(str)"
   ]
  },
  {
   "cell_type": "code",
   "execution_count": 13,
   "metadata": {},
   "outputs": [],
   "source": [
    "big=[]\n",
    "for var in cla.select_dtypes(include=['object']).columns:\n",
    "    if len(cla[var].unique())>15:\n",
    "        big.append(var)"
   ]
  },
  {
   "cell_type": "code",
   "execution_count": 14,
   "metadata": {},
   "outputs": [],
   "source": [
    "big.append('cp4')"
   ]
  },
  {
   "cell_type": "code",
   "execution_count": 15,
   "metadata": {},
   "outputs": [],
   "source": [
    "big.remove('sa')"
   ]
  },
  {
   "cell_type": "code",
   "execution_count": 16,
   "metadata": {},
   "outputs": [
    {
     "data": {
      "text/plain": [
       "['geom_distrito_dsc',\n",
       " 'geom_municipio_dsc',\n",
       " 'geom_freguesia_dsc',\n",
       " 'geom_nuts_iii_dsc',\n",
       " 'pack_dsc',\n",
       " 'subcategory_1',\n",
       " 'subcategory_2',\n",
       " 'subcategory_3',\n",
       " 'subcategory_4',\n",
       " 'subcategory_5',\n",
       " 'subcategory_6',\n",
       " 'subcategory_7',\n",
       " 'subcategory_8',\n",
       " 'subcategory_9',\n",
       " 'subcategory_10',\n",
       " 'cp4']"
      ]
     },
     "execution_count": 16,
     "metadata": {},
     "output_type": "execute_result"
    }
   ],
   "source": [
    "big"
   ]
  },
  {
   "cell_type": "code",
   "execution_count": 17,
   "metadata": {},
   "outputs": [],
   "source": [
    "cla.cp4=cla.cp4.astype(str)"
   ]
  },
  {
   "cell_type": "code",
   "execution_count": 18,
   "metadata": {
    "scrolled": true
   },
   "outputs": [
    {
     "name": "stdout",
     "output_type": "stream",
     "text": [
      "geom_distrito_dsc \n",
      " LISBOA (DISTRITO)      114821\n",
      "PORTO (DISTRITO)        71410\n",
      "SETÃšBAL (DISTRITO)     56663\n",
      "BRAGA (DISTRITO)        25334\n",
      "FARO (DISTRITO)         15669\n",
      "Name: geom_distrito_dsc, dtype: int64 \n",
      "\n",
      "geom_municipio_dsc \n",
      " LISBOA (MUNICIPIO)    28982\n",
      "SINTRA                19279\n",
      "VILA NOVA DE GAIA     14884\n",
      "ALMADA                13461\n",
      "CASCAIS               13359\n",
      "Name: geom_municipio_dsc, dtype: int64 \n",
      "\n",
      "geom_freguesia_dsc \n",
      " SETÃšBAL (SÃƒO SEBASTIÃƒO)                                                          5021\n",
      "UNIÃƒO DAS FREGUESIAS DE CASCAIS E ESTORIL                                          4101\n",
      "UNIÃƒO DAS FREGUESIAS DE ALTO DO SEIXALINHO, SANTO ANDRÃ‰ E VERDERENA               3887\n",
      "UNIÃƒO DAS FREGUESIAS DE OEIRAS E SÃƒO JULIÃƒO DA BARRA, PAÃ‡O DE ARCOS E CAXIAS    3762\n",
      "UNIÃƒO DAS FREGUESIAS DE ALMADA, COVA DA PIEDADE, PRAGAL E CACILHAS                 3597\n",
      "Name: geom_freguesia_dsc, dtype: int64 \n",
      "\n",
      "geom_nuts_iii_dsc \n",
      " GRANDE LISBOA             111054\n",
      "GRANDE PORTO               61924\n",
      "PENÃNSULA DE SETÃšBAL     55654\n",
      "ALGARVE (NUTS III)         15669\n",
      "AVE                        14752\n",
      "Name: geom_nuts_iii_dsc, dtype: int64 \n",
      "\n",
      "pack_dsc \n",
      " NOS4i_100Mb + MÃ³vel 1GB + Roaming_NPVR (003)          9073\n",
      "NOS4i_100Mb + MÃ³vel 3GB + Roaming_NPVR (018)          9066\n",
      "NOS4i_100Mb + 1 MÃ³vel 2GB + Roaming_NPVR (008)        8613\n",
      "NOS5i_100Mb + MÃ³vel 3GB + Roaming + 7GB_NPVR (006)    8243\n",
      "NOS4i_100Mb + MÃ³vel 5GB + Roaming_NPVR (003)          7367\n",
      "Name: pack_dsc, dtype: int64 \n",
      "\n",
      "subcategory_1 \n",
      " 126.0    145962\n",
      "78.0      34027\n",
      "90.0      32218\n",
      "113.0     28266\n",
      "80.0      18286\n",
      "Name: subcategory_1, dtype: int64 \n",
      "\n",
      "subcategory_2 \n",
      " 126.0    62336\n",
      "78.0     41921\n",
      "90.0     35640\n",
      "86.0     26485\n",
      "81.0     16809\n",
      "Name: subcategory_2, dtype: int64 \n",
      "\n",
      "subcategory_3 \n",
      " 78.0     33887\n",
      "126.0    33604\n",
      "90.0     31406\n",
      "86.0     29926\n",
      "81.0     19881\n",
      "Name: subcategory_3, dtype: int64 \n",
      "\n",
      "subcategory_4 \n",
      " 86.0     26762\n",
      "90.0     26364\n",
      "78.0     23520\n",
      "81.0     22026\n",
      "126.0    20619\n",
      "Name: subcategory_4, dtype: int64 \n",
      "\n",
      "subcategory_5 \n",
      " 86.0    22834\n",
      "90.0    22016\n",
      "81.0    21353\n",
      "93.0    19724\n",
      "96.0    18667\n",
      "Name: subcategory_5, dtype: int64 \n",
      "\n",
      "subcategory_6 \n",
      " 93.0    19792\n",
      "81.0    19547\n",
      "86.0    19125\n",
      "96.0    18751\n",
      "90.0    18473\n",
      "Name: subcategory_6, dtype: int64 \n",
      "\n",
      "subcategory_7 \n",
      " 93.0    18850\n",
      "96.0    17629\n",
      "81.0    17514\n",
      "86.0    16783\n",
      "0.0     15503\n",
      "Name: subcategory_7, dtype: int64 \n",
      "\n",
      "subcategory_8 \n",
      " 0.0     18022\n",
      "93.0    17575\n",
      "96.0    16728\n",
      "81.0    15775\n",
      "86.0    14625\n",
      "Name: subcategory_8, dtype: int64 \n",
      "\n",
      "subcategory_9 \n",
      " 0.0     20408\n",
      "93.0    16265\n",
      "96.0    14921\n",
      "81.0    14237\n",
      "86.0    12980\n",
      "Name: subcategory_9, dtype: int64 \n",
      "\n",
      "subcategory_10 \n",
      " 0.0     22798\n",
      "93.0    14718\n",
      "96.0    13533\n",
      "81.0    12786\n",
      "86.0    11647\n",
      "Name: subcategory_10, dtype: int64 \n",
      "\n",
      "cp4 \n",
      " 2910.0    5884\n",
      "2835.0    5320\n",
      "2830.0    4643\n",
      "2700.0    4523\n",
      "2735.0    4403\n",
      "Name: cp4, dtype: int64 \n",
      "\n"
     ]
    }
   ],
   "source": [
    "for col in big:\n",
    "    top=cla.loc[(cla.month_id_original!=202008),col].value_counts()[:5]\n",
    "    print(col,'\\n',top,'\\n')"
   ]
  },
  {
   "cell_type": "code",
   "execution_count": 19,
   "metadata": {},
   "outputs": [],
   "source": [
    "for col in big:\n",
    "    top=cla.loc[(cla.month_id_original!=202008),col].value_counts().index[:5]\n",
    "    cla.loc[cla[col].isin(top),col+'_new']=cla.loc[cla[col].isin(top),col]\n",
    "    cla.loc[~cla[col].isin(top),col+'_new']='Other'"
   ]
  },
  {
   "cell_type": "code",
   "execution_count": 20,
   "metadata": {
    "scrolled": true
   },
   "outputs": [
    {
     "data": {
      "text/html": [
       "<div>\n",
       "<style scoped>\n",
       "    .dataframe tbody tr th:only-of-type {\n",
       "        vertical-align: middle;\n",
       "    }\n",
       "\n",
       "    .dataframe tbody tr th {\n",
       "        vertical-align: top;\n",
       "    }\n",
       "\n",
       "    .dataframe thead th {\n",
       "        text-align: right;\n",
       "    }\n",
       "</style>\n",
       "<table border=\"1\" class=\"dataframe\">\n",
       "  <thead>\n",
       "    <tr style=\"text-align: right;\">\n",
       "      <th></th>\n",
       "      <th>sa</th>\n",
       "      <th>is_donor</th>\n",
       "      <th>month_id_original</th>\n",
       "      <th>cp4</th>\n",
       "      <th>dsc_class_churn</th>\n",
       "      <th>geom_distrito_dsc</th>\n",
       "      <th>geom_municipio_dsc</th>\n",
       "      <th>geom_freguesia_dsc</th>\n",
       "      <th>geom_nuts_ii_dsc</th>\n",
       "      <th>geom_nuts_iii_dsc</th>\n",
       "      <th>...</th>\n",
       "      <th>subcategory_2_new</th>\n",
       "      <th>subcategory_3_new</th>\n",
       "      <th>subcategory_4_new</th>\n",
       "      <th>subcategory_5_new</th>\n",
       "      <th>subcategory_6_new</th>\n",
       "      <th>subcategory_7_new</th>\n",
       "      <th>subcategory_8_new</th>\n",
       "      <th>subcategory_9_new</th>\n",
       "      <th>subcategory_10_new</th>\n",
       "      <th>cp4_new</th>\n",
       "    </tr>\n",
       "  </thead>\n",
       "  <tbody>\n",
       "    <tr>\n",
       "      <th>0</th>\n",
       "      <td>4329560142D21690C211BCA3EE65C83C</td>\n",
       "      <td>0.0</td>\n",
       "      <td>202005</td>\n",
       "      <td>2845.0</td>\n",
       "      <td>0.0</td>\n",
       "      <td>SETÃšBAL (DISTRITO)</td>\n",
       "      <td>SEIXAL</td>\n",
       "      <td>AMORA</td>\n",
       "      <td>LISBOA (NUTS II)</td>\n",
       "      <td>PENÃNSULA DE SETÃšBAL</td>\n",
       "      <td>...</td>\n",
       "      <td>126.0</td>\n",
       "      <td>Other</td>\n",
       "      <td>90.0</td>\n",
       "      <td>Other</td>\n",
       "      <td>Other</td>\n",
       "      <td>93.0</td>\n",
       "      <td>Other</td>\n",
       "      <td>96.0</td>\n",
       "      <td>Other</td>\n",
       "      <td>Other</td>\n",
       "    </tr>\n",
       "    <tr>\n",
       "      <th>1</th>\n",
       "      <td>E516D7AADFF328836280B1969577D80D</td>\n",
       "      <td>0.0</td>\n",
       "      <td>202005</td>\n",
       "      <td>2900.0</td>\n",
       "      <td>0.0</td>\n",
       "      <td>SETÃšBAL (DISTRITO)</td>\n",
       "      <td>SETÃšBAL (MUNICIPIO)</td>\n",
       "      <td>UNIÃƒO DAS FREGUESIAS DE SETÃšBAL (SÃƒO JULIÃƒ...</td>\n",
       "      <td>LISBOA (NUTS II)</td>\n",
       "      <td>PENÃNSULA DE SETÃšBAL</td>\n",
       "      <td>...</td>\n",
       "      <td>86.0</td>\n",
       "      <td>Other</td>\n",
       "      <td>90.0</td>\n",
       "      <td>Other</td>\n",
       "      <td>96.0</td>\n",
       "      <td>93.0</td>\n",
       "      <td>Other</td>\n",
       "      <td>Other</td>\n",
       "      <td>Other</td>\n",
       "      <td>Other</td>\n",
       "    </tr>\n",
       "    <tr>\n",
       "      <th>2</th>\n",
       "      <td>1068EC724654A19CBF73771104F00C6B</td>\n",
       "      <td>0.0</td>\n",
       "      <td>202005</td>\n",
       "      <td>2820.0</td>\n",
       "      <td>0.0</td>\n",
       "      <td>SETÃšBAL (DISTRITO)</td>\n",
       "      <td>ALMADA</td>\n",
       "      <td>UNIÃƒO DAS FREGUESIAS DE CHARNECA DE CAPARICA ...</td>\n",
       "      <td>LISBOA (NUTS II)</td>\n",
       "      <td>PENÃNSULA DE SETÃšBAL</td>\n",
       "      <td>...</td>\n",
       "      <td>126.0</td>\n",
       "      <td>Other</td>\n",
       "      <td>Other</td>\n",
       "      <td>Other</td>\n",
       "      <td>Other</td>\n",
       "      <td>Other</td>\n",
       "      <td>Other</td>\n",
       "      <td>Other</td>\n",
       "      <td>Other</td>\n",
       "      <td>Other</td>\n",
       "    </tr>\n",
       "    <tr>\n",
       "      <th>3</th>\n",
       "      <td>92BC24B777B922C3A61517604AFB0040</td>\n",
       "      <td>0.0</td>\n",
       "      <td>202005</td>\n",
       "      <td>4910.0</td>\n",
       "      <td>0.0</td>\n",
       "      <td>VIANA DO CASTELO (DISTRITO)</td>\n",
       "      <td>CAMINHA</td>\n",
       "      <td>VILA PRAIA DE Ã‚NCORA</td>\n",
       "      <td>NORTE</td>\n",
       "      <td>MINHO-LIMA</td>\n",
       "      <td>...</td>\n",
       "      <td>126.0</td>\n",
       "      <td>Other</td>\n",
       "      <td>86.0</td>\n",
       "      <td>Other</td>\n",
       "      <td>90.0</td>\n",
       "      <td>93.0</td>\n",
       "      <td>Other</td>\n",
       "      <td>Other</td>\n",
       "      <td>81.0</td>\n",
       "      <td>Other</td>\n",
       "    </tr>\n",
       "    <tr>\n",
       "      <th>4</th>\n",
       "      <td>01CEC8EC107C6A174ECDA938DD53FCE2</td>\n",
       "      <td>0.0</td>\n",
       "      <td>202005</td>\n",
       "      <td>4795.0</td>\n",
       "      <td>0.0</td>\n",
       "      <td>PORTO (DISTRITO)</td>\n",
       "      <td>SANTO TIRSO</td>\n",
       "      <td>AVES</td>\n",
       "      <td>NORTE</td>\n",
       "      <td>AVE</td>\n",
       "      <td>...</td>\n",
       "      <td>126.0</td>\n",
       "      <td>78.0</td>\n",
       "      <td>Other</td>\n",
       "      <td>Other</td>\n",
       "      <td>81.0</td>\n",
       "      <td>93.0</td>\n",
       "      <td>Other</td>\n",
       "      <td>86.0</td>\n",
       "      <td>Other</td>\n",
       "      <td>Other</td>\n",
       "    </tr>\n",
       "  </tbody>\n",
       "</table>\n",
       "<p>5 rows × 120 columns</p>\n",
       "</div>"
      ],
      "text/plain": [
       "                                 sa  is_donor  month_id_original     cp4  \\\n",
       "0  4329560142D21690C211BCA3EE65C83C       0.0             202005  2845.0   \n",
       "1  E516D7AADFF328836280B1969577D80D       0.0             202005  2900.0   \n",
       "2  1068EC724654A19CBF73771104F00C6B       0.0             202005  2820.0   \n",
       "3  92BC24B777B922C3A61517604AFB0040       0.0             202005  4910.0   \n",
       "4  01CEC8EC107C6A174ECDA938DD53FCE2       0.0             202005  4795.0   \n",
       "\n",
       "   dsc_class_churn            geom_distrito_dsc    geom_municipio_dsc  \\\n",
       "0              0.0          SETÃšBAL (DISTRITO)                SEIXAL   \n",
       "1              0.0          SETÃšBAL (DISTRITO)  SETÃšBAL (MUNICIPIO)   \n",
       "2              0.0          SETÃšBAL (DISTRITO)                ALMADA   \n",
       "3              0.0  VIANA DO CASTELO (DISTRITO)               CAMINHA   \n",
       "4              0.0             PORTO (DISTRITO)           SANTO TIRSO   \n",
       "\n",
       "                                  geom_freguesia_dsc  geom_nuts_ii_dsc  \\\n",
       "0                                              AMORA  LISBOA (NUTS II)   \n",
       "1  UNIÃƒO DAS FREGUESIAS DE SETÃšBAL (SÃƒO JULIÃƒ...  LISBOA (NUTS II)   \n",
       "2  UNIÃƒO DAS FREGUESIAS DE CHARNECA DE CAPARICA ...  LISBOA (NUTS II)   \n",
       "3                              VILA PRAIA DE Ã‚NCORA             NORTE   \n",
       "4                                               AVES             NORTE   \n",
       "\n",
       "        geom_nuts_iii_dsc  ...  subcategory_2_new  subcategory_3_new  \\\n",
       "0  PENÃNSULA DE SETÃšBAL  ...              126.0              Other   \n",
       "1  PENÃNSULA DE SETÃšBAL  ...               86.0              Other   \n",
       "2  PENÃNSULA DE SETÃšBAL  ...              126.0              Other   \n",
       "3              MINHO-LIMA  ...              126.0              Other   \n",
       "4                     AVE  ...              126.0               78.0   \n",
       "\n",
       "   subcategory_4_new  subcategory_5_new  subcategory_6_new  subcategory_7_new  \\\n",
       "0               90.0              Other              Other               93.0   \n",
       "1               90.0              Other               96.0               93.0   \n",
       "2              Other              Other              Other              Other   \n",
       "3               86.0              Other               90.0               93.0   \n",
       "4              Other              Other               81.0               93.0   \n",
       "\n",
       "   subcategory_8_new  subcategory_9_new  subcategory_10_new  cp4_new  \n",
       "0              Other               96.0               Other    Other  \n",
       "1              Other              Other               Other    Other  \n",
       "2              Other              Other               Other    Other  \n",
       "3              Other              Other                81.0    Other  \n",
       "4              Other               86.0               Other    Other  \n",
       "\n",
       "[5 rows x 120 columns]"
      ]
     },
     "execution_count": 20,
     "metadata": {},
     "output_type": "execute_result"
    }
   ],
   "source": [
    "cla.head()"
   ]
  },
  {
   "cell_type": "code",
   "execution_count": 21,
   "metadata": {},
   "outputs": [],
   "source": [
    "rem=big"
   ]
  },
  {
   "cell_type": "code",
   "execution_count": 22,
   "metadata": {},
   "outputs": [],
   "source": [
    "rem.append('sa')"
   ]
  },
  {
   "cell_type": "code",
   "execution_count": 23,
   "metadata": {},
   "outputs": [],
   "source": [
    "cla2=cla.copy()\n",
    "cla.drop(rem,axis=1,inplace=True)"
   ]
  },
  {
   "cell_type": "code",
   "execution_count": 24,
   "metadata": {},
   "outputs": [
    {
     "data": {
      "text/html": [
       "<div>\n",
       "<style scoped>\n",
       "    .dataframe tbody tr th:only-of-type {\n",
       "        vertical-align: middle;\n",
       "    }\n",
       "\n",
       "    .dataframe tbody tr th {\n",
       "        vertical-align: top;\n",
       "    }\n",
       "\n",
       "    .dataframe thead th {\n",
       "        text-align: right;\n",
       "    }\n",
       "</style>\n",
       "<table border=\"1\" class=\"dataframe\">\n",
       "  <thead>\n",
       "    <tr style=\"text-align: right;\">\n",
       "      <th></th>\n",
       "      <th>is_donor</th>\n",
       "      <th>month_id_original</th>\n",
       "      <th>dsc_class_churn</th>\n",
       "      <th>geom_nuts_ii_dsc</th>\n",
       "      <th>after_due_days_qty_bin</th>\n",
       "      <th>typeh_card_qty</th>\n",
       "      <th>typei_card_qty</th>\n",
       "      <th>typea_card_qty</th>\n",
       "      <th>typeb_card_qty</th>\n",
       "      <th>typec_card_qty</th>\n",
       "      <th>typed_card_qty</th>\n",
       "      <th>typee_card_qty</th>\n",
       "      <th>typef_card_qty</th>\n",
       "      <th>typeg_card_qty</th>\n",
       "      <th>premium_qty</th>\n",
       "      <th>premium_flg</th>\n",
       "      <th>premium_a_qty</th>\n",
       "      <th>premium_b_qty</th>\n",
       "      <th>premium_d_qty</th>\n",
       "      <th>premium_a_amt_bin</th>\n",
       "      <th>subcategory_qtd_seconds_mon_1_bin</th>\n",
       "      <th>subcategory_qtd_seconds_mon_2_bin</th>\n",
       "      <th>subcategory_qtd_seconds_mon_5_bin</th>\n",
       "      <th>subcategory_qtd_seconds_mon_6_bin</th>\n",
       "      <th>subcategory_qtd_seconds_mon_8_bin</th>\n",
       "      <th>subcategory_qtd_seconds_mon_9_bin</th>\n",
       "      <th>subcategory_qtd_seconds_mon_10_bin</th>\n",
       "      <th>nr_devices</th>\n",
       "      <th>channel_diversity_sa_bin</th>\n",
       "      <th>nr_seconds_seen_0h2h_bin</th>\n",
       "      <th>nr_seconds_seen_3h5h_bin</th>\n",
       "      <th>nr_seconds_seen_18h20h_bin</th>\n",
       "      <th>nr_seconds_seen_21h23h_bin</th>\n",
       "      <th>segment</th>\n",
       "      <th>package_type</th>\n",
       "      <th>fiscal_num_bin</th>\n",
       "      <th>telephone_num</th>\n",
       "      <th>max_call_sent_dur_bin</th>\n",
       "      <th>max_call_rec_dur_bin</th>\n",
       "      <th>apple</th>\n",
       "      <th>rate_plan_A</th>\n",
       "      <th>rate_plan_C</th>\n",
       "      <th>rate_plan_F</th>\n",
       "      <th>min_call_sent_dur_bin</th>\n",
       "      <th>min_call_rec_dur_bin</th>\n",
       "      <th>nr_calls_sent_month_bin</th>\n",
       "      <th>mean_call_sent_dur_bin</th>\n",
       "      <th>nr_calls_sent_distinct_numbers_bin</th>\n",
       "      <th>nr_distinct_cells_sent_bin</th>\n",
       "      <th>nr_distinct_freguesia_sent_bin</th>\n",
       "      <th>nr_distinct_concelho_sent_bin</th>\n",
       "      <th>nr_calls_rec_month_bin</th>\n",
       "      <th>mean_call_rec_dur_bin</th>\n",
       "      <th>nr_calls_rec_distinct_numbers_bin</th>\n",
       "      <th>nr_distinct_cells_rec_bin</th>\n",
       "      <th>nr_distinct_freguesia_rec_bin</th>\n",
       "      <th>nr_distinct_concelho_rec_bin</th>\n",
       "      <th>cost_recharge_bin</th>\n",
       "      <th>dsc_class_churn_change</th>\n",
       "      <th>after_due_days_qty_bin_change</th>\n",
       "      <th>typeh_card_qty_change</th>\n",
       "      <th>typei_card_qty_change</th>\n",
       "      <th>typea_card_qty_change</th>\n",
       "      <th>typeb_card_qty_change</th>\n",
       "      <th>typec_card_qty_change</th>\n",
       "      <th>typed_card_qty_change</th>\n",
       "      <th>typee_card_qty_change</th>\n",
       "      <th>typef_card_qty_change</th>\n",
       "      <th>premium_qty_change</th>\n",
       "      <th>premium_a_qty_change</th>\n",
       "      <th>premium_b_qty_change</th>\n",
       "      <th>premium_c_qty_change</th>\n",
       "      <th>premium_d_qty_change</th>\n",
       "      <th>modularity_class_1</th>\n",
       "      <th>Degree_1</th>\n",
       "      <th>Eccentricity_1</th>\n",
       "      <th>closnesscentrality_1</th>\n",
       "      <th>harmonicclosnesscentrality_1</th>\n",
       "      <th>betweenesscentrality_1</th>\n",
       "      <th>pageranks_1</th>\n",
       "      <th>modularity_class_2</th>\n",
       "      <th>Degree_2</th>\n",
       "      <th>Eccentricity_2</th>\n",
       "      <th>closnesscentrality_2</th>\n",
       "      <th>harmonicclosnesscentrality_2</th>\n",
       "      <th>betweenesscentrality_2</th>\n",
       "      <th>pageranks_2</th>\n",
       "      <th>geom_distrito_dsc_new</th>\n",
       "      <th>geom_municipio_dsc_new</th>\n",
       "      <th>geom_freguesia_dsc_new</th>\n",
       "      <th>geom_nuts_iii_dsc_new</th>\n",
       "      <th>pack_dsc_new</th>\n",
       "      <th>subcategory_1_new</th>\n",
       "      <th>subcategory_2_new</th>\n",
       "      <th>subcategory_3_new</th>\n",
       "      <th>subcategory_4_new</th>\n",
       "      <th>subcategory_5_new</th>\n",
       "      <th>subcategory_6_new</th>\n",
       "      <th>subcategory_7_new</th>\n",
       "      <th>subcategory_8_new</th>\n",
       "      <th>subcategory_9_new</th>\n",
       "      <th>subcategory_10_new</th>\n",
       "      <th>cp4_new</th>\n",
       "    </tr>\n",
       "  </thead>\n",
       "  <tbody>\n",
       "    <tr>\n",
       "      <th>0</th>\n",
       "      <td>0.0</td>\n",
       "      <td>202005</td>\n",
       "      <td>0.0</td>\n",
       "      <td>LISBOA (NUTS II)</td>\n",
       "      <td>0.0</td>\n",
       "      <td>1.0</td>\n",
       "      <td>3.0</td>\n",
       "      <td>0.0</td>\n",
       "      <td>0.0</td>\n",
       "      <td>4.0</td>\n",
       "      <td>0.0</td>\n",
       "      <td>0.0</td>\n",
       "      <td>0.0</td>\n",
       "      <td>0.0</td>\n",
       "      <td>2.0</td>\n",
       "      <td>1.0</td>\n",
       "      <td>10.0</td>\n",
       "      <td>1.0</td>\n",
       "      <td>0.0</td>\n",
       "      <td>3.0</td>\n",
       "      <td>10.0</td>\n",
       "      <td>10.0</td>\n",
       "      <td>9.0</td>\n",
       "      <td>8.0</td>\n",
       "      <td>9.0</td>\n",
       "      <td>8.0</td>\n",
       "      <td>8.0</td>\n",
       "      <td>1.0</td>\n",
       "      <td>5.0</td>\n",
       "      <td>8.0</td>\n",
       "      <td>8.0</td>\n",
       "      <td>10.0</td>\n",
       "      <td>10.0</td>\n",
       "      <td>A</td>\n",
       "      <td>5P</td>\n",
       "      <td>2.0</td>\n",
       "      <td>3.0</td>\n",
       "      <td>10.0</td>\n",
       "      <td>10.0</td>\n",
       "      <td>1.0</td>\n",
       "      <td>1.0</td>\n",
       "      <td>0.0</td>\n",
       "      <td>0.0</td>\n",
       "      <td>2.0</td>\n",
       "      <td>2.0</td>\n",
       "      <td>6.0</td>\n",
       "      <td>6.333333</td>\n",
       "      <td>6.333333</td>\n",
       "      <td>5.0</td>\n",
       "      <td>3.666667</td>\n",
       "      <td>5.00</td>\n",
       "      <td>5.00</td>\n",
       "      <td>6.0</td>\n",
       "      <td>5.666667</td>\n",
       "      <td>4.666667</td>\n",
       "      <td>4.666667</td>\n",
       "      <td>6.00</td>\n",
       "      <td>0.0</td>\n",
       "      <td>0.0</td>\n",
       "      <td>0.0</td>\n",
       "      <td>0.0</td>\n",
       "      <td>0.0</td>\n",
       "      <td>0.0</td>\n",
       "      <td>0.0</td>\n",
       "      <td>0.0</td>\n",
       "      <td>0.0</td>\n",
       "      <td>0.0</td>\n",
       "      <td>0.0</td>\n",
       "      <td>0.0</td>\n",
       "      <td>0.0</td>\n",
       "      <td>0.0</td>\n",
       "      <td>0.0</td>\n",
       "      <td>0.0</td>\n",
       "      <td>3.0</td>\n",
       "      <td>110.0</td>\n",
       "      <td>2.0</td>\n",
       "      <td>0.84</td>\n",
       "      <td>0.91</td>\n",
       "      <td>367.98</td>\n",
       "      <td>0.09</td>\n",
       "      <td>2.0</td>\n",
       "      <td>124.0</td>\n",
       "      <td>2.0</td>\n",
       "      <td>0.92</td>\n",
       "      <td>0.96</td>\n",
       "      <td>653.26</td>\n",
       "      <td>0.25</td>\n",
       "      <td>SETÃšBAL (DISTRITO)</td>\n",
       "      <td>Other</td>\n",
       "      <td>Other</td>\n",
       "      <td>PENÃNSULA DE SETÃšBAL</td>\n",
       "      <td>NOS5i_100Mb + MÃ³vel 3GB + Roaming + 7GB_NPVR ...</td>\n",
       "      <td>78.0</td>\n",
       "      <td>126.0</td>\n",
       "      <td>Other</td>\n",
       "      <td>90.0</td>\n",
       "      <td>Other</td>\n",
       "      <td>Other</td>\n",
       "      <td>93.0</td>\n",
       "      <td>Other</td>\n",
       "      <td>96.0</td>\n",
       "      <td>Other</td>\n",
       "      <td>Other</td>\n",
       "    </tr>\n",
       "    <tr>\n",
       "      <th>1</th>\n",
       "      <td>0.0</td>\n",
       "      <td>202005</td>\n",
       "      <td>0.0</td>\n",
       "      <td>LISBOA (NUTS II)</td>\n",
       "      <td>0.0</td>\n",
       "      <td>0.0</td>\n",
       "      <td>2.0</td>\n",
       "      <td>0.0</td>\n",
       "      <td>0.0</td>\n",
       "      <td>2.0</td>\n",
       "      <td>0.0</td>\n",
       "      <td>0.0</td>\n",
       "      <td>0.0</td>\n",
       "      <td>0.0</td>\n",
       "      <td>1.0</td>\n",
       "      <td>1.0</td>\n",
       "      <td>10.0</td>\n",
       "      <td>1.0</td>\n",
       "      <td>0.0</td>\n",
       "      <td>3.0</td>\n",
       "      <td>6.0</td>\n",
       "      <td>7.0</td>\n",
       "      <td>9.0</td>\n",
       "      <td>9.0</td>\n",
       "      <td>8.0</td>\n",
       "      <td>9.0</td>\n",
       "      <td>9.0</td>\n",
       "      <td>1.0</td>\n",
       "      <td>10.0</td>\n",
       "      <td>8.0</td>\n",
       "      <td>10.0</td>\n",
       "      <td>6.0</td>\n",
       "      <td>4.0</td>\n",
       "      <td>A</td>\n",
       "      <td>4P</td>\n",
       "      <td>1.0</td>\n",
       "      <td>2.0</td>\n",
       "      <td>9.0</td>\n",
       "      <td>8.0</td>\n",
       "      <td>0.0</td>\n",
       "      <td>1.0</td>\n",
       "      <td>0.0</td>\n",
       "      <td>0.0</td>\n",
       "      <td>5.0</td>\n",
       "      <td>5.0</td>\n",
       "      <td>7.0</td>\n",
       "      <td>4.500000</td>\n",
       "      <td>7.500000</td>\n",
       "      <td>7.0</td>\n",
       "      <td>6.000000</td>\n",
       "      <td>5.50</td>\n",
       "      <td>9.50</td>\n",
       "      <td>4.0</td>\n",
       "      <td>6.500000</td>\n",
       "      <td>6.500000</td>\n",
       "      <td>5.500000</td>\n",
       "      <td>5.50</td>\n",
       "      <td>0.0</td>\n",
       "      <td>0.0</td>\n",
       "      <td>0.0</td>\n",
       "      <td>0.0</td>\n",
       "      <td>0.0</td>\n",
       "      <td>0.0</td>\n",
       "      <td>0.0</td>\n",
       "      <td>0.0</td>\n",
       "      <td>0.0</td>\n",
       "      <td>0.0</td>\n",
       "      <td>0.0</td>\n",
       "      <td>0.0</td>\n",
       "      <td>0.0</td>\n",
       "      <td>0.0</td>\n",
       "      <td>0.0</td>\n",
       "      <td>0.0</td>\n",
       "      <td>2.0</td>\n",
       "      <td>124.0</td>\n",
       "      <td>2.0</td>\n",
       "      <td>0.92</td>\n",
       "      <td>0.96</td>\n",
       "      <td>653.26</td>\n",
       "      <td>0.25</td>\n",
       "      <td>2.0</td>\n",
       "      <td>106.0</td>\n",
       "      <td>2.0</td>\n",
       "      <td>0.82</td>\n",
       "      <td>0.89</td>\n",
       "      <td>238.55</td>\n",
       "      <td>0.04</td>\n",
       "      <td>SETÃšBAL (DISTRITO)</td>\n",
       "      <td>Other</td>\n",
       "      <td>Other</td>\n",
       "      <td>PENÃNSULA DE SETÃšBAL</td>\n",
       "      <td>Other</td>\n",
       "      <td>126.0</td>\n",
       "      <td>86.0</td>\n",
       "      <td>Other</td>\n",
       "      <td>90.0</td>\n",
       "      <td>Other</td>\n",
       "      <td>96.0</td>\n",
       "      <td>93.0</td>\n",
       "      <td>Other</td>\n",
       "      <td>Other</td>\n",
       "      <td>Other</td>\n",
       "      <td>Other</td>\n",
       "    </tr>\n",
       "    <tr>\n",
       "      <th>2</th>\n",
       "      <td>0.0</td>\n",
       "      <td>202005</td>\n",
       "      <td>0.0</td>\n",
       "      <td>LISBOA (NUTS II)</td>\n",
       "      <td>0.0</td>\n",
       "      <td>0.0</td>\n",
       "      <td>4.0</td>\n",
       "      <td>0.0</td>\n",
       "      <td>0.0</td>\n",
       "      <td>4.0</td>\n",
       "      <td>0.0</td>\n",
       "      <td>0.0</td>\n",
       "      <td>0.0</td>\n",
       "      <td>0.0</td>\n",
       "      <td>4.0</td>\n",
       "      <td>1.0</td>\n",
       "      <td>49.0</td>\n",
       "      <td>2.0</td>\n",
       "      <td>0.0</td>\n",
       "      <td>10.0</td>\n",
       "      <td>1.0</td>\n",
       "      <td>2.0</td>\n",
       "      <td>2.0</td>\n",
       "      <td>2.0</td>\n",
       "      <td>2.0</td>\n",
       "      <td>2.0</td>\n",
       "      <td>3.0</td>\n",
       "      <td>1.0</td>\n",
       "      <td>4.0</td>\n",
       "      <td>6.0</td>\n",
       "      <td>8.0</td>\n",
       "      <td>1.0</td>\n",
       "      <td>2.0</td>\n",
       "      <td>A</td>\n",
       "      <td>5P</td>\n",
       "      <td>3.0</td>\n",
       "      <td>4.0</td>\n",
       "      <td>8.0</td>\n",
       "      <td>10.0</td>\n",
       "      <td>1.0</td>\n",
       "      <td>0.0</td>\n",
       "      <td>1.0</td>\n",
       "      <td>0.0</td>\n",
       "      <td>1.0</td>\n",
       "      <td>1.0</td>\n",
       "      <td>3.5</td>\n",
       "      <td>5.750000</td>\n",
       "      <td>4.250000</td>\n",
       "      <td>5.5</td>\n",
       "      <td>4.250000</td>\n",
       "      <td>5.25</td>\n",
       "      <td>3.75</td>\n",
       "      <td>7.5</td>\n",
       "      <td>5.250000</td>\n",
       "      <td>5.750000</td>\n",
       "      <td>3.250000</td>\n",
       "      <td>4.25</td>\n",
       "      <td>0.0</td>\n",
       "      <td>0.0</td>\n",
       "      <td>0.0</td>\n",
       "      <td>0.0</td>\n",
       "      <td>0.0</td>\n",
       "      <td>0.0</td>\n",
       "      <td>0.0</td>\n",
       "      <td>0.0</td>\n",
       "      <td>0.0</td>\n",
       "      <td>0.0</td>\n",
       "      <td>0.0</td>\n",
       "      <td>0.0</td>\n",
       "      <td>0.0</td>\n",
       "      <td>0.0</td>\n",
       "      <td>0.0</td>\n",
       "      <td>0.0</td>\n",
       "      <td>2.0</td>\n",
       "      <td>54.0</td>\n",
       "      <td>2.0</td>\n",
       "      <td>0.62</td>\n",
       "      <td>0.70</td>\n",
       "      <td>6.54</td>\n",
       "      <td>0.00</td>\n",
       "      <td>2.0</td>\n",
       "      <td>124.0</td>\n",
       "      <td>2.0</td>\n",
       "      <td>0.92</td>\n",
       "      <td>0.96</td>\n",
       "      <td>653.26</td>\n",
       "      <td>0.25</td>\n",
       "      <td>SETÃšBAL (DISTRITO)</td>\n",
       "      <td>ALMADA</td>\n",
       "      <td>Other</td>\n",
       "      <td>PENÃNSULA DE SETÃšBAL</td>\n",
       "      <td>Other</td>\n",
       "      <td>Other</td>\n",
       "      <td>126.0</td>\n",
       "      <td>Other</td>\n",
       "      <td>Other</td>\n",
       "      <td>Other</td>\n",
       "      <td>Other</td>\n",
       "      <td>Other</td>\n",
       "      <td>Other</td>\n",
       "      <td>Other</td>\n",
       "      <td>Other</td>\n",
       "      <td>Other</td>\n",
       "    </tr>\n",
       "    <tr>\n",
       "      <th>3</th>\n",
       "      <td>0.0</td>\n",
       "      <td>202005</td>\n",
       "      <td>0.0</td>\n",
       "      <td>NORTE</td>\n",
       "      <td>0.0</td>\n",
       "      <td>0.0</td>\n",
       "      <td>2.0</td>\n",
       "      <td>0.0</td>\n",
       "      <td>0.0</td>\n",
       "      <td>2.0</td>\n",
       "      <td>0.0</td>\n",
       "      <td>0.0</td>\n",
       "      <td>0.0</td>\n",
       "      <td>0.0</td>\n",
       "      <td>0.0</td>\n",
       "      <td>0.0</td>\n",
       "      <td>0.0</td>\n",
       "      <td>0.0</td>\n",
       "      <td>0.0</td>\n",
       "      <td>8.0</td>\n",
       "      <td>7.0</td>\n",
       "      <td>9.0</td>\n",
       "      <td>10.0</td>\n",
       "      <td>10.0</td>\n",
       "      <td>10.0</td>\n",
       "      <td>10.0</td>\n",
       "      <td>10.0</td>\n",
       "      <td>1.0</td>\n",
       "      <td>8.0</td>\n",
       "      <td>7.0</td>\n",
       "      <td>9.0</td>\n",
       "      <td>7.0</td>\n",
       "      <td>8.0</td>\n",
       "      <td>A</td>\n",
       "      <td>4P</td>\n",
       "      <td>8.0</td>\n",
       "      <td>2.0</td>\n",
       "      <td>10.0</td>\n",
       "      <td>7.0</td>\n",
       "      <td>0.0</td>\n",
       "      <td>1.0</td>\n",
       "      <td>0.0</td>\n",
       "      <td>0.0</td>\n",
       "      <td>5.0</td>\n",
       "      <td>5.0</td>\n",
       "      <td>7.5</td>\n",
       "      <td>6.500000</td>\n",
       "      <td>8.500000</td>\n",
       "      <td>8.0</td>\n",
       "      <td>8.000000</td>\n",
       "      <td>8.00</td>\n",
       "      <td>7.00</td>\n",
       "      <td>6.0</td>\n",
       "      <td>8.500000</td>\n",
       "      <td>7.500000</td>\n",
       "      <td>7.500000</td>\n",
       "      <td>8.00</td>\n",
       "      <td>0.0</td>\n",
       "      <td>0.0</td>\n",
       "      <td>0.0</td>\n",
       "      <td>0.0</td>\n",
       "      <td>0.0</td>\n",
       "      <td>0.0</td>\n",
       "      <td>0.0</td>\n",
       "      <td>0.0</td>\n",
       "      <td>0.0</td>\n",
       "      <td>0.0</td>\n",
       "      <td>0.0</td>\n",
       "      <td>0.0</td>\n",
       "      <td>0.0</td>\n",
       "      <td>0.0</td>\n",
       "      <td>0.0</td>\n",
       "      <td>0.0</td>\n",
       "      <td>1.0</td>\n",
       "      <td>80.0</td>\n",
       "      <td>2.0</td>\n",
       "      <td>0.71</td>\n",
       "      <td>0.80</td>\n",
       "      <td>40.16</td>\n",
       "      <td>0.02</td>\n",
       "      <td>2.0</td>\n",
       "      <td>124.0</td>\n",
       "      <td>2.0</td>\n",
       "      <td>0.92</td>\n",
       "      <td>0.96</td>\n",
       "      <td>653.26</td>\n",
       "      <td>0.25</td>\n",
       "      <td>Other</td>\n",
       "      <td>Other</td>\n",
       "      <td>Other</td>\n",
       "      <td>Other</td>\n",
       "      <td>Other</td>\n",
       "      <td>Other</td>\n",
       "      <td>126.0</td>\n",
       "      <td>Other</td>\n",
       "      <td>86.0</td>\n",
       "      <td>Other</td>\n",
       "      <td>90.0</td>\n",
       "      <td>93.0</td>\n",
       "      <td>Other</td>\n",
       "      <td>Other</td>\n",
       "      <td>81.0</td>\n",
       "      <td>Other</td>\n",
       "    </tr>\n",
       "    <tr>\n",
       "      <th>4</th>\n",
       "      <td>0.0</td>\n",
       "      <td>202005</td>\n",
       "      <td>0.0</td>\n",
       "      <td>NORTE</td>\n",
       "      <td>0.0</td>\n",
       "      <td>0.0</td>\n",
       "      <td>1.0</td>\n",
       "      <td>0.0</td>\n",
       "      <td>0.0</td>\n",
       "      <td>0.0</td>\n",
       "      <td>1.0</td>\n",
       "      <td>0.0</td>\n",
       "      <td>0.0</td>\n",
       "      <td>0.0</td>\n",
       "      <td>1.0</td>\n",
       "      <td>1.0</td>\n",
       "      <td>10.0</td>\n",
       "      <td>0.0</td>\n",
       "      <td>0.0</td>\n",
       "      <td>9.0</td>\n",
       "      <td>4.0</td>\n",
       "      <td>5.0</td>\n",
       "      <td>6.0</td>\n",
       "      <td>6.0</td>\n",
       "      <td>6.0</td>\n",
       "      <td>5.0</td>\n",
       "      <td>5.0</td>\n",
       "      <td>1.0</td>\n",
       "      <td>7.0</td>\n",
       "      <td>7.0</td>\n",
       "      <td>8.0</td>\n",
       "      <td>6.0</td>\n",
       "      <td>5.0</td>\n",
       "      <td>A</td>\n",
       "      <td>4P</td>\n",
       "      <td>4.0</td>\n",
       "      <td>1.0</td>\n",
       "      <td>10.0</td>\n",
       "      <td>8.0</td>\n",
       "      <td>0.0</td>\n",
       "      <td>0.0</td>\n",
       "      <td>0.0</td>\n",
       "      <td>1.0</td>\n",
       "      <td>5.0</td>\n",
       "      <td>1.0</td>\n",
       "      <td>10.0</td>\n",
       "      <td>6.000000</td>\n",
       "      <td>10.000000</td>\n",
       "      <td>9.0</td>\n",
       "      <td>9.000000</td>\n",
       "      <td>10.00</td>\n",
       "      <td>10.00</td>\n",
       "      <td>6.0</td>\n",
       "      <td>9.000000</td>\n",
       "      <td>9.000000</td>\n",
       "      <td>10.000000</td>\n",
       "      <td>10.00</td>\n",
       "      <td>0.0</td>\n",
       "      <td>0.0</td>\n",
       "      <td>0.0</td>\n",
       "      <td>0.0</td>\n",
       "      <td>0.0</td>\n",
       "      <td>0.0</td>\n",
       "      <td>0.0</td>\n",
       "      <td>0.0</td>\n",
       "      <td>0.0</td>\n",
       "      <td>0.0</td>\n",
       "      <td>0.0</td>\n",
       "      <td>0.0</td>\n",
       "      <td>0.0</td>\n",
       "      <td>0.0</td>\n",
       "      <td>0.0</td>\n",
       "      <td>0.0</td>\n",
       "      <td>2.0</td>\n",
       "      <td>113.0</td>\n",
       "      <td>2.0</td>\n",
       "      <td>0.86</td>\n",
       "      <td>0.92</td>\n",
       "      <td>293.04</td>\n",
       "      <td>0.08</td>\n",
       "      <td>2.0</td>\n",
       "      <td>124.0</td>\n",
       "      <td>2.0</td>\n",
       "      <td>0.92</td>\n",
       "      <td>0.96</td>\n",
       "      <td>653.26</td>\n",
       "      <td>0.25</td>\n",
       "      <td>PORTO (DISTRITO)</td>\n",
       "      <td>Other</td>\n",
       "      <td>Other</td>\n",
       "      <td>AVE</td>\n",
       "      <td>Other</td>\n",
       "      <td>90.0</td>\n",
       "      <td>126.0</td>\n",
       "      <td>78.0</td>\n",
       "      <td>Other</td>\n",
       "      <td>Other</td>\n",
       "      <td>81.0</td>\n",
       "      <td>93.0</td>\n",
       "      <td>Other</td>\n",
       "      <td>86.0</td>\n",
       "      <td>Other</td>\n",
       "      <td>Other</td>\n",
       "    </tr>\n",
       "  </tbody>\n",
       "</table>\n",
       "</div>"
      ],
      "text/plain": [
       "   is_donor  month_id_original  dsc_class_churn  geom_nuts_ii_dsc  \\\n",
       "0       0.0             202005              0.0  LISBOA (NUTS II)   \n",
       "1       0.0             202005              0.0  LISBOA (NUTS II)   \n",
       "2       0.0             202005              0.0  LISBOA (NUTS II)   \n",
       "3       0.0             202005              0.0             NORTE   \n",
       "4       0.0             202005              0.0             NORTE   \n",
       "\n",
       "   after_due_days_qty_bin  typeh_card_qty  typei_card_qty  typea_card_qty  \\\n",
       "0                     0.0             1.0             3.0             0.0   \n",
       "1                     0.0             0.0             2.0             0.0   \n",
       "2                     0.0             0.0             4.0             0.0   \n",
       "3                     0.0             0.0             2.0             0.0   \n",
       "4                     0.0             0.0             1.0             0.0   \n",
       "\n",
       "   typeb_card_qty  typec_card_qty  typed_card_qty  typee_card_qty  \\\n",
       "0             0.0             4.0             0.0             0.0   \n",
       "1             0.0             2.0             0.0             0.0   \n",
       "2             0.0             4.0             0.0             0.0   \n",
       "3             0.0             2.0             0.0             0.0   \n",
       "4             0.0             0.0             1.0             0.0   \n",
       "\n",
       "   typef_card_qty  typeg_card_qty  premium_qty  premium_flg  premium_a_qty  \\\n",
       "0             0.0             0.0          2.0          1.0           10.0   \n",
       "1             0.0             0.0          1.0          1.0           10.0   \n",
       "2             0.0             0.0          4.0          1.0           49.0   \n",
       "3             0.0             0.0          0.0          0.0            0.0   \n",
       "4             0.0             0.0          1.0          1.0           10.0   \n",
       "\n",
       "   premium_b_qty  premium_d_qty  premium_a_amt_bin  \\\n",
       "0            1.0            0.0                3.0   \n",
       "1            1.0            0.0                3.0   \n",
       "2            2.0            0.0               10.0   \n",
       "3            0.0            0.0                8.0   \n",
       "4            0.0            0.0                9.0   \n",
       "\n",
       "   subcategory_qtd_seconds_mon_1_bin  subcategory_qtd_seconds_mon_2_bin  \\\n",
       "0                               10.0                               10.0   \n",
       "1                                6.0                                7.0   \n",
       "2                                1.0                                2.0   \n",
       "3                                7.0                                9.0   \n",
       "4                                4.0                                5.0   \n",
       "\n",
       "   subcategory_qtd_seconds_mon_5_bin  subcategory_qtd_seconds_mon_6_bin  \\\n",
       "0                                9.0                                8.0   \n",
       "1                                9.0                                9.0   \n",
       "2                                2.0                                2.0   \n",
       "3                               10.0                               10.0   \n",
       "4                                6.0                                6.0   \n",
       "\n",
       "   subcategory_qtd_seconds_mon_8_bin  subcategory_qtd_seconds_mon_9_bin  \\\n",
       "0                                9.0                                8.0   \n",
       "1                                8.0                                9.0   \n",
       "2                                2.0                                2.0   \n",
       "3                               10.0                               10.0   \n",
       "4                                6.0                                5.0   \n",
       "\n",
       "   subcategory_qtd_seconds_mon_10_bin  nr_devices  channel_diversity_sa_bin  \\\n",
       "0                                 8.0         1.0                       5.0   \n",
       "1                                 9.0         1.0                      10.0   \n",
       "2                                 3.0         1.0                       4.0   \n",
       "3                                10.0         1.0                       8.0   \n",
       "4                                 5.0         1.0                       7.0   \n",
       "\n",
       "   nr_seconds_seen_0h2h_bin  nr_seconds_seen_3h5h_bin  \\\n",
       "0                       8.0                       8.0   \n",
       "1                       8.0                      10.0   \n",
       "2                       6.0                       8.0   \n",
       "3                       7.0                       9.0   \n",
       "4                       7.0                       8.0   \n",
       "\n",
       "   nr_seconds_seen_18h20h_bin  nr_seconds_seen_21h23h_bin segment  \\\n",
       "0                        10.0                        10.0       A   \n",
       "1                         6.0                         4.0       A   \n",
       "2                         1.0                         2.0       A   \n",
       "3                         7.0                         8.0       A   \n",
       "4                         6.0                         5.0       A   \n",
       "\n",
       "  package_type  fiscal_num_bin  telephone_num  max_call_sent_dur_bin  \\\n",
       "0           5P             2.0            3.0                   10.0   \n",
       "1           4P             1.0            2.0                    9.0   \n",
       "2           5P             3.0            4.0                    8.0   \n",
       "3           4P             8.0            2.0                   10.0   \n",
       "4           4P             4.0            1.0                   10.0   \n",
       "\n",
       "   max_call_rec_dur_bin  apple  rate_plan_A  rate_plan_C  rate_plan_F  \\\n",
       "0                  10.0    1.0          1.0          0.0          0.0   \n",
       "1                   8.0    0.0          1.0          0.0          0.0   \n",
       "2                  10.0    1.0          0.0          1.0          0.0   \n",
       "3                   7.0    0.0          1.0          0.0          0.0   \n",
       "4                   8.0    0.0          0.0          0.0          1.0   \n",
       "\n",
       "   min_call_sent_dur_bin  min_call_rec_dur_bin  nr_calls_sent_month_bin  \\\n",
       "0                    2.0                   2.0                      6.0   \n",
       "1                    5.0                   5.0                      7.0   \n",
       "2                    1.0                   1.0                      3.5   \n",
       "3                    5.0                   5.0                      7.5   \n",
       "4                    5.0                   1.0                     10.0   \n",
       "\n",
       "   mean_call_sent_dur_bin  nr_calls_sent_distinct_numbers_bin  \\\n",
       "0                6.333333                            6.333333   \n",
       "1                4.500000                            7.500000   \n",
       "2                5.750000                            4.250000   \n",
       "3                6.500000                            8.500000   \n",
       "4                6.000000                           10.000000   \n",
       "\n",
       "   nr_distinct_cells_sent_bin  nr_distinct_freguesia_sent_bin  \\\n",
       "0                         5.0                        3.666667   \n",
       "1                         7.0                        6.000000   \n",
       "2                         5.5                        4.250000   \n",
       "3                         8.0                        8.000000   \n",
       "4                         9.0                        9.000000   \n",
       "\n",
       "   nr_distinct_concelho_sent_bin  nr_calls_rec_month_bin  \\\n",
       "0                           5.00                    5.00   \n",
       "1                           5.50                    9.50   \n",
       "2                           5.25                    3.75   \n",
       "3                           8.00                    7.00   \n",
       "4                          10.00                   10.00   \n",
       "\n",
       "   mean_call_rec_dur_bin  nr_calls_rec_distinct_numbers_bin  \\\n",
       "0                    6.0                           5.666667   \n",
       "1                    4.0                           6.500000   \n",
       "2                    7.5                           5.250000   \n",
       "3                    6.0                           8.500000   \n",
       "4                    6.0                           9.000000   \n",
       "\n",
       "   nr_distinct_cells_rec_bin  nr_distinct_freguesia_rec_bin  \\\n",
       "0                   4.666667                       4.666667   \n",
       "1                   6.500000                       5.500000   \n",
       "2                   5.750000                       3.250000   \n",
       "3                   7.500000                       7.500000   \n",
       "4                   9.000000                      10.000000   \n",
       "\n",
       "   nr_distinct_concelho_rec_bin  cost_recharge_bin  dsc_class_churn_change  \\\n",
       "0                          6.00                0.0                     0.0   \n",
       "1                          5.50                0.0                     0.0   \n",
       "2                          4.25                0.0                     0.0   \n",
       "3                          8.00                0.0                     0.0   \n",
       "4                         10.00                0.0                     0.0   \n",
       "\n",
       "   after_due_days_qty_bin_change  typeh_card_qty_change  \\\n",
       "0                            0.0                    0.0   \n",
       "1                            0.0                    0.0   \n",
       "2                            0.0                    0.0   \n",
       "3                            0.0                    0.0   \n",
       "4                            0.0                    0.0   \n",
       "\n",
       "   typei_card_qty_change  typea_card_qty_change  typeb_card_qty_change  \\\n",
       "0                    0.0                    0.0                    0.0   \n",
       "1                    0.0                    0.0                    0.0   \n",
       "2                    0.0                    0.0                    0.0   \n",
       "3                    0.0                    0.0                    0.0   \n",
       "4                    0.0                    0.0                    0.0   \n",
       "\n",
       "   typec_card_qty_change  typed_card_qty_change  typee_card_qty_change  \\\n",
       "0                    0.0                    0.0                    0.0   \n",
       "1                    0.0                    0.0                    0.0   \n",
       "2                    0.0                    0.0                    0.0   \n",
       "3                    0.0                    0.0                    0.0   \n",
       "4                    0.0                    0.0                    0.0   \n",
       "\n",
       "   typef_card_qty_change  premium_qty_change  premium_a_qty_change  \\\n",
       "0                    0.0                 0.0                   0.0   \n",
       "1                    0.0                 0.0                   0.0   \n",
       "2                    0.0                 0.0                   0.0   \n",
       "3                    0.0                 0.0                   0.0   \n",
       "4                    0.0                 0.0                   0.0   \n",
       "\n",
       "   premium_b_qty_change  premium_c_qty_change  premium_d_qty_change  \\\n",
       "0                   0.0                   0.0                   0.0   \n",
       "1                   0.0                   0.0                   0.0   \n",
       "2                   0.0                   0.0                   0.0   \n",
       "3                   0.0                   0.0                   0.0   \n",
       "4                   0.0                   0.0                   0.0   \n",
       "\n",
       "   modularity_class_1  Degree_1  Eccentricity_1  closnesscentrality_1  \\\n",
       "0                 3.0     110.0             2.0                  0.84   \n",
       "1                 2.0     124.0             2.0                  0.92   \n",
       "2                 2.0      54.0             2.0                  0.62   \n",
       "3                 1.0      80.0             2.0                  0.71   \n",
       "4                 2.0     113.0             2.0                  0.86   \n",
       "\n",
       "   harmonicclosnesscentrality_1  betweenesscentrality_1  pageranks_1  \\\n",
       "0                          0.91                  367.98         0.09   \n",
       "1                          0.96                  653.26         0.25   \n",
       "2                          0.70                    6.54         0.00   \n",
       "3                          0.80                   40.16         0.02   \n",
       "4                          0.92                  293.04         0.08   \n",
       "\n",
       "   modularity_class_2  Degree_2  Eccentricity_2  closnesscentrality_2  \\\n",
       "0                 2.0     124.0             2.0                  0.92   \n",
       "1                 2.0     106.0             2.0                  0.82   \n",
       "2                 2.0     124.0             2.0                  0.92   \n",
       "3                 2.0     124.0             2.0                  0.92   \n",
       "4                 2.0     124.0             2.0                  0.92   \n",
       "\n",
       "   harmonicclosnesscentrality_2  betweenesscentrality_2  pageranks_2  \\\n",
       "0                          0.96                  653.26         0.25   \n",
       "1                          0.89                  238.55         0.04   \n",
       "2                          0.96                  653.26         0.25   \n",
       "3                          0.96                  653.26         0.25   \n",
       "4                          0.96                  653.26         0.25   \n",
       "\n",
       "  geom_distrito_dsc_new geom_municipio_dsc_new geom_freguesia_dsc_new  \\\n",
       "0   SETÃšBAL (DISTRITO)                  Other                  Other   \n",
       "1   SETÃšBAL (DISTRITO)                  Other                  Other   \n",
       "2   SETÃšBAL (DISTRITO)                 ALMADA                  Other   \n",
       "3                 Other                  Other                  Other   \n",
       "4      PORTO (DISTRITO)                  Other                  Other   \n",
       "\n",
       "    geom_nuts_iii_dsc_new                                       pack_dsc_new  \\\n",
       "0  PENÃNSULA DE SETÃšBAL  NOS5i_100Mb + MÃ³vel 3GB + Roaming + 7GB_NPVR ...   \n",
       "1  PENÃNSULA DE SETÃšBAL                                              Other   \n",
       "2  PENÃNSULA DE SETÃšBAL                                              Other   \n",
       "3                   Other                                              Other   \n",
       "4                     AVE                                              Other   \n",
       "\n",
       "  subcategory_1_new subcategory_2_new subcategory_3_new subcategory_4_new  \\\n",
       "0              78.0             126.0             Other              90.0   \n",
       "1             126.0              86.0             Other              90.0   \n",
       "2             Other             126.0             Other             Other   \n",
       "3             Other             126.0             Other              86.0   \n",
       "4              90.0             126.0              78.0             Other   \n",
       "\n",
       "  subcategory_5_new subcategory_6_new subcategory_7_new subcategory_8_new  \\\n",
       "0             Other             Other              93.0             Other   \n",
       "1             Other              96.0              93.0             Other   \n",
       "2             Other             Other             Other             Other   \n",
       "3             Other              90.0              93.0             Other   \n",
       "4             Other              81.0              93.0             Other   \n",
       "\n",
       "  subcategory_9_new subcategory_10_new cp4_new  \n",
       "0              96.0              Other   Other  \n",
       "1             Other              Other   Other  \n",
       "2             Other              Other   Other  \n",
       "3             Other               81.0   Other  \n",
       "4              86.0              Other   Other  "
      ]
     },
     "execution_count": 24,
     "metadata": {},
     "output_type": "execute_result"
    }
   ],
   "source": [
    "pd.set_option('display.max_columns',None)\n",
    "pd.set_option('display.max_rows',150)\n",
    "cla.head()"
   ]
  },
  {
   "cell_type": "code",
   "execution_count": 25,
   "metadata": {},
   "outputs": [
    {
     "data": {
      "text/plain": [
       "array([202005, 202006, 202007, 202008])"
      ]
     },
     "execution_count": 25,
     "metadata": {},
     "output_type": "execute_result"
    }
   ],
   "source": [
    "cla.month_id_original.unique()"
   ]
  },
  {
   "cell_type": "code",
   "execution_count": 26,
   "metadata": {
    "scrolled": true
   },
   "outputs": [
    {
     "data": {
      "text/html": [
       "<div>\n",
       "<style scoped>\n",
       "    .dataframe tbody tr th:only-of-type {\n",
       "        vertical-align: middle;\n",
       "    }\n",
       "\n",
       "    .dataframe tbody tr th {\n",
       "        vertical-align: top;\n",
       "    }\n",
       "\n",
       "    .dataframe thead th {\n",
       "        text-align: right;\n",
       "    }\n",
       "</style>\n",
       "<table border=\"1\" class=\"dataframe\">\n",
       "  <thead>\n",
       "    <tr style=\"text-align: right;\">\n",
       "      <th></th>\n",
       "      <th>index</th>\n",
       "      <th>0</th>\n",
       "    </tr>\n",
       "  </thead>\n",
       "  <tbody>\n",
       "    <tr>\n",
       "      <th>2</th>\n",
       "      <td>dsc_class_churn</td>\n",
       "      <td>22</td>\n",
       "    </tr>\n",
       "    <tr>\n",
       "      <th>4</th>\n",
       "      <td>after_due_days_qty_bin</td>\n",
       "      <td>22</td>\n",
       "    </tr>\n",
       "    <tr>\n",
       "      <th>5</th>\n",
       "      <td>typeh_card_qty</td>\n",
       "      <td>24</td>\n",
       "    </tr>\n",
       "    <tr>\n",
       "      <th>6</th>\n",
       "      <td>typei_card_qty</td>\n",
       "      <td>24</td>\n",
       "    </tr>\n",
       "    <tr>\n",
       "      <th>7</th>\n",
       "      <td>typea_card_qty</td>\n",
       "      <td>24</td>\n",
       "    </tr>\n",
       "    <tr>\n",
       "      <th>8</th>\n",
       "      <td>typeb_card_qty</td>\n",
       "      <td>24</td>\n",
       "    </tr>\n",
       "    <tr>\n",
       "      <th>9</th>\n",
       "      <td>typec_card_qty</td>\n",
       "      <td>24</td>\n",
       "    </tr>\n",
       "    <tr>\n",
       "      <th>10</th>\n",
       "      <td>typed_card_qty</td>\n",
       "      <td>24</td>\n",
       "    </tr>\n",
       "    <tr>\n",
       "      <th>11</th>\n",
       "      <td>typee_card_qty</td>\n",
       "      <td>24</td>\n",
       "    </tr>\n",
       "    <tr>\n",
       "      <th>12</th>\n",
       "      <td>typef_card_qty</td>\n",
       "      <td>24</td>\n",
       "    </tr>\n",
       "    <tr>\n",
       "      <th>13</th>\n",
       "      <td>typeg_card_qty</td>\n",
       "      <td>24</td>\n",
       "    </tr>\n",
       "    <tr>\n",
       "      <th>14</th>\n",
       "      <td>premium_qty</td>\n",
       "      <td>24</td>\n",
       "    </tr>\n",
       "    <tr>\n",
       "      <th>15</th>\n",
       "      <td>premium_flg</td>\n",
       "      <td>24</td>\n",
       "    </tr>\n",
       "    <tr>\n",
       "      <th>16</th>\n",
       "      <td>premium_a_qty</td>\n",
       "      <td>24</td>\n",
       "    </tr>\n",
       "    <tr>\n",
       "      <th>17</th>\n",
       "      <td>premium_b_qty</td>\n",
       "      <td>24</td>\n",
       "    </tr>\n",
       "    <tr>\n",
       "      <th>18</th>\n",
       "      <td>premium_d_qty</td>\n",
       "      <td>24</td>\n",
       "    </tr>\n",
       "    <tr>\n",
       "      <th>19</th>\n",
       "      <td>premium_a_amt_bin</td>\n",
       "      <td>22</td>\n",
       "    </tr>\n",
       "    <tr>\n",
       "      <th>20</th>\n",
       "      <td>subcategory_qtd_seconds_mon_1_bin</td>\n",
       "      <td>9</td>\n",
       "    </tr>\n",
       "    <tr>\n",
       "      <th>21</th>\n",
       "      <td>subcategory_qtd_seconds_mon_2_bin</td>\n",
       "      <td>9</td>\n",
       "    </tr>\n",
       "    <tr>\n",
       "      <th>22</th>\n",
       "      <td>subcategory_qtd_seconds_mon_5_bin</td>\n",
       "      <td>9</td>\n",
       "    </tr>\n",
       "    <tr>\n",
       "      <th>23</th>\n",
       "      <td>subcategory_qtd_seconds_mon_6_bin</td>\n",
       "      <td>9</td>\n",
       "    </tr>\n",
       "    <tr>\n",
       "      <th>24</th>\n",
       "      <td>subcategory_qtd_seconds_mon_8_bin</td>\n",
       "      <td>9</td>\n",
       "    </tr>\n",
       "    <tr>\n",
       "      <th>25</th>\n",
       "      <td>subcategory_qtd_seconds_mon_9_bin</td>\n",
       "      <td>9</td>\n",
       "    </tr>\n",
       "    <tr>\n",
       "      <th>26</th>\n",
       "      <td>subcategory_qtd_seconds_mon_10_bin</td>\n",
       "      <td>9</td>\n",
       "    </tr>\n",
       "    <tr>\n",
       "      <th>27</th>\n",
       "      <td>nr_devices</td>\n",
       "      <td>9</td>\n",
       "    </tr>\n",
       "    <tr>\n",
       "      <th>28</th>\n",
       "      <td>channel_diversity_sa_bin</td>\n",
       "      <td>9</td>\n",
       "    </tr>\n",
       "    <tr>\n",
       "      <th>29</th>\n",
       "      <td>nr_seconds_seen_0h2h_bin</td>\n",
       "      <td>9</td>\n",
       "    </tr>\n",
       "    <tr>\n",
       "      <th>30</th>\n",
       "      <td>nr_seconds_seen_3h5h_bin</td>\n",
       "      <td>9</td>\n",
       "    </tr>\n",
       "    <tr>\n",
       "      <th>31</th>\n",
       "      <td>nr_seconds_seen_18h20h_bin</td>\n",
       "      <td>9</td>\n",
       "    </tr>\n",
       "    <tr>\n",
       "      <th>32</th>\n",
       "      <td>nr_seconds_seen_21h23h_bin</td>\n",
       "      <td>9</td>\n",
       "    </tr>\n",
       "    <tr>\n",
       "      <th>33</th>\n",
       "      <td>segment</td>\n",
       "      <td>9</td>\n",
       "    </tr>\n",
       "    <tr>\n",
       "      <th>34</th>\n",
       "      <td>package_type</td>\n",
       "      <td>9</td>\n",
       "    </tr>\n",
       "    <tr>\n",
       "      <th>35</th>\n",
       "      <td>fiscal_num_bin</td>\n",
       "      <td>9</td>\n",
       "    </tr>\n",
       "    <tr>\n",
       "      <th>36</th>\n",
       "      <td>telephone_num</td>\n",
       "      <td>9</td>\n",
       "    </tr>\n",
       "    <tr>\n",
       "      <th>37</th>\n",
       "      <td>max_call_sent_dur_bin</td>\n",
       "      <td>9</td>\n",
       "    </tr>\n",
       "    <tr>\n",
       "      <th>38</th>\n",
       "      <td>max_call_rec_dur_bin</td>\n",
       "      <td>9</td>\n",
       "    </tr>\n",
       "    <tr>\n",
       "      <th>39</th>\n",
       "      <td>apple</td>\n",
       "      <td>9</td>\n",
       "    </tr>\n",
       "    <tr>\n",
       "      <th>40</th>\n",
       "      <td>rate_plan_A</td>\n",
       "      <td>9</td>\n",
       "    </tr>\n",
       "    <tr>\n",
       "      <th>41</th>\n",
       "      <td>rate_plan_C</td>\n",
       "      <td>9</td>\n",
       "    </tr>\n",
       "    <tr>\n",
       "      <th>42</th>\n",
       "      <td>rate_plan_F</td>\n",
       "      <td>9</td>\n",
       "    </tr>\n",
       "    <tr>\n",
       "      <th>43</th>\n",
       "      <td>min_call_sent_dur_bin</td>\n",
       "      <td>9</td>\n",
       "    </tr>\n",
       "    <tr>\n",
       "      <th>44</th>\n",
       "      <td>min_call_rec_dur_bin</td>\n",
       "      <td>9</td>\n",
       "    </tr>\n",
       "    <tr>\n",
       "      <th>45</th>\n",
       "      <td>nr_calls_sent_month_bin</td>\n",
       "      <td>9</td>\n",
       "    </tr>\n",
       "    <tr>\n",
       "      <th>46</th>\n",
       "      <td>mean_call_sent_dur_bin</td>\n",
       "      <td>9</td>\n",
       "    </tr>\n",
       "    <tr>\n",
       "      <th>47</th>\n",
       "      <td>nr_calls_sent_distinct_numbers_bin</td>\n",
       "      <td>9</td>\n",
       "    </tr>\n",
       "    <tr>\n",
       "      <th>48</th>\n",
       "      <td>nr_distinct_cells_sent_bin</td>\n",
       "      <td>9</td>\n",
       "    </tr>\n",
       "    <tr>\n",
       "      <th>49</th>\n",
       "      <td>nr_distinct_freguesia_sent_bin</td>\n",
       "      <td>9</td>\n",
       "    </tr>\n",
       "    <tr>\n",
       "      <th>50</th>\n",
       "      <td>nr_distinct_concelho_sent_bin</td>\n",
       "      <td>9</td>\n",
       "    </tr>\n",
       "    <tr>\n",
       "      <th>51</th>\n",
       "      <td>nr_calls_rec_month_bin</td>\n",
       "      <td>9</td>\n",
       "    </tr>\n",
       "    <tr>\n",
       "      <th>52</th>\n",
       "      <td>mean_call_rec_dur_bin</td>\n",
       "      <td>9</td>\n",
       "    </tr>\n",
       "    <tr>\n",
       "      <th>53</th>\n",
       "      <td>nr_calls_rec_distinct_numbers_bin</td>\n",
       "      <td>9</td>\n",
       "    </tr>\n",
       "    <tr>\n",
       "      <th>54</th>\n",
       "      <td>nr_distinct_cells_rec_bin</td>\n",
       "      <td>9</td>\n",
       "    </tr>\n",
       "    <tr>\n",
       "      <th>55</th>\n",
       "      <td>nr_distinct_freguesia_rec_bin</td>\n",
       "      <td>9</td>\n",
       "    </tr>\n",
       "    <tr>\n",
       "      <th>56</th>\n",
       "      <td>nr_distinct_concelho_rec_bin</td>\n",
       "      <td>9</td>\n",
       "    </tr>\n",
       "    <tr>\n",
       "      <th>57</th>\n",
       "      <td>cost_recharge_bin</td>\n",
       "      <td>9</td>\n",
       "    </tr>\n",
       "    <tr>\n",
       "      <th>58</th>\n",
       "      <td>dsc_class_churn_change</td>\n",
       "      <td>8762</td>\n",
       "    </tr>\n",
       "    <tr>\n",
       "      <th>59</th>\n",
       "      <td>after_due_days_qty_bin_change</td>\n",
       "      <td>8762</td>\n",
       "    </tr>\n",
       "    <tr>\n",
       "      <th>60</th>\n",
       "      <td>typeh_card_qty_change</td>\n",
       "      <td>8895</td>\n",
       "    </tr>\n",
       "    <tr>\n",
       "      <th>61</th>\n",
       "      <td>typei_card_qty_change</td>\n",
       "      <td>8895</td>\n",
       "    </tr>\n",
       "    <tr>\n",
       "      <th>62</th>\n",
       "      <td>typea_card_qty_change</td>\n",
       "      <td>8895</td>\n",
       "    </tr>\n",
       "    <tr>\n",
       "      <th>63</th>\n",
       "      <td>typeb_card_qty_change</td>\n",
       "      <td>8895</td>\n",
       "    </tr>\n",
       "    <tr>\n",
       "      <th>64</th>\n",
       "      <td>typec_card_qty_change</td>\n",
       "      <td>8895</td>\n",
       "    </tr>\n",
       "    <tr>\n",
       "      <th>65</th>\n",
       "      <td>typed_card_qty_change</td>\n",
       "      <td>8895</td>\n",
       "    </tr>\n",
       "    <tr>\n",
       "      <th>66</th>\n",
       "      <td>typee_card_qty_change</td>\n",
       "      <td>8895</td>\n",
       "    </tr>\n",
       "    <tr>\n",
       "      <th>67</th>\n",
       "      <td>typef_card_qty_change</td>\n",
       "      <td>8895</td>\n",
       "    </tr>\n",
       "    <tr>\n",
       "      <th>68</th>\n",
       "      <td>premium_qty_change</td>\n",
       "      <td>8895</td>\n",
       "    </tr>\n",
       "    <tr>\n",
       "      <th>69</th>\n",
       "      <td>premium_a_qty_change</td>\n",
       "      <td>8895</td>\n",
       "    </tr>\n",
       "    <tr>\n",
       "      <th>70</th>\n",
       "      <td>premium_b_qty_change</td>\n",
       "      <td>8895</td>\n",
       "    </tr>\n",
       "    <tr>\n",
       "      <th>71</th>\n",
       "      <td>premium_c_qty_change</td>\n",
       "      <td>8895</td>\n",
       "    </tr>\n",
       "    <tr>\n",
       "      <th>72</th>\n",
       "      <td>premium_d_qty_change</td>\n",
       "      <td>8895</td>\n",
       "    </tr>\n",
       "    <tr>\n",
       "      <th>73</th>\n",
       "      <td>modularity_class_1</td>\n",
       "      <td>9</td>\n",
       "    </tr>\n",
       "    <tr>\n",
       "      <th>74</th>\n",
       "      <td>Degree_1</td>\n",
       "      <td>9</td>\n",
       "    </tr>\n",
       "    <tr>\n",
       "      <th>75</th>\n",
       "      <td>Eccentricity_1</td>\n",
       "      <td>9</td>\n",
       "    </tr>\n",
       "    <tr>\n",
       "      <th>76</th>\n",
       "      <td>closnesscentrality_1</td>\n",
       "      <td>9</td>\n",
       "    </tr>\n",
       "    <tr>\n",
       "      <th>77</th>\n",
       "      <td>harmonicclosnesscentrality_1</td>\n",
       "      <td>9</td>\n",
       "    </tr>\n",
       "    <tr>\n",
       "      <th>78</th>\n",
       "      <td>betweenesscentrality_1</td>\n",
       "      <td>9</td>\n",
       "    </tr>\n",
       "    <tr>\n",
       "      <th>79</th>\n",
       "      <td>pageranks_1</td>\n",
       "      <td>9</td>\n",
       "    </tr>\n",
       "    <tr>\n",
       "      <th>80</th>\n",
       "      <td>modularity_class_2</td>\n",
       "      <td>9</td>\n",
       "    </tr>\n",
       "    <tr>\n",
       "      <th>81</th>\n",
       "      <td>Degree_2</td>\n",
       "      <td>9</td>\n",
       "    </tr>\n",
       "    <tr>\n",
       "      <th>82</th>\n",
       "      <td>Eccentricity_2</td>\n",
       "      <td>9</td>\n",
       "    </tr>\n",
       "    <tr>\n",
       "      <th>83</th>\n",
       "      <td>closnesscentrality_2</td>\n",
       "      <td>9</td>\n",
       "    </tr>\n",
       "    <tr>\n",
       "      <th>84</th>\n",
       "      <td>harmonicclosnesscentrality_2</td>\n",
       "      <td>9</td>\n",
       "    </tr>\n",
       "    <tr>\n",
       "      <th>85</th>\n",
       "      <td>betweenesscentrality_2</td>\n",
       "      <td>9</td>\n",
       "    </tr>\n",
       "    <tr>\n",
       "      <th>86</th>\n",
       "      <td>pageranks_2</td>\n",
       "      <td>9</td>\n",
       "    </tr>\n",
       "  </tbody>\n",
       "</table>\n",
       "</div>"
      ],
      "text/plain": [
       "                                 index     0\n",
       "2                      dsc_class_churn    22\n",
       "4               after_due_days_qty_bin    22\n",
       "5                       typeh_card_qty    24\n",
       "6                       typei_card_qty    24\n",
       "7                       typea_card_qty    24\n",
       "8                       typeb_card_qty    24\n",
       "9                       typec_card_qty    24\n",
       "10                      typed_card_qty    24\n",
       "11                      typee_card_qty    24\n",
       "12                      typef_card_qty    24\n",
       "13                      typeg_card_qty    24\n",
       "14                         premium_qty    24\n",
       "15                         premium_flg    24\n",
       "16                       premium_a_qty    24\n",
       "17                       premium_b_qty    24\n",
       "18                       premium_d_qty    24\n",
       "19                   premium_a_amt_bin    22\n",
       "20   subcategory_qtd_seconds_mon_1_bin     9\n",
       "21   subcategory_qtd_seconds_mon_2_bin     9\n",
       "22   subcategory_qtd_seconds_mon_5_bin     9\n",
       "23   subcategory_qtd_seconds_mon_6_bin     9\n",
       "24   subcategory_qtd_seconds_mon_8_bin     9\n",
       "25   subcategory_qtd_seconds_mon_9_bin     9\n",
       "26  subcategory_qtd_seconds_mon_10_bin     9\n",
       "27                          nr_devices     9\n",
       "28            channel_diversity_sa_bin     9\n",
       "29            nr_seconds_seen_0h2h_bin     9\n",
       "30            nr_seconds_seen_3h5h_bin     9\n",
       "31          nr_seconds_seen_18h20h_bin     9\n",
       "32          nr_seconds_seen_21h23h_bin     9\n",
       "33                             segment     9\n",
       "34                        package_type     9\n",
       "35                      fiscal_num_bin     9\n",
       "36                       telephone_num     9\n",
       "37               max_call_sent_dur_bin     9\n",
       "38                max_call_rec_dur_bin     9\n",
       "39                               apple     9\n",
       "40                         rate_plan_A     9\n",
       "41                         rate_plan_C     9\n",
       "42                         rate_plan_F     9\n",
       "43               min_call_sent_dur_bin     9\n",
       "44                min_call_rec_dur_bin     9\n",
       "45             nr_calls_sent_month_bin     9\n",
       "46              mean_call_sent_dur_bin     9\n",
       "47  nr_calls_sent_distinct_numbers_bin     9\n",
       "48          nr_distinct_cells_sent_bin     9\n",
       "49      nr_distinct_freguesia_sent_bin     9\n",
       "50       nr_distinct_concelho_sent_bin     9\n",
       "51              nr_calls_rec_month_bin     9\n",
       "52               mean_call_rec_dur_bin     9\n",
       "53   nr_calls_rec_distinct_numbers_bin     9\n",
       "54           nr_distinct_cells_rec_bin     9\n",
       "55       nr_distinct_freguesia_rec_bin     9\n",
       "56        nr_distinct_concelho_rec_bin     9\n",
       "57                   cost_recharge_bin     9\n",
       "58              dsc_class_churn_change  8762\n",
       "59       after_due_days_qty_bin_change  8762\n",
       "60               typeh_card_qty_change  8895\n",
       "61               typei_card_qty_change  8895\n",
       "62               typea_card_qty_change  8895\n",
       "63               typeb_card_qty_change  8895\n",
       "64               typec_card_qty_change  8895\n",
       "65               typed_card_qty_change  8895\n",
       "66               typee_card_qty_change  8895\n",
       "67               typef_card_qty_change  8895\n",
       "68                  premium_qty_change  8895\n",
       "69                premium_a_qty_change  8895\n",
       "70                premium_b_qty_change  8895\n",
       "71                premium_c_qty_change  8895\n",
       "72                premium_d_qty_change  8895\n",
       "73                  modularity_class_1     9\n",
       "74                            Degree_1     9\n",
       "75                      Eccentricity_1     9\n",
       "76                closnesscentrality_1     9\n",
       "77        harmonicclosnesscentrality_1     9\n",
       "78              betweenesscentrality_1     9\n",
       "79                         pageranks_1     9\n",
       "80                  modularity_class_2     9\n",
       "81                            Degree_2     9\n",
       "82                      Eccentricity_2     9\n",
       "83                closnesscentrality_2     9\n",
       "84        harmonicclosnesscentrality_2     9\n",
       "85              betweenesscentrality_2     9\n",
       "86                         pageranks_2     9"
      ]
     },
     "execution_count": 26,
     "metadata": {},
     "output_type": "execute_result"
    }
   ],
   "source": [
    "mv=cla.isnull().sum(axis=0).reset_index()\n",
    "mv.loc[mv[0]>1]"
   ]
  },
  {
   "cell_type": "code",
   "execution_count": 27,
   "metadata": {
    "scrolled": true
   },
   "outputs": [
    {
     "data": {
      "text/plain": [
       "0.875"
      ]
     },
     "execution_count": 27,
     "metadata": {},
     "output_type": "execute_result"
    }
   ],
   "source": [
    "cla.loc[cla.premium_qty.isnull()].is_donor.sum()/len(cla.loc[cla.premium_qty.isnull()])"
   ]
  },
  {
   "cell_type": "code",
   "execution_count": 28,
   "metadata": {
    "scrolled": true
   },
   "outputs": [
    {
     "data": {
      "text/plain": [
       "1.0"
      ]
     },
     "execution_count": 28,
     "metadata": {},
     "output_type": "execute_result"
    }
   ],
   "source": [
    "cla.loc[cla.nr_devices.isnull()].is_donor.sum()/len(cla.loc[cla.nr_devices.isnull()])"
   ]
  },
  {
   "cell_type": "code",
   "execution_count": 29,
   "metadata": {
    "scrolled": true
   },
   "outputs": [
    {
     "data": {
      "text/plain": [
       "0.002360876897133221"
      ]
     },
     "execution_count": 29,
     "metadata": {},
     "output_type": "execute_result"
    }
   ],
   "source": [
    "cla.loc[cla.premium_qty_change.isnull()].is_donor.sum()/len(cla.loc[cla.premium_qty_change.isnull()])"
   ]
  },
  {
   "cell_type": "code",
   "execution_count": 30,
   "metadata": {},
   "outputs": [],
   "source": [
    "cla.loc[(cla.premium_qty.isnull()) | (cla.nr_devices.isnull()),'missings']=1\n",
    "cla.missings=cla.missings.fillna(0)"
   ]
  },
  {
   "cell_type": "raw",
   "metadata": {},
   "source": [
    "from sklearn.experimental import enable_iterative_imputer\n",
    "from sklearn.impute import IterativeImputer\n",
    "imp = IterativeImputer(max_iter=10, random_state=0)\n",
    "imp.fit(cla[[]])"
   ]
  },
  {
   "cell_type": "raw",
   "metadata": {},
   "source": [
    "for col in cla.columns:\n",
    "    cla[col]=cla[col].fillna(-1)"
   ]
  },
  {
   "cell_type": "code",
   "execution_count": 31,
   "metadata": {},
   "outputs": [
    {
     "data": {
      "text/plain": [
       "Index(['geom_nuts_ii_dsc', 'segment', 'package_type', 'geom_distrito_dsc_new',\n",
       "       'geom_municipio_dsc_new', 'geom_freguesia_dsc_new',\n",
       "       'geom_nuts_iii_dsc_new', 'pack_dsc_new', 'subcategory_1_new',\n",
       "       'subcategory_2_new', 'subcategory_3_new', 'subcategory_4_new',\n",
       "       'subcategory_5_new', 'subcategory_6_new', 'subcategory_7_new',\n",
       "       'subcategory_8_new', 'subcategory_9_new', 'subcategory_10_new',\n",
       "       'cp4_new'],\n",
       "      dtype='object')"
      ]
     },
     "execution_count": 31,
     "metadata": {},
     "output_type": "execute_result"
    }
   ],
   "source": [
    "cla.select_dtypes(include=['object']).columns"
   ]
  },
  {
   "cell_type": "code",
   "execution_count": 32,
   "metadata": {},
   "outputs": [
    {
     "name": "stdout",
     "output_type": "stream",
     "text": [
      "column geom_nuts_ii_dsc has length:  3\n",
      "column segment has length:  4\n",
      "column package_type has length:  5\n",
      "column geom_distrito_dsc_new has length:  6\n",
      "column geom_municipio_dsc_new has length:  6\n",
      "column geom_freguesia_dsc_new has length:  6\n",
      "column geom_nuts_iii_dsc_new has length:  6\n",
      "column pack_dsc_new has length:  6\n",
      "column subcategory_1_new has length:  6\n",
      "column subcategory_2_new has length:  6\n",
      "column subcategory_3_new has length:  6\n",
      "column subcategory_4_new has length:  6\n",
      "column subcategory_5_new has length:  6\n",
      "column subcategory_6_new has length:  6\n",
      "column subcategory_7_new has length:  6\n",
      "column subcategory_8_new has length:  6\n",
      "column subcategory_9_new has length:  6\n",
      "column subcategory_10_new has length:  6\n",
      "column cp4_new has length:  6\n"
     ]
    }
   ],
   "source": [
    "for col in cla.select_dtypes(include=['object']).columns:\n",
    "    print('column', col, 'has length: ', len(cla[col].unique()))"
   ]
  },
  {
   "cell_type": "code",
   "execution_count": 34,
   "metadata": {},
   "outputs": [],
   "source": [
    "cla3=pd.get_dummies(cla)"
   ]
  },
  {
   "cell_type": "code",
   "execution_count": 35,
   "metadata": {},
   "outputs": [],
   "source": [
    "train=cla3.loc[cla3.month_id_original!=202008]\n",
    "test=cla3.loc[cla3.month_id_original==202008]"
   ]
  },
  {
   "cell_type": "code",
   "execution_count": 36,
   "metadata": {},
   "outputs": [
    {
     "name": "stderr",
     "output_type": "stream",
     "text": [
      "/usr/local/lib/python3.6/dist-packages/pandas/core/frame.py:4174: SettingWithCopyWarning: \n",
      "A value is trying to be set on a copy of a slice from a DataFrame\n",
      "\n",
      "See the caveats in the documentation: https://pandas.pydata.org/pandas-docs/stable/user_guide/indexing.html#returning-a-view-versus-a-copy\n",
      "  errors=errors,\n"
     ]
    }
   ],
   "source": [
    "train.drop(\"month_id_original\",axis=1,inplace=True)\n",
    "test.drop(\"month_id_original\",axis=1,inplace=True)"
   ]
  },
  {
   "cell_type": "code",
   "execution_count": 37,
   "metadata": {
    "scrolled": true
   },
   "outputs": [
    {
     "data": {
      "text/plain": [
       "array(['dsc_class_churn', 'after_due_days_qty_bin', 'typeh_card_qty',\n",
       "       'typei_card_qty', 'typea_card_qty', 'typeb_card_qty',\n",
       "       'typec_card_qty', 'typed_card_qty', 'typee_card_qty',\n",
       "       'typef_card_qty', 'typeg_card_qty', 'premium_qty', 'premium_flg',\n",
       "       'premium_a_qty', 'premium_b_qty', 'premium_d_qty',\n",
       "       'premium_a_amt_bin', 'subcategory_qtd_seconds_mon_1_bin',\n",
       "       'subcategory_qtd_seconds_mon_2_bin',\n",
       "       'subcategory_qtd_seconds_mon_5_bin',\n",
       "       'subcategory_qtd_seconds_mon_6_bin',\n",
       "       'subcategory_qtd_seconds_mon_8_bin',\n",
       "       'subcategory_qtd_seconds_mon_9_bin',\n",
       "       'subcategory_qtd_seconds_mon_10_bin', 'nr_devices',\n",
       "       'channel_diversity_sa_bin', 'nr_seconds_seen_0h2h_bin',\n",
       "       'nr_seconds_seen_3h5h_bin', 'nr_seconds_seen_18h20h_bin',\n",
       "       'nr_seconds_seen_21h23h_bin', 'segment', 'package_type',\n",
       "       'fiscal_num_bin', 'telephone_num', 'max_call_sent_dur_bin',\n",
       "       'max_call_rec_dur_bin', 'apple', 'rate_plan_A', 'rate_plan_C',\n",
       "       'rate_plan_F', 'min_call_sent_dur_bin', 'min_call_rec_dur_bin',\n",
       "       'nr_calls_sent_month_bin', 'mean_call_sent_dur_bin',\n",
       "       'nr_calls_sent_distinct_numbers_bin', 'nr_distinct_cells_sent_bin',\n",
       "       'nr_distinct_freguesia_sent_bin', 'nr_distinct_concelho_sent_bin',\n",
       "       'nr_calls_rec_month_bin', 'mean_call_rec_dur_bin',\n",
       "       'nr_calls_rec_distinct_numbers_bin', 'nr_distinct_cells_rec_bin',\n",
       "       'nr_distinct_freguesia_rec_bin', 'nr_distinct_concelho_rec_bin',\n",
       "       'cost_recharge_bin', 'dsc_class_churn_change',\n",
       "       'after_due_days_qty_bin_change', 'typeh_card_qty_change',\n",
       "       'typei_card_qty_change', 'typea_card_qty_change',\n",
       "       'typeb_card_qty_change', 'typec_card_qty_change',\n",
       "       'typed_card_qty_change', 'typee_card_qty_change',\n",
       "       'typef_card_qty_change', 'premium_qty_change',\n",
       "       'premium_a_qty_change', 'premium_b_qty_change',\n",
       "       'premium_c_qty_change', 'premium_d_qty_change',\n",
       "       'modularity_class_1', 'Degree_1', 'Eccentricity_1',\n",
       "       'closnesscentrality_1', 'harmonicclosnesscentrality_1',\n",
       "       'betweenesscentrality_1', 'pageranks_1', 'modularity_class_2',\n",
       "       'Degree_2', 'Eccentricity_2', 'closnesscentrality_2',\n",
       "       'harmonicclosnesscentrality_2', 'betweenesscentrality_2',\n",
       "       'pageranks_2'], dtype=object)"
      ]
     },
     "execution_count": 37,
     "metadata": {},
     "output_type": "execute_result"
    }
   ],
   "source": [
    "mv.loc[mv[0]>1,'index'].values"
   ]
  },
  {
   "cell_type": "raw",
   "metadata": {},
   "source": [
    "#Memory error\n",
    "imputed4 = imputer.fit_transform(train[['is_donor', 'dsc_class_churn_change',\n",
    "       'after_due_days_qty_bin_change', 'typeh_card_qty_change',\n",
    "       'typei_card_qty_change', 'typea_card_qty_change',\n",
    "       'typeb_card_qty_change', 'typec_card_qty_change',\n",
    "       'typed_card_qty_change', 'typee_card_qty_change',\n",
    "       'typef_card_qty_change', 'premium_qty_change',\n",
    "       'premium_a_qty_change', 'premium_b_qty_change',\n",
    "       'premium_c_qty_change', 'premium_d_qty_change']])"
   ]
  },
  {
   "cell_type": "code",
   "execution_count": 38,
   "metadata": {},
   "outputs": [
    {
     "name": "stderr",
     "output_type": "stream",
     "text": [
      "/usr/local/lib/python3.6/dist-packages/ipykernel_launcher.py:12: SettingWithCopyWarning: \n",
      "A value is trying to be set on a copy of a slice from a DataFrame.\n",
      "Try using .loc[row_indexer,col_indexer] = value instead\n",
      "\n",
      "See the caveats in the documentation: https://pandas.pydata.org/pandas-docs/stable/user_guide/indexing.html#returning-a-view-versus-a-copy\n",
      "  if sys.path[0] == '':\n",
      "/usr/local/lib/python3.6/dist-packages/ipykernel_launcher.py:13: SettingWithCopyWarning: \n",
      "A value is trying to be set on a copy of a slice from a DataFrame.\n",
      "Try using .loc[row_indexer,col_indexer] = value instead\n",
      "\n",
      "See the caveats in the documentation: https://pandas.pydata.org/pandas-docs/stable/user_guide/indexing.html#returning-a-view-versus-a-copy\n",
      "  del sys.path[0]\n"
     ]
    }
   ],
   "source": [
    "change=['dsc_class_churn_change',\n",
    "       'after_due_days_qty_bin_change', 'typeh_card_qty_change',\n",
    "       'typei_card_qty_change', 'typea_card_qty_change',\n",
    "       'typeb_card_qty_change', 'typec_card_qty_change',\n",
    "       'typed_card_qty_change', 'typee_card_qty_change',\n",
    "       'typef_card_qty_change', 'premium_qty_change',\n",
    "       'premium_a_qty_change', 'premium_b_qty_change',\n",
    "       'premium_c_qty_change', 'premium_d_qty_change']\n",
    "\n",
    "for col in change:\n",
    "    avg=train[col].mean()\n",
    "    train[col]=train[col].fillna(avg)\n",
    "    test[col]=test[col].fillna(avg)"
   ]
  },
  {
   "cell_type": "code",
   "execution_count": 39,
   "metadata": {},
   "outputs": [],
   "source": [
    "from sklearn.impute import KNNImputer\n",
    "\n",
    "imputer = KNNImputer(n_neighbors=10)\n",
    "imputed = imputer.fit_transform(train)\n",
    "train2 = pd.DataFrame(imputed, columns=train.columns)"
   ]
  },
  {
   "cell_type": "code",
   "execution_count": 40,
   "metadata": {},
   "outputs": [],
   "source": [
    "imputed2 = imputer.transform(test)\n",
    "test2 = pd.DataFrame(imputed2, columns=test.columns)"
   ]
  },
  {
   "cell_type": "raw",
   "metadata": {},
   "source": [
    "from imblearn.over_sampling import SMOTE\n",
    "#ver + á frente"
   ]
  },
  {
   "cell_type": "code",
   "execution_count": 41,
   "metadata": {},
   "outputs": [
    {
     "data": {
      "text/plain": [
       "601"
      ]
     },
     "execution_count": 41,
     "metadata": {},
     "output_type": "execute_result"
    }
   ],
   "source": [
    "len(train2.loc[train2.is_donor==1])"
   ]
  },
  {
   "cell_type": "code",
   "execution_count": 42,
   "metadata": {},
   "outputs": [],
   "source": [
    "train3=pd.concat([train2.loc[train2.is_donor==0].sample(601),train2.loc[train2.is_donor==1]],axis=0)"
   ]
  },
  {
   "cell_type": "code",
   "execution_count": 43,
   "metadata": {},
   "outputs": [],
   "source": [
    "train4=pd.concat([train2.loc[train2.is_donor==0].sample(1200),train2.loc[train2.is_donor==1]],axis=0)"
   ]
  },
  {
   "cell_type": "code",
   "execution_count": 44,
   "metadata": {},
   "outputs": [],
   "source": [
    "train5=pd.concat([train2.loc[train2.is_donor==0].sample(3000),train2.loc[train2.is_donor==1]],axis=0)"
   ]
  },
  {
   "cell_type": "code",
   "execution_count": 45,
   "metadata": {},
   "outputs": [],
   "source": [
    "x_train=train3.drop(['is_donor'],axis=1)\n",
    "y_train=train3.is_donor"
   ]
  },
  {
   "cell_type": "code",
   "execution_count": 46,
   "metadata": {},
   "outputs": [],
   "source": [
    "x_train2=train4.drop(['is_donor'],axis=1)\n",
    "y_train2=train4.is_donor"
   ]
  },
  {
   "cell_type": "code",
   "execution_count": 47,
   "metadata": {},
   "outputs": [],
   "source": [
    "x_train3=train5.drop(['is_donor'],axis=1)\n",
    "y_train3=train5.is_donor"
   ]
  },
  {
   "cell_type": "code",
   "execution_count": 48,
   "metadata": {},
   "outputs": [],
   "source": [
    "x_test=test2.drop(['is_donor'],axis=1)\n",
    "y_test=test2.is_donor"
   ]
  },
  {
   "cell_type": "code",
   "execution_count": 49,
   "metadata": {},
   "outputs": [
    {
     "data": {
      "text/plain": [
       "0.004044221692730443"
      ]
     },
     "execution_count": 49,
     "metadata": {},
     "output_type": "execute_result"
    }
   ],
   "source": [
    "y_test.sum()/len(y_test)"
   ]
  },
  {
   "cell_type": "markdown",
   "metadata": {},
   "source": [
    "### cut 50%/50%"
   ]
  },
  {
   "cell_type": "code",
   "execution_count": 50,
   "metadata": {},
   "outputs": [
    {
     "name": "stdout",
     "output_type": "stream",
     "text": [
      "164\n",
      "[12 11  1  1  1  1  1  1  1  1  1  1  1  1  1  1  1  1  1  1  1  1  1  1\n",
      "  1  1  1  1  1  1  1  1  1  1  1  1  1  1  1  1  1  1  1  1  1  1  1  1\n",
      "  1  1  1  1  1  1  1  1  1  1  1  1  1  1  1  1  1  1  1  1  1  1  1  1\n",
      "  1  1  1  1  1  1  1  1  1  1  1  1  1  1  1  1  1  1  1  1 23  1  1  1\n",
      "  1  1  1  1  1  1  1 25  6  1  1  1  1  8  1  1  1  1  1  1  1  1  1  1\n",
      "  1  1  1  1 18  1  1  1  1  1  1 17  1  7  1  5  1  1  1  1  1  1  1 15\n",
      "  1  9  1  4  1  1  1  1  1  1  1  1  1  1  1 22  1  1 16  1  1  1  1  1\n",
      "  1  1  1  1  1  1  1  1  1  1  1  2  3 10 13 14 19 20 21 24 26]\n"
     ]
    },
    {
     "data": {
      "image/png": "[encoded data removed]",
      "text/plain": [
       "<Figure size 432x288 with 1 Axes>"
      ]
     },
     "metadata": {
      "needs_background": "light"
     },
     "output_type": "display_data"
    }
   ],
   "source": [
    "from sklearn.ensemble import RandomForestClassifier\n",
    "from sklearn.feature_selection import RFE, RFECV\n",
    "from sklearn.model_selection import StratifiedKFold, GridSearchCV\n",
    "import matplotlib.pyplot as plt\n",
    "\n",
    "\n",
    "rf_clf = RandomForestClassifier(bootstrap=True, \n",
    "                          criterion='gini',\n",
    "                          max_depth=4, \n",
    "                          n_estimators=50, \n",
    "                          n_jobs=16,\n",
    "                          random_state=1)\n",
    "\n",
    "rfecv = RFECV(estimator=rf_clf, \n",
    "              step=1, \n",
    "              cv=3, \n",
    "              scoring='roc_auc')\n",
    "\n",
    "\n",
    "rfe = rfecv.fit(x_train, y_train)\n",
    "print(rfe.n_features_) \n",
    "print(rfe.ranking_)\n",
    "\n",
    "plt.figure()\n",
    "plt.xlabel(\"Number of features selected\")\n",
    "plt.ylabel(\"Cross validation\")\n",
    "plt.plot(range(1, len(rfe.grid_scores_) + 1), rfe.grid_scores_)\n",
    "plt.show()"
   ]
  },
  {
   "cell_type": "code",
   "execution_count": 51,
   "metadata": {},
   "outputs": [
    {
     "data": {
      "text/plain": [
       "Index(['typei_card_qty', 'typec_card_qty', 'nr_seconds_seen_3h5h_bin',\n",
       "       'telephone_num', 'max_call_sent_dur_bin', 'max_call_rec_dur_bin',\n",
       "       'min_call_sent_dur_bin', 'min_call_rec_dur_bin',\n",
       "       'nr_calls_sent_month_bin', 'mean_call_sent_dur_bin',\n",
       "       'nr_calls_sent_distinct_numbers_bin', 'nr_distinct_cells_sent_bin',\n",
       "       'nr_distinct_freguesia_sent_bin', 'nr_distinct_concelho_sent_bin',\n",
       "       'nr_calls_rec_month_bin', 'nr_calls_rec_distinct_numbers_bin',\n",
       "       'nr_distinct_cells_rec_bin', 'nr_distinct_freguesia_rec_bin',\n",
       "       'Degree_1', 'geom_nuts_ii_dsc_Other', 'package_type_3P',\n",
       "       'geom_distrito_dsc_new_LISBOA (DISTRITO)',\n",
       "       'geom_nuts_iii_dsc_new_ALGARVE (NUTS III)',\n",
       "       'geom_nuts_iii_dsc_new_GRANDE LISBOA',\n",
       "       'geom_nuts_iii_dsc_new_GRANDE PORTO'],\n",
       "      dtype='object')"
      ]
     },
     "execution_count": 51,
     "metadata": {},
     "output_type": "execute_result"
    }
   ],
   "source": [
    "res = list(zip (range(1, len(rfe.grid_scores_) + 1), rfe.grid_scores_))\n",
    "\n",
    "nb_features = 25\n",
    "rfe_sel= RFE(estimator=rf_clf,step=1,n_features_to_select=nb_features) \n",
    "rfe_sel_fit = rfe_sel.fit(x_train, y_train)\n",
    "\n",
    "x_train_var = x_train[x_train.columns[rfe_sel_fit.get_support(indices=True)]]\n",
    "\n",
    "# Display the columns names\n",
    "x_train_var.columns"
   ]
  },
  {
   "cell_type": "markdown",
   "metadata": {},
   "source": [
    "### cut 70%/30%"
   ]
  },
  {
   "cell_type": "code",
   "execution_count": 52,
   "metadata": {},
   "outputs": [
    {
     "name": "stdout",
     "output_type": "stream",
     "text": [
      "189\n",
      "[1 1 1 1 1 1 1 1 1 1 1 1 1 1 1 1 1 1 1 1 1 1 1 1 1 1 1 1 1 1 1 1 1 1 1 1 1\n",
      " 1 1 1 1 1 1 1 1 1 1 1 1 1 1 1 1 1 1 1 1 1 1 1 1 1 1 1 1 1 1 1 1 1 1 1 1 1\n",
      " 1 1 1 1 1 1 1 1 1 1 1 1 1 1 1 1 1 1 1 1 1 1 1 1 1 1 1 1 1 1 1 1 1 1 1 1 1\n",
      " 1 1 1 1 1 1 1 1 1 1 1 1 1 1 1 1 1 1 1 1 1 1 1 1 1 1 1 1 1 1 1 1 1 1 1 1 1\n",
      " 1 1 1 1 1 1 1 1 1 1 1 1 1 1 1 1 1 1 1 1 1 1 1 1 1 1 1 1 1 1 1 1 1 1 1 1 1\n",
      " 1 1 1 1]\n"
     ]
    },
    {
     "data": {
      "image/png": "[encoded data removed]",
      "text/plain": [
       "<Figure size 432x288 with 1 Axes>"
      ]
     },
     "metadata": {
      "needs_background": "light"
     },
     "output_type": "display_data"
    }
   ],
   "source": [
    "rf_clf = RandomForestClassifier(bootstrap=True, \n",
    "                          criterion='gini',\n",
    "                          max_depth=4, \n",
    "                          n_estimators=50, \n",
    "                          n_jobs=16,\n",
    "                          random_state=1)\n",
    "\n",
    "rfecv = RFECV(estimator=rf_clf, \n",
    "              step=1, \n",
    "              cv=3, \n",
    "              scoring='roc_auc')\n",
    "\n",
    "\n",
    "rfe = rfecv.fit(x_train2, y_train2)\n",
    "print(rfe.n_features_) \n",
    "print(rfe.ranking_)\n",
    "\n",
    "plt.figure()\n",
    "plt.xlabel(\"Number of features selected\")\n",
    "plt.ylabel(\"Cross validation\")\n",
    "plt.plot(range(1, len(rfe.grid_scores_) + 1), rfe.grid_scores_)\n",
    "plt.show()"
   ]
  },
  {
   "cell_type": "code",
   "execution_count": 53,
   "metadata": {},
   "outputs": [
    {
     "data": {
      "text/plain": [
       "Index(['dsc_class_churn', 'typeh_card_qty', 'typei_card_qty', 'typec_card_qty',\n",
       "       'premium_qty', 'premium_flg', 'nr_seconds_seen_3h5h_bin',\n",
       "       'telephone_num', 'max_call_sent_dur_bin', 'min_call_rec_dur_bin',\n",
       "       'nr_calls_sent_month_bin', 'nr_calls_sent_distinct_numbers_bin',\n",
       "       'nr_distinct_cells_sent_bin', 'nr_distinct_freguesia_sent_bin',\n",
       "       'nr_distinct_concelho_sent_bin', 'nr_calls_rec_month_bin',\n",
       "       'nr_calls_rec_distinct_numbers_bin', 'nr_distinct_freguesia_rec_bin',\n",
       "       'cost_recharge_bin', 'missings', 'package_type_3P',\n",
       "       'geom_distrito_dsc_new_LISBOA (DISTRITO)',\n",
       "       'geom_distrito_dsc_new_PORTO (DISTRITO)',\n",
       "       'geom_municipio_dsc_new_LISBOA (MUNICIPIO)',\n",
       "       'geom_municipio_dsc_new_Other', 'geom_nuts_iii_dsc_new_GRANDE LISBOA',\n",
       "       'geom_nuts_iii_dsc_new_GRANDE PORTO'],\n",
       "      dtype='object')"
      ]
     },
     "execution_count": 53,
     "metadata": {},
     "output_type": "execute_result"
    }
   ],
   "source": [
    "res = list(zip (range(1, len(rfe.grid_scores_) + 1), rfe.grid_scores_))\n",
    "\n",
    "nb_features = 27\n",
    "rfe_sel= RFE(estimator=rf_clf,step=1,n_features_to_select=nb_features) \n",
    "rfe_sel_fit = rfe_sel.fit(x_train2, y_train2)\n",
    "\n",
    "x_train_var2 = x_train2[x_train2.columns[rfe_sel_fit.get_support(indices=True)]]\n",
    "\n",
    "# Display the columns names\n",
    "x_train_var2.columns"
   ]
  },
  {
   "cell_type": "markdown",
   "metadata": {},
   "source": [
    "### cut 85%/15%"
   ]
  },
  {
   "cell_type": "code",
   "execution_count": 54,
   "metadata": {},
   "outputs": [
    {
     "name": "stdout",
     "output_type": "stream",
     "text": [
      "129\n",
      "[ 1  1  1  1  1  1  1  1  1  1  1  1  1  1  1  1  1  1  1  1  1  1  1  1\n",
      "  1  1  1  1  1  1  1  1  1  1  1 25  1 16  1  1  1  1  1  1  1  1  1  1\n",
      "  1  1  1  1  1  1 20 11  1  1  1  1 27  1  1  1  1  1  1  1  1  1  1  1\n",
      "  1  1 14  1  1 39  1  1  1  1  1  1 42  1 29  1  1  1  1  1 58 57  1  1\n",
      "  1  1  1  1  1  1  1  1 28  1  1 32  2  1 30  1  1  1  1  1  1 59  1  1\n",
      "  1  1  1  3  1  1  1  5  8 48 13 47 17 10 22 19 60 23 56  1 34 61  9 26\n",
      " 46 15  7  4  1  1 12 24  1  1  1 33 37 18  1 40  1  1 31  1  1 45  1  1\n",
      "  1  1 36 38 35  1  1  1  1 21  6 41 43 44 49 50 51 52 53 54 55]\n"
     ]
    },
    {
     "data": {
      "image/png": "[encoded data removed]",
      "text/plain": [
       "<Figure size 432x288 with 1 Axes>"
      ]
     },
     "metadata": {
      "needs_background": "light"
     },
     "output_type": "display_data"
    }
   ],
   "source": [
    "rf_clf = RandomForestClassifier(bootstrap=True, \n",
    "                          criterion='gini',\n",
    "                          max_depth=4, \n",
    "                          n_estimators=50, \n",
    "                          n_jobs=16,\n",
    "                          random_state=1)\n",
    "\n",
    "rfecv = RFECV(estimator=rf_clf, \n",
    "              step=1, \n",
    "              cv=3, \n",
    "              scoring='roc_auc')\n",
    "\n",
    "\n",
    "rfe = rfecv.fit(x_train3, y_train3)\n",
    "print(rfe.n_features_) \n",
    "print(rfe.ranking_)\n",
    "\n",
    "plt.figure()\n",
    "plt.xlabel(\"Number of features selected\")\n",
    "plt.ylabel(\"Cross validation\")\n",
    "plt.plot(range(1, len(rfe.grid_scores_) + 1), rfe.grid_scores_)\n",
    "plt.show()"
   ]
  },
  {
   "cell_type": "code",
   "execution_count": 55,
   "metadata": {},
   "outputs": [
    {
     "data": {
      "text/plain": [
       "Index(['dsc_class_churn', 'typei_card_qty', 'typec_card_qty', 'telephone_num',\n",
       "       'nr_calls_sent_month_bin', 'nr_calls_sent_distinct_numbers_bin',\n",
       "       'nr_distinct_cells_sent_bin', 'nr_distinct_freguesia_sent_bin',\n",
       "       'nr_distinct_concelho_sent_bin', 'nr_distinct_cells_rec_bin',\n",
       "       'nr_distinct_freguesia_rec_bin', 'cost_recharge_bin',\n",
       "       'premium_qty_change', 'missings', 'package_type_3P',\n",
       "       'geom_distrito_dsc_new_LISBOA (DISTRITO)',\n",
       "       'geom_municipio_dsc_new_LISBOA (MUNICIPIO)',\n",
       "       'geom_nuts_iii_dsc_new_GRANDE LISBOA',\n",
       "       'geom_nuts_iii_dsc_new_GRANDE PORTO', 'geom_nuts_iii_dsc_new_Other'],\n",
       "      dtype='object')"
      ]
     },
     "execution_count": 55,
     "metadata": {},
     "output_type": "execute_result"
    }
   ],
   "source": [
    "res = list(zip (range(1, len(rfe.grid_scores_) + 1), rfe.grid_scores_))\n",
    "\n",
    "nb_features = 20\n",
    "rfe_sel= RFE(estimator=rf_clf,step=1,n_features_to_select=nb_features) \n",
    "rfe_sel_fit = rfe_sel.fit(x_train3, y_train3)\n",
    "\n",
    "x_train_var3 = x_train3[x_train3.columns[rfe_sel_fit.get_support(indices=True)]]\n",
    "\n",
    "# Display the columns names\n",
    "x_train_var3.columns"
   ]
  },
  {
   "cell_type": "markdown",
   "metadata": {},
   "source": [
    "## Decicion Tree"
   ]
  },
  {
   "cell_type": "markdown",
   "metadata": {},
   "source": [
    "### cut 50%/50%"
   ]
  },
  {
   "cell_type": "code",
   "execution_count": 56,
   "metadata": {},
   "outputs": [
    {
     "data": {
      "text/plain": [
       "Index(['typei_card_qty', 'typec_card_qty', 'nr_seconds_seen_3h5h_bin',\n",
       "       'telephone_num', 'max_call_sent_dur_bin', 'max_call_rec_dur_bin',\n",
       "       'min_call_sent_dur_bin', 'min_call_rec_dur_bin',\n",
       "       'nr_calls_sent_month_bin', 'mean_call_sent_dur_bin',\n",
       "       'nr_calls_sent_distinct_numbers_bin', 'nr_distinct_cells_sent_bin',\n",
       "       'nr_distinct_freguesia_sent_bin', 'nr_distinct_concelho_sent_bin',\n",
       "       'nr_calls_rec_month_bin', 'nr_calls_rec_distinct_numbers_bin',\n",
       "       'nr_distinct_cells_rec_bin', 'nr_distinct_freguesia_rec_bin',\n",
       "       'Degree_1', 'geom_nuts_ii_dsc_Other', 'package_type_3P',\n",
       "       'geom_distrito_dsc_new_LISBOA (DISTRITO)',\n",
       "       'geom_nuts_iii_dsc_new_ALGARVE (NUTS III)',\n",
       "       'geom_nuts_iii_dsc_new_GRANDE LISBOA',\n",
       "       'geom_nuts_iii_dsc_new_GRANDE PORTO'],\n",
       "      dtype='object')"
      ]
     },
     "execution_count": 56,
     "metadata": {},
     "output_type": "execute_result"
    }
   ],
   "source": [
    "x_train_var.columns"
   ]
  },
  {
   "cell_type": "code",
   "execution_count": 57,
   "metadata": {},
   "outputs": [
    {
     "data": {
      "text/plain": [
       "array([0., 2., 1.])"
      ]
     },
     "execution_count": 57,
     "metadata": {},
     "output_type": "execute_result"
    }
   ],
   "source": [
    "#are differents\n",
    "(x_train['geom_distrito_dsc_new_LISBOA (DISTRITO)']+x_train['geom_municipio_dsc_new_LISBOA (MUNICIPIO)']).unique()"
   ]
  },
  {
   "cell_type": "code",
   "execution_count": 58,
   "metadata": {},
   "outputs": [
    {
     "data": {
      "text/plain": [
       "array([0., 2., 1.])"
      ]
     },
     "execution_count": 58,
     "metadata": {},
     "output_type": "execute_result"
    }
   ],
   "source": [
    "#are differents\n",
    "(x_train['geom_distrito_dsc_new_LISBOA (DISTRITO)']+x_train['geom_nuts_iii_dsc_new_GRANDE LISBOA']).unique()"
   ]
  },
  {
   "cell_type": "code",
   "execution_count": 59,
   "metadata": {},
   "outputs": [
    {
     "data": {
      "text/plain": [
       "GridSearchCV(cv=3,\n",
       "             estimator=DecisionTreeClassifier(class_weight={0: 1, 1: 2},\n",
       "                                              random_state=0),\n",
       "             param_grid={'ccp_alpha': [0, 0.001, 0.01],\n",
       "                         'criterion': ('gini', 'entropy'),\n",
       "                         'max_depth': [2, 3, 4, 5, 6, 7]})"
      ]
     },
     "execution_count": 59,
     "metadata": {},
     "output_type": "execute_result"
    }
   ],
   "source": [
    "from sklearn.tree import DecisionTreeClassifier\n",
    "dt=DecisionTreeClassifier(random_state=0, class_weight={0:1,1:2})\n",
    "parameters = {'max_depth':[2,3,4,5,6,7], 'ccp_alpha':[0,0.001,0.01],\n",
    "             'criterion':('gini', 'entropy')}\n",
    "clf = GridSearchCV(dt, parameters,cv=3)\n",
    "clf.fit(x_train[x_train_var.columns],y_train)"
   ]
  },
  {
   "cell_type": "code",
   "execution_count": 60,
   "metadata": {},
   "outputs": [
    {
     "data": {
      "text/plain": [
       "{'ccp_alpha': 0.001, 'criterion': 'gini', 'max_depth': 7}"
      ]
     },
     "execution_count": 60,
     "metadata": {},
     "output_type": "execute_result"
    }
   ],
   "source": [
    "clf.best_params_"
   ]
  },
  {
   "cell_type": "code",
   "execution_count": 61,
   "metadata": {},
   "outputs": [
    {
     "data": {
      "text/plain": [
       "DecisionTreeClassifier(ccp_alpha=0.001, class_weight={0: 1, 1: 2}, max_depth=7,\n",
       "                       random_state=0)"
      ]
     },
     "execution_count": 61,
     "metadata": {},
     "output_type": "execute_result"
    }
   ],
   "source": [
    "dt=DecisionTreeClassifier(random_state=0, class_weight={0:1,1:2}, \n",
    "                          ccp_alpha= clf.best_params_['ccp_alpha'], \n",
    "                          criterion= clf.best_params_['criterion'], \n",
    "                          max_depth= clf.best_params_['max_depth'])\n",
    "dt.fit(x_train[x_train_var.columns],y_train)"
   ]
  },
  {
   "cell_type": "code",
   "execution_count": 62,
   "metadata": {},
   "outputs": [],
   "source": [
    "from sklearn.tree import plot_tree, export_text"
   ]
  },
  {
   "cell_type": "raw",
   "metadata": {},
   "source": [
    "fig, ax = plt.subplots(figsize=(25, 30), facecolor='g')\n",
    "plot_tree(dt,feature_names=x_train_var.columns, class_names=['Donor','Not'], filled=True, proportion=True, ax=ax);\n",
    "plt.show()"
   ]
  },
  {
   "cell_type": "code",
   "execution_count": 63,
   "metadata": {},
   "outputs": [
    {
     "data": {
      "image/png": "[encoded data removed]",
      "text/plain": [
       "<Figure size 432x288 with 1 Axes>"
      ]
     },
     "metadata": {
      "needs_background": "light"
     },
     "output_type": "display_data"
    }
   ],
   "source": [
    "from sklearn.metrics import precision_recall_curve\n",
    "from matplotlib import pyplot\n",
    "\n",
    "dt_prob = dt.predict_proba(x_test[x_train_var.columns])\n",
    "# retrieve just the probabilities for the positive class\n",
    "dt_prob1 = dt_prob[:, 1]\n",
    "\n",
    "def plot_precision_recall_vs_threshold(precisions, recalls, thresholds):\n",
    "    \n",
    "    plt.plot(thresholds, precisions[:-1], \"b--\", label=\"Precision\")\n",
    "    plt.plot(thresholds, recalls[:-1], \"g-\", label=\"Recall\")\n",
    "    plt.xlabel(\"Threshold\")\n",
    "    plt.legend(loc=\"upper left\")\n",
    "    plt.ylim([0, 1])\n",
    "\n",
    "p, r, thresholds = precision_recall_curve(y_test, dt_prob1)\n",
    "plot_precision_recall_vs_threshold(p,r,thresholds)"
   ]
  },
  {
   "cell_type": "code",
   "execution_count": 64,
   "metadata": {},
   "outputs": [
    {
     "data": {
      "image/png": "[encoded data removed]",
      "text/plain": [
       "<Figure size 432x288 with 1 Axes>"
      ]
     },
     "metadata": {
      "needs_background": "light"
     },
     "output_type": "display_data"
    }
   ],
   "source": [
    "importances_dt = dt.feature_importances_\n",
    "\n",
    "indices = np.argsort(importances_dt)\n",
    "names = [x_train_var.columns[i] for i in indices]\n",
    "\n",
    "\n",
    "plt.figure()\n",
    "plt.title(\"Feature Importance\")\n",
    "plt.barh(range(len(x_train_var.columns)), importances_dt[indices])\n",
    "plt.yticks(range(len(x_train_var.columns)), names, rotation=0)\n",
    "plt.show()"
   ]
  },
  {
   "cell_type": "markdown",
   "metadata": {},
   "source": [
    "### cut 70%/30%"
   ]
  },
  {
   "cell_type": "code",
   "execution_count": 65,
   "metadata": {},
   "outputs": [
    {
     "data": {
      "text/plain": [
       "GridSearchCV(cv=3,\n",
       "             estimator=DecisionTreeClassifier(class_weight={0: 1, 1: 2},\n",
       "                                              random_state=0),\n",
       "             param_grid={'ccp_alpha': [0, 0.001, 0.01],\n",
       "                         'criterion': ('gini', 'entropy'),\n",
       "                         'max_depth': [2, 3, 4, 5, 6, 7]})"
      ]
     },
     "execution_count": 65,
     "metadata": {},
     "output_type": "execute_result"
    }
   ],
   "source": [
    "dt2=DecisionTreeClassifier(random_state=0,class_weight={0:1,1:2})\n",
    "parameters = {'max_depth':[2,3,4,5,6,7], 'ccp_alpha':[0,0.001,0.01],\n",
    "             'criterion':('gini', 'entropy')}\n",
    "clf = GridSearchCV(dt2, parameters,cv=3)\n",
    "clf.fit(x_train2[x_train_var2.columns],y_train2)"
   ]
  },
  {
   "cell_type": "code",
   "execution_count": 66,
   "metadata": {},
   "outputs": [
    {
     "data": {
      "text/plain": [
       "{'ccp_alpha': 0, 'criterion': 'entropy', 'max_depth': 6}"
      ]
     },
     "execution_count": 66,
     "metadata": {},
     "output_type": "execute_result"
    }
   ],
   "source": [
    "clf.best_params_"
   ]
  },
  {
   "cell_type": "code",
   "execution_count": 67,
   "metadata": {},
   "outputs": [
    {
     "data": {
      "text/plain": [
       "DecisionTreeClassifier(ccp_alpha=0, class_weight={0: 1, 1: 2},\n",
       "                       criterion='entropy', max_depth=6, random_state=0)"
      ]
     },
     "execution_count": 67,
     "metadata": {},
     "output_type": "execute_result"
    }
   ],
   "source": [
    "dt2=DecisionTreeClassifier(random_state=0,class_weight={0:1,1:2}, \n",
    "                          ccp_alpha= clf.best_params_['ccp_alpha'], \n",
    "                          criterion= clf.best_params_['criterion'], \n",
    "                          max_depth= clf.best_params_['max_depth'])\n",
    "dt2.fit(x_train2[x_train_var2.columns],y_train2)"
   ]
  },
  {
   "cell_type": "raw",
   "metadata": {},
   "source": [
    "fig, ax = plt.subplots(figsize=(25, 30), facecolor='g')\n",
    "plot_tree(dt2,feature_names=x_train_var2.columns, class_names=['Donor','Not'], filled=True, proportion=True, ax=ax);\n",
    "plt.show()"
   ]
  },
  {
   "cell_type": "code",
   "execution_count": 68,
   "metadata": {},
   "outputs": [
    {
     "data": {
      "image/png": "[encoded data removed]",
      "text/plain": [
       "<Figure size 432x288 with 1 Axes>"
      ]
     },
     "metadata": {
      "needs_background": "light"
     },
     "output_type": "display_data"
    }
   ],
   "source": [
    "dt_prob2 = dt2.predict_proba(x_test[x_train_var2.columns])\n",
    "# retrieve just the probabilities for the positive class\n",
    "dt_prob12 = dt_prob2[:, 1]\n",
    "\n",
    "p, r, thresholds = precision_recall_curve(y_test, dt_prob12)\n",
    "plot_precision_recall_vs_threshold(p,r,thresholds)"
   ]
  },
  {
   "cell_type": "code",
   "execution_count": 69,
   "metadata": {},
   "outputs": [
    {
     "data": {
      "image/png": "[encoded data removed]",
      "text/plain": [
       "<Figure size 432x288 with 1 Axes>"
      ]
     },
     "metadata": {
      "needs_background": "light"
     },
     "output_type": "display_data"
    }
   ],
   "source": [
    "importances_dt2 = dt2.feature_importances_\n",
    "\n",
    "indices = np.argsort(importances_dt2)\n",
    "names = [x_train_var2.columns[i] for i in indices]\n",
    "\n",
    "\n",
    "plt.figure()\n",
    "plt.title(\"Feature Importance\")\n",
    "plt.barh(range(len(x_train_var2.columns)), importances_dt2[indices])\n",
    "plt.yticks(range(len(x_train_var2.columns)), names, rotation=0)\n",
    "plt.show()"
   ]
  },
  {
   "cell_type": "markdown",
   "metadata": {},
   "source": [
    "### cut 85%/15%"
   ]
  },
  {
   "cell_type": "code",
   "execution_count": 70,
   "metadata": {},
   "outputs": [
    {
     "data": {
      "text/plain": [
       "GridSearchCV(cv=3,\n",
       "             estimator=DecisionTreeClassifier(class_weight={0: 1, 1: 4},\n",
       "                                              random_state=0),\n",
       "             param_grid={'ccp_alpha': [0, 0.001, 0.01],\n",
       "                         'criterion': ('gini', 'entropy'),\n",
       "                         'max_depth': [2, 3, 4, 5, 6, 7]})"
      ]
     },
     "execution_count": 70,
     "metadata": {},
     "output_type": "execute_result"
    }
   ],
   "source": [
    "dt3=DecisionTreeClassifier(random_state=0,class_weight={0:1,1:4})\n",
    "parameters = {'max_depth':[2,3,4,5,6,7], 'ccp_alpha':[0,0.001,0.01],\n",
    "             'criterion':('gini', 'entropy')}\n",
    "clf = GridSearchCV(dt3, parameters,cv=3)\n",
    "clf.fit(x_train3[x_train_var3.columns],y_train3)"
   ]
  },
  {
   "cell_type": "code",
   "execution_count": 71,
   "metadata": {},
   "outputs": [
    {
     "data": {
      "text/plain": [
       "{'ccp_alpha': 0, 'criterion': 'entropy', 'max_depth': 5}"
      ]
     },
     "execution_count": 71,
     "metadata": {},
     "output_type": "execute_result"
    }
   ],
   "source": [
    "clf.best_params_"
   ]
  },
  {
   "cell_type": "code",
   "execution_count": 72,
   "metadata": {},
   "outputs": [
    {
     "data": {
      "text/plain": [
       "DecisionTreeClassifier(ccp_alpha=0, class_weight={0: 1, 1: 4},\n",
       "                       criterion='entropy', max_depth=5, random_state=0)"
      ]
     },
     "execution_count": 72,
     "metadata": {},
     "output_type": "execute_result"
    }
   ],
   "source": [
    "dt3=DecisionTreeClassifier(random_state=0, class_weight={0:1,1:4}, \n",
    "                          ccp_alpha= clf.best_params_['ccp_alpha'], \n",
    "                          criterion= clf.best_params_['criterion'], \n",
    "                          max_depth= clf.best_params_['max_depth'])\n",
    "dt3.fit(x_train3[x_train_var3.columns],y_train3)"
   ]
  },
  {
   "cell_type": "raw",
   "metadata": {},
   "source": [
    "fig, ax = plt.subplots(figsize=(25, 30), facecolor='g')\n",
    "plot_tree(dt3,feature_names=x_train_var3.columns, class_names=['Donor','Not'], filled=True, proportion=True, ax=ax);\n",
    "plt.show()"
   ]
  },
  {
   "cell_type": "code",
   "execution_count": 73,
   "metadata": {},
   "outputs": [
    {
     "data": {
      "image/png": "[encoded data removed]",
      "text/plain": [
       "<Figure size 432x288 with 1 Axes>"
      ]
     },
     "metadata": {
      "needs_background": "light"
     },
     "output_type": "display_data"
    }
   ],
   "source": [
    "dt_prob3 = dt3.predict_proba(x_test[x_train_var3.columns])\n",
    "# retrieve just the probabilities for the positive class\n",
    "dt_prob13 = dt_prob3[:, 1]\n",
    "\n",
    "p, r, thresholds = precision_recall_curve(y_test, dt_prob13)\n",
    "plot_precision_recall_vs_threshold(p,r,thresholds)"
   ]
  },
  {
   "cell_type": "code",
   "execution_count": 74,
   "metadata": {},
   "outputs": [
    {
     "data": {
      "image/png": "[encoded data removed]",
      "text/plain": [
       "<Figure size 432x288 with 1 Axes>"
      ]
     },
     "metadata": {
      "needs_background": "light"
     },
     "output_type": "display_data"
    }
   ],
   "source": [
    "importances_dt3 = dt3.feature_importances_\n",
    "\n",
    "indices = np.argsort(importances_dt3)\n",
    "names = [x_train_var3.columns[i] for i in indices]\n",
    "\n",
    "\n",
    "plt.figure()\n",
    "plt.title(\"Feature Importance\")\n",
    "plt.barh(range(len(x_train_var3.columns)), importances_dt3[indices])\n",
    "plt.yticks(range(len(x_train_var3.columns)), names, rotation=0)\n",
    "plt.show()"
   ]
  },
  {
   "cell_type": "markdown",
   "metadata": {},
   "source": [
    "## Random Forest"
   ]
  },
  {
   "cell_type": "markdown",
   "metadata": {},
   "source": [
    "### cut 50%/50%"
   ]
  },
  {
   "cell_type": "code",
   "execution_count": 75,
   "metadata": {},
   "outputs": [
    {
     "data": {
      "text/plain": [
       "GridSearchCV(cv=3,\n",
       "             estimator=RandomForestClassifier(class_weight={0: 1, 1: 2},\n",
       "                                              random_state=0),\n",
       "             param_grid={'criterion': ('gini', 'entropy'),\n",
       "                         'max_depth': [2, 3, 4, 5],\n",
       "                         'n_estimators': range(20, 81, 10)})"
      ]
     },
     "execution_count": 75,
     "metadata": {},
     "output_type": "execute_result"
    }
   ],
   "source": [
    "rf_clf = RandomForestClassifier(bootstrap=True, \n",
    "                          random_state=0, class_weight={0:1,1:2})\n",
    "\n",
    "\n",
    "parameters = {'n_estimators':range(20,81,10), 'max_depth':[2,3,4,5],\n",
    "             'criterion':('gini', 'entropy')}\n",
    "clf = GridSearchCV(rf_clf, parameters,cv=3)\n",
    "clf.fit(x_train[x_train_var.columns],y_train)"
   ]
  },
  {
   "cell_type": "code",
   "execution_count": 76,
   "metadata": {},
   "outputs": [
    {
     "data": {
      "text/plain": [
       "{'criterion': 'gini', 'max_depth': 5, 'n_estimators': 80}"
      ]
     },
     "execution_count": 76,
     "metadata": {},
     "output_type": "execute_result"
    }
   ],
   "source": [
    "clf.best_params_"
   ]
  },
  {
   "cell_type": "code",
   "execution_count": 77,
   "metadata": {},
   "outputs": [
    {
     "data": {
      "text/plain": [
       "RandomForestClassifier(class_weight={0: 1, 1: 2}, max_depth=5, n_estimators=80,\n",
       "                       random_state=0)"
      ]
     },
     "execution_count": 77,
     "metadata": {},
     "output_type": "execute_result"
    }
   ],
   "source": [
    "rf = RandomForestClassifier(bootstrap=True, \n",
    "                          random_state=0, class_weight={0:1,1:2},\n",
    "                            criterion=clf.best_params_['criterion'], \n",
    "                            max_depth=clf.best_params_['max_depth'],\n",
    "                            n_estimators=clf.best_params_['n_estimators'])\n",
    "\n",
    "\n",
    "rf.fit(x_train[x_train_var.columns],y_train)"
   ]
  },
  {
   "cell_type": "code",
   "execution_count": 78,
   "metadata": {},
   "outputs": [],
   "source": [
    "rf_prob = rf.predict_proba(x_test[x_train_var.columns])\n",
    "# retrieve just the probabilities for the positive class\n",
    "rf_prob1 = rf_prob[:, 1]"
   ]
  },
  {
   "cell_type": "code",
   "execution_count": 79,
   "metadata": {},
   "outputs": [
    {
     "data": {
      "image/png": "[encoded data removed]",
      "text/plain": [
       "<Figure size 432x288 with 1 Axes>"
      ]
     },
     "metadata": {
      "needs_background": "light"
     },
     "output_type": "display_data"
    }
   ],
   "source": [
    "p, r, thresholds = precision_recall_curve(y_test, rf_prob1)\n",
    "plot_precision_recall_vs_threshold(p,r,thresholds)"
   ]
  },
  {
   "cell_type": "code",
   "execution_count": 80,
   "metadata": {
    "scrolled": true
   },
   "outputs": [
    {
     "data": {
      "image/png": "[encoded data removed]",
      "text/plain": [
       "<Figure size 432x288 with 1 Axes>"
      ]
     },
     "metadata": {
      "needs_background": "light"
     },
     "output_type": "display_data"
    }
   ],
   "source": [
    "importances_rf = rf.feature_importances_\n",
    "\n",
    "indices = np.argsort(importances_rf)\n",
    "names = [x_train_var.columns[i] for i in indices]\n",
    "\n",
    "\n",
    "plt.figure()\n",
    "plt.title(\"Feature Importance\")\n",
    "plt.barh(range(len(x_train_var.columns)), importances_rf[indices])\n",
    "plt.yticks(range(len(x_train_var.columns)), names, rotation=0)\n",
    "plt.show()"
   ]
  },
  {
   "cell_type": "markdown",
   "metadata": {},
   "source": [
    "### cut 70%/30%"
   ]
  },
  {
   "cell_type": "code",
   "execution_count": 81,
   "metadata": {},
   "outputs": [
    {
     "data": {
      "text/plain": [
       "GridSearchCV(cv=3,\n",
       "             estimator=RandomForestClassifier(class_weight={0: 1, 1: 2},\n",
       "                                              random_state=0),\n",
       "             param_grid={'criterion': ('gini', 'entropy'),\n",
       "                         'max_depth': [2, 3, 4, 5],\n",
       "                         'n_estimators': range(20, 81, 10)})"
      ]
     },
     "execution_count": 81,
     "metadata": {},
     "output_type": "execute_result"
    }
   ],
   "source": [
    "rf_clf2 = RandomForestClassifier(bootstrap=True, \n",
    "                          random_state=0, class_weight={0:1,1:2})\n",
    "\n",
    "\n",
    "parameters = {'n_estimators':range(20,81,10), 'max_depth':[2,3,4,5],\n",
    "             'criterion':('gini', 'entropy')}\n",
    "clf = GridSearchCV(rf_clf2, parameters,cv=3)\n",
    "clf.fit(x_train2[x_train_var2.columns],y_train2)"
   ]
  },
  {
   "cell_type": "code",
   "execution_count": 82,
   "metadata": {},
   "outputs": [
    {
     "data": {
      "text/plain": [
       "{'criterion': 'gini', 'max_depth': 5, 'n_estimators': 30}"
      ]
     },
     "execution_count": 82,
     "metadata": {},
     "output_type": "execute_result"
    }
   ],
   "source": [
    "clf.best_params_"
   ]
  },
  {
   "cell_type": "code",
   "execution_count": 83,
   "metadata": {},
   "outputs": [
    {
     "data": {
      "text/plain": [
       "RandomForestClassifier(class_weight={0: 1, 1: 2}, max_depth=5, n_estimators=30,\n",
       "                       random_state=0)"
      ]
     },
     "execution_count": 83,
     "metadata": {},
     "output_type": "execute_result"
    }
   ],
   "source": [
    "rf2 = RandomForestClassifier(bootstrap=True, \n",
    "                          random_state=0, class_weight={0:1,1:2},\n",
    "                            criterion=clf.best_params_['criterion'], \n",
    "                            max_depth=clf.best_params_['max_depth'],\n",
    "                            n_estimators=clf.best_params_['n_estimators'])\n",
    "\n",
    "\n",
    "rf2.fit(x_train2[x_train_var2.columns],y_train2)"
   ]
  },
  {
   "cell_type": "code",
   "execution_count": 84,
   "metadata": {},
   "outputs": [],
   "source": [
    "rf_prob2 = rf2.predict_proba(x_test[x_train_var2.columns])\n",
    "# retrieve just the probabilities for the positive class\n",
    "rf_prob12 = rf_prob2[:, 1]"
   ]
  },
  {
   "cell_type": "code",
   "execution_count": 85,
   "metadata": {},
   "outputs": [
    {
     "data": {
      "image/png": "[encoded data removed]",
      "text/plain": [
       "<Figure size 432x288 with 1 Axes>"
      ]
     },
     "metadata": {
      "needs_background": "light"
     },
     "output_type": "display_data"
    }
   ],
   "source": [
    "p, r, thresholds = precision_recall_curve(y_test, rf_prob12)\n",
    "plot_precision_recall_vs_threshold(p,r,thresholds)"
   ]
  },
  {
   "cell_type": "code",
   "execution_count": 86,
   "metadata": {},
   "outputs": [
    {
     "data": {
      "image/png": "[encoded data removed]",
      "text/plain": [
       "<Figure size 432x288 with 1 Axes>"
      ]
     },
     "metadata": {
      "needs_background": "light"
     },
     "output_type": "display_data"
    }
   ],
   "source": [
    "importances_rf2 = rf2.feature_importances_\n",
    "\n",
    "indices = np.argsort(importances_rf2)\n",
    "names = [x_train_var2.columns[i] for i in indices]\n",
    "\n",
    "\n",
    "plt.figure()\n",
    "plt.title(\"Feature Importance\")\n",
    "plt.barh(range(len(x_train_var2.columns)), importances_rf2[indices])\n",
    "plt.yticks(range(len(x_train_var2.columns)), names, rotation=0)\n",
    "plt.show()"
   ]
  },
  {
   "cell_type": "markdown",
   "metadata": {},
   "source": [
    "### cut 85%/15%"
   ]
  },
  {
   "cell_type": "code",
   "execution_count": 87,
   "metadata": {},
   "outputs": [
    {
     "data": {
      "text/plain": [
       "GridSearchCV(cv=3,\n",
       "             estimator=RandomForestClassifier(class_weight={0: 1, 1: 1},\n",
       "                                              random_state=0),\n",
       "             param_grid={'criterion': ('gini', 'entropy'),\n",
       "                         'max_depth': [2, 3, 4, 5, 6],\n",
       "                         'n_estimators': range(20, 101, 10)})"
      ]
     },
     "execution_count": 87,
     "metadata": {},
     "output_type": "execute_result"
    }
   ],
   "source": [
    "rf_clf3 = RandomForestClassifier(bootstrap=True, \n",
    "                          random_state=0, class_weight={0:1,1:1})\n",
    "\n",
    "\n",
    "parameters = {'n_estimators':range(20,101,10), 'max_depth':[2,3,4,5,6],\n",
    "             'criterion':('gini', 'entropy')}\n",
    "clf = GridSearchCV(rf_clf3, parameters,cv=3)\n",
    "clf.fit(x_train3[x_train_var3.columns],y_train3)"
   ]
  },
  {
   "cell_type": "code",
   "execution_count": 88,
   "metadata": {},
   "outputs": [
    {
     "data": {
      "text/plain": [
       "{'criterion': 'gini', 'max_depth': 5, 'n_estimators': 100}"
      ]
     },
     "execution_count": 88,
     "metadata": {},
     "output_type": "execute_result"
    }
   ],
   "source": [
    "clf.best_params_"
   ]
  },
  {
   "cell_type": "code",
   "execution_count": 89,
   "metadata": {},
   "outputs": [
    {
     "data": {
      "text/plain": [
       "RandomForestClassifier(class_weight={0: 1, 1: 1}, max_depth=5, random_state=0)"
      ]
     },
     "execution_count": 89,
     "metadata": {},
     "output_type": "execute_result"
    }
   ],
   "source": [
    "rf3 = RandomForestClassifier(bootstrap=True, \n",
    "                          random_state=0, class_weight={0:1,1:1},\n",
    "                            criterion=clf.best_params_['criterion'], \n",
    "                            max_depth=clf.best_params_['max_depth'],\n",
    "                            n_estimators=clf.best_params_['n_estimators'])\n",
    "\n",
    "\n",
    "rf3.fit(x_train3[x_train_var3.columns],y_train3)"
   ]
  },
  {
   "cell_type": "code",
   "execution_count": 90,
   "metadata": {},
   "outputs": [],
   "source": [
    "rf_prob3 = rf3.predict_proba(x_test[x_train_var3.columns])\n",
    "# retrieve just the probabilities for the positive class\n",
    "rf_prob13 = rf_prob3[:, 1]"
   ]
  },
  {
   "cell_type": "code",
   "execution_count": 91,
   "metadata": {},
   "outputs": [
    {
     "data": {
      "image/png": "[encoded data removed]",
      "text/plain": [
       "<Figure size 432x288 with 1 Axes>"
      ]
     },
     "metadata": {
      "needs_background": "light"
     },
     "output_type": "display_data"
    }
   ],
   "source": [
    "p, r, thresholds = precision_recall_curve(y_test, rf_prob13)\n",
    "plot_precision_recall_vs_threshold(p,r,thresholds)"
   ]
  },
  {
   "cell_type": "code",
   "execution_count": 92,
   "metadata": {
    "scrolled": true
   },
   "outputs": [
    {
     "data": {
      "image/png": "[encoded data removed]",
      "text/plain": [
       "<Figure size 432x288 with 1 Axes>"
      ]
     },
     "metadata": {
      "needs_background": "light"
     },
     "output_type": "display_data"
    }
   ],
   "source": [
    "importances_rf3 = rf3.feature_importances_\n",
    "\n",
    "indices = np.argsort(importances_rf3)\n",
    "names = [x_train_var3.columns[i] for i in indices]\n",
    "\n",
    "\n",
    "plt.figure()\n",
    "plt.title(\"Feature Importance\")\n",
    "plt.barh(range(len(x_train_var3.columns)), importances_rf3[indices])\n",
    "plt.yticks(range(len(x_train_var3.columns)), names, rotation=0)\n",
    "plt.show()"
   ]
  },
  {
   "cell_type": "markdown",
   "metadata": {},
   "source": [
    "## CatBoost"
   ]
  },
  {
   "cell_type": "markdown",
   "metadata": {},
   "source": [
    "### cut 85%/15%"
   ]
  },
  {
   "cell_type": "code",
   "execution_count": 108,
   "metadata": {},
   "outputs": [],
   "source": [
    "cb_train=cla2.loc[cla2.month_id_original!=202008]\n",
    "cb_test=cla2.loc[cla2.month_id_original==202008]"
   ]
  },
  {
   "cell_type": "code",
   "execution_count": 113,
   "metadata": {},
   "outputs": [
    {
     "name": "stderr",
     "output_type": "stream",
     "text": [
      "/usr/local/lib/python3.6/dist-packages/pandas/core/indexing.py:1596: SettingWithCopyWarning: \n",
      "A value is trying to be set on a copy of a slice from a DataFrame.\n",
      "Try using .loc[row_indexer,col_indexer] = value instead\n",
      "\n",
      "See the caveats in the documentation: https://pandas.pydata.org/pandas-docs/stable/user_guide/indexing.html#returning-a-view-versus-a-copy\n",
      "  self.obj[key] = _infer_fill_value(value)\n",
      "/usr/local/lib/python3.6/dist-packages/pandas/core/indexing.py:1763: SettingWithCopyWarning: \n",
      "A value is trying to be set on a copy of a slice from a DataFrame.\n",
      "Try using .loc[row_indexer,col_indexer] = value instead\n",
      "\n",
      "See the caveats in the documentation: https://pandas.pydata.org/pandas-docs/stable/user_guide/indexing.html#returning-a-view-versus-a-copy\n",
      "  isetter(loc, value)\n",
      "/usr/local/lib/python3.6/dist-packages/pandas/core/generic.py:5170: SettingWithCopyWarning: \n",
      "A value is trying to be set on a copy of a slice from a DataFrame.\n",
      "Try using .loc[row_indexer,col_indexer] = value instead\n",
      "\n",
      "See the caveats in the documentation: https://pandas.pydata.org/pandas-docs/stable/user_guide/indexing.html#returning-a-view-versus-a-copy\n",
      "  self[name] = value\n"
     ]
    }
   ],
   "source": [
    "cb_train.loc[(cb_train.premium_qty.isnull()) | (cb_train.nr_devices.isnull()),'missings']=1\n",
    "cb_train.missings=cb_train.missings.fillna(0)"
   ]
  },
  {
   "cell_type": "code",
   "execution_count": 114,
   "metadata": {},
   "outputs": [],
   "source": [
    "cb_test.loc[(cb_test.premium_qty.isnull()) | (cb_test.nr_devices.isnull()),'missings']=1\n",
    "cb_test.missings=cb_test.missings.fillna(0)"
   ]
  },
  {
   "cell_type": "code",
   "execution_count": 115,
   "metadata": {},
   "outputs": [],
   "source": [
    "cb_train15=pd.concat([cb_train.loc[cb_train.is_donor==0].sample(3000),cb_train.loc[cb_train.is_donor==1]],axis=0)"
   ]
  },
  {
   "cell_type": "code",
   "execution_count": 116,
   "metadata": {
    "scrolled": true
   },
   "outputs": [
    {
     "data": {
      "text/plain": [
       "Index(['dsc_class_churn', 'typei_card_qty', 'typec_card_qty', 'telephone_num',\n",
       "       'nr_calls_sent_month_bin', 'nr_calls_sent_distinct_numbers_bin',\n",
       "       'nr_distinct_cells_sent_bin', 'nr_distinct_freguesia_sent_bin',\n",
       "       'nr_distinct_concelho_sent_bin', 'nr_distinct_cells_rec_bin',\n",
       "       'nr_distinct_freguesia_rec_bin', 'cost_recharge_bin',\n",
       "       'premium_qty_change', 'missings', 'package_type_3P',\n",
       "       'geom_distrito_dsc_new_LISBOA (DISTRITO)',\n",
       "       'geom_municipio_dsc_new_LISBOA (MUNICIPIO)',\n",
       "       'geom_nuts_iii_dsc_new_GRANDE LISBOA',\n",
       "       'geom_nuts_iii_dsc_new_GRANDE PORTO', 'geom_nuts_iii_dsc_new_Other'],\n",
       "      dtype='object')"
      ]
     },
     "execution_count": 116,
     "metadata": {},
     "output_type": "execute_result"
    }
   ],
   "source": [
    "x_train_var3.columns"
   ]
  },
  {
   "cell_type": "code",
   "execution_count": 119,
   "metadata": {},
   "outputs": [],
   "source": [
    "x_cb15=cb_train15[['dsc_class_churn', 'typei_card_qty', 'typec_card_qty', 'telephone_num',\n",
    "       'nr_calls_sent_month_bin', 'nr_calls_sent_distinct_numbers_bin',\n",
    "       'nr_distinct_cells_sent_bin', 'nr_distinct_freguesia_sent_bin',\n",
    "       'nr_distinct_concelho_sent_bin', 'nr_distinct_cells_rec_bin',\n",
    "       'nr_distinct_freguesia_rec_bin', 'cost_recharge_bin',\n",
    "       'premium_qty_change', 'missings', 'package_type',\n",
    "       'geom_distrito_dsc',\n",
    "       'geom_municipio_dsc',\n",
    "       'geom_nuts_iii_dsc']]\n",
    "y_cb15=cb_train15.is_donor"
   ]
  },
  {
   "cell_type": "code",
   "execution_count": 118,
   "metadata": {},
   "outputs": [],
   "source": [
    "x_cb_test=cb_test[['dsc_class_churn', 'typei_card_qty', 'typec_card_qty', 'telephone_num',\n",
    "       'nr_calls_sent_month_bin', 'nr_calls_sent_distinct_numbers_bin',\n",
    "       'nr_distinct_cells_sent_bin', 'nr_distinct_freguesia_sent_bin',\n",
    "       'nr_distinct_concelho_sent_bin', 'nr_distinct_cells_rec_bin',\n",
    "       'nr_distinct_freguesia_rec_bin', 'cost_recharge_bin',\n",
    "       'premium_qty_change', 'missings', 'package_type',\n",
    "       'geom_distrito_dsc',\n",
    "       'geom_municipio_dsc',\n",
    "       'geom_nuts_iii_dsc']]\n",
    "y_cb_test=cb_test.is_donor"
   ]
  },
  {
   "cell_type": "code",
   "execution_count": 120,
   "metadata": {},
   "outputs": [],
   "source": [
    "from catboost import CatBoostClassifier, Pool, cv\n",
    "\n",
    "cat_features=x_cb15.select_dtypes(include=['object']).columns"
   ]
  },
  {
   "cell_type": "code",
   "execution_count": 141,
   "metadata": {},
   "outputs": [
    {
     "name": "stderr",
     "output_type": "stream",
     "text": [
      "/usr/local/lib/python3.6/dist-packages/ipykernel_launcher.py:2: SettingWithCopyWarning: \n",
      "A value is trying to be set on a copy of a slice from a DataFrame.\n",
      "Try using .loc[row_indexer,col_indexer] = value instead\n",
      "\n",
      "See the caveats in the documentation: https://pandas.pydata.org/pandas-docs/stable/user_guide/indexing.html#returning-a-view-versus-a-copy\n",
      "  \n",
      "/usr/local/lib/python3.6/dist-packages/ipykernel_launcher.py:3: SettingWithCopyWarning: \n",
      "A value is trying to be set on a copy of a slice from a DataFrame.\n",
      "Try using .loc[row_indexer,col_indexer] = value instead\n",
      "\n",
      "See the caveats in the documentation: https://pandas.pydata.org/pandas-docs/stable/user_guide/indexing.html#returning-a-view-versus-a-copy\n",
      "  This is separate from the ipykernel package so we can avoid doing imports until\n"
     ]
    }
   ],
   "source": [
    "for col in cat_features:\n",
    "    x_cb15[col]=x_cb15[col].fillna('Missing')\n",
    "    x_cb_test[col]=x_cb_test[col].fillna('Missing')"
   ]
  },
  {
   "cell_type": "code",
   "execution_count": 131,
   "metadata": {},
   "outputs": [],
   "source": [
    "cat_index=[]\n",
    "for el in cat_features:\n",
    "    cat_index.append(list(x_cb15.columns).index(el))"
   ]
  },
  {
   "cell_type": "code",
   "execution_count": 142,
   "metadata": {},
   "outputs": [
    {
     "data": {
      "text/plain": [
       "<catboost.core.CatBoostClassifier at 0x7fdcce60bcc0>"
      ]
     },
     "execution_count": 142,
     "metadata": {},
     "output_type": "execute_result"
    }
   ],
   "source": [
    "import numpy as np\n",
    "cat_index=np.asarray(cat_index)\n",
    "\n",
    "train_pool=Pool(x_cb15,y_cb15,cat_index)\n",
    "test_pool=Pool(x_cb_test,y_cb_test,cat_index)\n",
    "\n",
    "best_parm={'eval_metric':'Logloss', 'random_seed':0, 'logging_level':'Silent', 'use_best_model':True}\n",
    "\n",
    "catb = CatBoostClassifier(**best_parm)\n",
    "\n",
    "catb.fit(train_pool, eval_set=test_pool)"
   ]
  },
  {
   "cell_type": "code",
   "execution_count": 143,
   "metadata": {},
   "outputs": [],
   "source": [
    "cb_prob3 = catb.predict_proba(x_cb_test)\n",
    "# retrieve just the probabilities for the positive class\n",
    "cb_prob13 = cb_prob3[:, 1]"
   ]
  },
  {
   "cell_type": "code",
   "execution_count": 144,
   "metadata": {},
   "outputs": [
    {
     "data": {
      "image/png": "[encoded data removed]",
      "text/plain": [
       "<Figure size 432x288 with 1 Axes>"
      ]
     },
     "metadata": {
      "needs_background": "light"
     },
     "output_type": "display_data"
    }
   ],
   "source": [
    "p, r, thresholds = precision_recall_curve(y_cb_test, cb_prob13)\n",
    "plot_precision_recall_vs_threshold(p,r,thresholds)"
   ]
  },
  {
   "cell_type": "code",
   "execution_count": 146,
   "metadata": {
    "scrolled": true
   },
   "outputs": [
    {
     "data": {
      "image/png": "[encoded data removed]",
      "text/plain": [
       "<Figure size 720x648 with 1 Axes>"
      ]
     },
     "metadata": {
      "needs_background": "light"
     },
     "output_type": "display_data"
    }
   ],
   "source": [
    "importances_cb3 = catb.feature_importances_\n",
    "\n",
    "indices = np.argsort(importances_cb3)\n",
    "names = [x_cb_test.columns[i] for i in indices]\n",
    "\n",
    "\n",
    "plt.figure(figsize=(10, 9))\n",
    "plt.title(\"Feature Importance\")\n",
    "plt.barh(range(len(x_cb_test.columns)), importances_cb3[indices])\n",
    "plt.yticks(range(len(x_cb_test.columns)), names, rotation=0)\n",
    "plt.show()"
   ]
  },
  {
   "cell_type": "markdown",
   "metadata": {},
   "source": [
    "## ROCs"
   ]
  },
  {
   "cell_type": "code",
   "execution_count": 148,
   "metadata": {},
   "outputs": [
    {
     "data": {
      "image/png": "[encoded data removed]",
      "text/plain": [
       "<Figure size 504x432 with 1 Axes>"
      ]
     },
     "metadata": {
      "needs_background": "light"
     },
     "output_type": "display_data"
    }
   ],
   "source": [
    "from sklearn.metrics import roc_curve, auc\n",
    "plt.figure(figsize=(7, 6))\n",
    "\n",
    "# Decision Trees\n",
    "fpr, tpr, _ = roc_curve(y_test, dt_prob1)\n",
    "auc_score = auc(fpr, tpr)\n",
    "plt.plot(fpr, tpr, \n",
    "                 label='dt_50 (AUC = %0.2f)' % auc_score)\n",
    "\n",
    "fpr, tpr, _ = roc_curve(y_test, dt_prob12)\n",
    "auc_score = auc(fpr, tpr)\n",
    "plt.plot(fpr, tpr, \n",
    "                 label='dt_30 (AUC = %0.2f)' % auc_score)\n",
    "\n",
    "fpr, tpr, _ = roc_curve(y_test, dt_prob13)\n",
    "auc_score = auc(fpr, tpr)\n",
    "plt.plot(fpr, tpr, \n",
    "                 label='dt_15 (AUC = %0.2f)' % auc_score)\n",
    "\n",
    "# Random Forests\n",
    "fpr, tpr, _ = roc_curve(y_test, rf_prob1)\n",
    "auc_score = auc(fpr, tpr)\n",
    "plt.plot(fpr, tpr, \n",
    "                 label='rf_50 (AUC = %0.2f)' % auc_score)\n",
    "\n",
    "fpr, tpr, _ = roc_curve(y_test, rf_prob12)\n",
    "auc_score = auc(fpr, tpr)\n",
    "plt.plot(fpr, tpr, \n",
    "                 label='rf_30 (AUC = %0.2f)' % auc_score)\n",
    "\n",
    "fpr, tpr, _ = roc_curve(y_test, rf_prob13)\n",
    "auc_score = auc(fpr, tpr)\n",
    "plt.plot(fpr, tpr, \n",
    "                 label='rf_15 (AUC = %0.2f)' % auc_score)\n",
    "\n",
    "# Catboost\n",
    "fpr, tpr, _ = roc_curve(y_test, cb_prob13)\n",
    "auc_score = auc(fpr, tpr)\n",
    "plt.plot(fpr, tpr, \n",
    "                 label='cb_15 (AUC = %0.2f)' % auc_score)\n",
    "\n",
    "\n",
    "plt.legend(loc='lower right')\n",
    "plt.title(\"ROC Curve\")\n",
    "plt.xlabel(\"FPR\")\n",
    "plt.ylabel(\"TPR\")\n",
    "plt.show()"
   ]
  },
  {
   "cell_type": "markdown",
   "metadata": {},
   "source": [
    "## Business metric"
   ]
  },
  {
   "cell_type": "raw",
   "metadata": {},
   "source": [
    "from sklearn.metrics import precision_score\n",
    "round(precision_score(y_test, (rf_prob1 >= 0.8).astype(int)),4)*100"
   ]
  },
  {
   "cell_type": "code",
   "execution_count": 149,
   "metadata": {},
   "outputs": [],
   "source": [
    "x_test['prob_dt_50']=dt_prob1\n",
    "x_test['prob_dt_30']=dt_prob12\n",
    "x_test['prob_dt_15']=dt_prob13\n",
    "x_test['prob_rf_50']=rf_prob1\n",
    "x_test['prob_rf_30']=rf_prob12\n",
    "x_test['prob_rf_15']=rf_prob13\n",
    "x_test['prob_cb_15']=cb_prob13"
   ]
  },
  {
   "cell_type": "code",
   "execution_count": 150,
   "metadata": {},
   "outputs": [],
   "source": [
    "teste=pd.concat([x_test,y_test],axis=1)"
   ]
  },
  {
   "cell_type": "code",
   "execution_count": 151,
   "metadata": {},
   "outputs": [],
   "source": [
    "def max_calls(cut,models):\n",
    "    metrics=[]\n",
    "    for m in models:\n",
    "        df=teste.sort_values(m).tail(cut)\n",
    "        print('Presision of the model',m,'with cut',c,': ',round(df.is_donor.sum()/cut*100,2),'%')\n",
    "        metrics.append(round(df.is_donor.sum()/cut*100,2))\n",
    "    return(metrics)"
   ]
  },
  {
   "cell_type": "code",
   "execution_count": 155,
   "metadata": {},
   "outputs": [],
   "source": [
    "models=['prob_dt_50','prob_dt_30','prob_dt_15',\n",
    "       'prob_rf_50','prob_rf_30','prob_rf_15','prob_cb_15']"
   ]
  },
  {
   "cell_type": "code",
   "execution_count": 156,
   "metadata": {},
   "outputs": [],
   "source": [
    "cuts=list(range(50,501,50))"
   ]
  },
  {
   "cell_type": "code",
   "execution_count": 157,
   "metadata": {},
   "outputs": [
    {
     "data": {
      "text/plain": [
       "[50, 100, 150, 200, 250, 300, 350, 400, 450, 500]"
      ]
     },
     "execution_count": 157,
     "metadata": {},
     "output_type": "execute_result"
    }
   ],
   "source": [
    "cuts"
   ]
  },
  {
   "cell_type": "code",
   "execution_count": 158,
   "metadata": {},
   "outputs": [
    {
     "name": "stdout",
     "output_type": "stream",
     "text": [
      "Presision of the model prob_dt_50 with cut 50 :  0.0 %\n",
      "Presision of the model prob_dt_30 with cut 50 :  0.0 %\n",
      "Presision of the model prob_dt_15 with cut 50 :  16.0 %\n",
      "Presision of the model prob_rf_50 with cut 50 :  0.0 %\n",
      "Presision of the model prob_rf_30 with cut 50 :  0.0 %\n",
      "Presision of the model prob_rf_15 with cut 50 :  18.0 %\n",
      "Presision of the model prob_cb_15 with cut 50 :  16.0 %\n",
      "Presision of the model prob_dt_50 with cut 100 :  0.0 %\n",
      "Presision of the model prob_dt_30 with cut 100 :  0.0 %\n",
      "Presision of the model prob_dt_15 with cut 100 :  8.0 %\n",
      "Presision of the model prob_rf_50 with cut 100 :  0.0 %\n",
      "Presision of the model prob_rf_30 with cut 100 :  0.0 %\n",
      "Presision of the model prob_rf_15 with cut 100 :  12.0 %\n",
      "Presision of the model prob_cb_15 with cut 100 :  10.0 %\n",
      "Presision of the model prob_dt_50 with cut 150 :  0.0 %\n",
      "Presision of the model prob_dt_30 with cut 150 :  0.0 %\n",
      "Presision of the model prob_dt_15 with cut 150 :  5.33 %\n",
      "Presision of the model prob_rf_50 with cut 150 :  0.67 %\n",
      "Presision of the model prob_rf_30 with cut 150 :  0.0 %\n",
      "Presision of the model prob_rf_15 with cut 150 :  8.0 %\n",
      "Presision of the model prob_cb_15 with cut 150 :  6.67 %\n",
      "Presision of the model prob_dt_50 with cut 200 :  0.0 %\n",
      "Presision of the model prob_dt_30 with cut 200 :  0.0 %\n",
      "Presision of the model prob_dt_15 with cut 200 :  4.0 %\n",
      "Presision of the model prob_rf_50 with cut 200 :  0.5 %\n",
      "Presision of the model prob_rf_30 with cut 200 :  0.5 %\n",
      "Presision of the model prob_rf_15 with cut 200 :  6.5 %\n",
      "Presision of the model prob_cb_15 with cut 200 :  5.0 %\n",
      "Presision of the model prob_dt_50 with cut 250 :  0.0 %\n",
      "Presision of the model prob_dt_30 with cut 250 :  0.0 %\n",
      "Presision of the model prob_dt_15 with cut 250 :  3.2 %\n",
      "Presision of the model prob_rf_50 with cut 250 :  0.8 %\n",
      "Presision of the model prob_rf_30 with cut 250 :  0.8 %\n",
      "Presision of the model prob_rf_15 with cut 250 :  5.2 %\n",
      "Presision of the model prob_cb_15 with cut 250 :  4.8 %\n",
      "Presision of the model prob_dt_50 with cut 300 :  0.0 %\n",
      "Presision of the model prob_dt_30 with cut 300 :  0.0 %\n",
      "Presision of the model prob_dt_15 with cut 300 :  2.67 %\n",
      "Presision of the model prob_rf_50 with cut 300 :  0.67 %\n",
      "Presision of the model prob_rf_30 with cut 300 :  1.33 %\n",
      "Presision of the model prob_rf_15 with cut 300 :  4.67 %\n",
      "Presision of the model prob_cb_15 with cut 300 :  4.0 %\n",
      "Presision of the model prob_dt_50 with cut 350 :  0.0 %\n",
      "Presision of the model prob_dt_30 with cut 350 :  0.0 %\n",
      "Presision of the model prob_dt_15 with cut 350 :  2.29 %\n",
      "Presision of the model prob_rf_50 with cut 350 :  0.86 %\n",
      "Presision of the model prob_rf_30 with cut 350 :  1.43 %\n",
      "Presision of the model prob_rf_15 with cut 350 :  4.29 %\n",
      "Presision of the model prob_cb_15 with cut 350 :  3.43 %\n",
      "Presision of the model prob_dt_50 with cut 400 :  0.0 %\n",
      "Presision of the model prob_dt_30 with cut 400 :  0.0 %\n",
      "Presision of the model prob_dt_15 with cut 400 :  2.0 %\n",
      "Presision of the model prob_rf_50 with cut 400 :  0.75 %\n",
      "Presision of the model prob_rf_30 with cut 400 :  1.25 %\n",
      "Presision of the model prob_rf_15 with cut 400 :  3.75 %\n",
      "Presision of the model prob_cb_15 with cut 400 :  3.25 %\n",
      "Presision of the model prob_dt_50 with cut 450 :  0.0 %\n",
      "Presision of the model prob_dt_30 with cut 450 :  0.0 %\n",
      "Presision of the model prob_dt_15 with cut 450 :  2.22 %\n",
      "Presision of the model prob_rf_50 with cut 450 :  0.67 %\n",
      "Presision of the model prob_rf_30 with cut 450 :  1.78 %\n",
      "Presision of the model prob_rf_15 with cut 450 :  3.56 %\n",
      "Presision of the model prob_cb_15 with cut 450 :  3.33 %\n",
      "Presision of the model prob_dt_50 with cut 500 :  0.0 %\n",
      "Presision of the model prob_dt_30 with cut 500 :  0.0 %\n",
      "Presision of the model prob_dt_15 with cut 500 :  2.0 %\n",
      "Presision of the model prob_rf_50 with cut 500 :  0.6 %\n",
      "Presision of the model prob_rf_30 with cut 500 :  1.8 %\n",
      "Presision of the model prob_rf_15 with cut 500 :  3.6 %\n",
      "Presision of the model prob_cb_15 with cut 500 :  3.0 %\n"
     ]
    }
   ],
   "source": [
    "matrix=[]\n",
    "for c in cuts:\n",
    "    matrix.append(max_calls(c,models))"
   ]
  },
  {
   "cell_type": "code",
   "execution_count": 159,
   "metadata": {},
   "outputs": [
    {
     "data": {
      "text/plain": [
       "[[0.0, 0.0, 16.0, 0.0, 0.0, 18.0, 16.0],\n",
       " [0.0, 0.0, 8.0, 0.0, 0.0, 12.0, 10.0],\n",
       " [0.0, 0.0, 5.33, 0.67, 0.0, 8.0, 6.67],\n",
       " [0.0, 0.0, 4.0, 0.5, 0.5, 6.5, 5.0],\n",
       " [0.0, 0.0, 3.2, 0.8, 0.8, 5.2, 4.8],\n",
       " [0.0, 0.0, 2.67, 0.67, 1.33, 4.67, 4.0],\n",
       " [0.0, 0.0, 2.29, 0.86, 1.43, 4.29, 3.43],\n",
       " [0.0, 0.0, 2.0, 0.75, 1.25, 3.75, 3.25],\n",
       " [0.0, 0.0, 2.22, 0.67, 1.78, 3.56, 3.33],\n",
       " [0.0, 0.0, 2.0, 0.6, 1.8, 3.6, 3.0]]"
      ]
     },
     "execution_count": 159,
     "metadata": {},
     "output_type": "execute_result"
    }
   ],
   "source": [
    "matrix"
   ]
  },
  {
   "cell_type": "code",
   "execution_count": 160,
   "metadata": {},
   "outputs": [],
   "source": [
    "business=pd.DataFrame(matrix,index=cuts,columns=models)"
   ]
  },
  {
   "cell_type": "code",
   "execution_count": 161,
   "metadata": {},
   "outputs": [
    {
     "data": {
      "text/html": [
       "<div>\n",
       "<style scoped>\n",
       "    .dataframe tbody tr th:only-of-type {\n",
       "        vertical-align: middle;\n",
       "    }\n",
       "\n",
       "    .dataframe tbody tr th {\n",
       "        vertical-align: top;\n",
       "    }\n",
       "\n",
       "    .dataframe thead th {\n",
       "        text-align: right;\n",
       "    }\n",
       "</style>\n",
       "<table border=\"1\" class=\"dataframe\">\n",
       "  <thead>\n",
       "    <tr style=\"text-align: right;\">\n",
       "      <th></th>\n",
       "      <th>prob_dt_50</th>\n",
       "      <th>prob_dt_30</th>\n",
       "      <th>prob_dt_15</th>\n",
       "      <th>prob_rf_50</th>\n",
       "      <th>prob_rf_30</th>\n",
       "      <th>prob_rf_15</th>\n",
       "      <th>prob_cb_15</th>\n",
       "    </tr>\n",
       "  </thead>\n",
       "  <tbody>\n",
       "    <tr>\n",
       "      <th>50</th>\n",
       "      <td>0.0</td>\n",
       "      <td>0.0</td>\n",
       "      <td>16.00</td>\n",
       "      <td>0.00</td>\n",
       "      <td>0.00</td>\n",
       "      <td>18.00</td>\n",
       "      <td>16.00</td>\n",
       "    </tr>\n",
       "    <tr>\n",
       "      <th>100</th>\n",
       "      <td>0.0</td>\n",
       "      <td>0.0</td>\n",
       "      <td>8.00</td>\n",
       "      <td>0.00</td>\n",
       "      <td>0.00</td>\n",
       "      <td>12.00</td>\n",
       "      <td>10.00</td>\n",
       "    </tr>\n",
       "    <tr>\n",
       "      <th>150</th>\n",
       "      <td>0.0</td>\n",
       "      <td>0.0</td>\n",
       "      <td>5.33</td>\n",
       "      <td>0.67</td>\n",
       "      <td>0.00</td>\n",
       "      <td>8.00</td>\n",
       "      <td>6.67</td>\n",
       "    </tr>\n",
       "    <tr>\n",
       "      <th>200</th>\n",
       "      <td>0.0</td>\n",
       "      <td>0.0</td>\n",
       "      <td>4.00</td>\n",
       "      <td>0.50</td>\n",
       "      <td>0.50</td>\n",
       "      <td>6.50</td>\n",
       "      <td>5.00</td>\n",
       "    </tr>\n",
       "    <tr>\n",
       "      <th>250</th>\n",
       "      <td>0.0</td>\n",
       "      <td>0.0</td>\n",
       "      <td>3.20</td>\n",
       "      <td>0.80</td>\n",
       "      <td>0.80</td>\n",
       "      <td>5.20</td>\n",
       "      <td>4.80</td>\n",
       "    </tr>\n",
       "    <tr>\n",
       "      <th>300</th>\n",
       "      <td>0.0</td>\n",
       "      <td>0.0</td>\n",
       "      <td>2.67</td>\n",
       "      <td>0.67</td>\n",
       "      <td>1.33</td>\n",
       "      <td>4.67</td>\n",
       "      <td>4.00</td>\n",
       "    </tr>\n",
       "    <tr>\n",
       "      <th>350</th>\n",
       "      <td>0.0</td>\n",
       "      <td>0.0</td>\n",
       "      <td>2.29</td>\n",
       "      <td>0.86</td>\n",
       "      <td>1.43</td>\n",
       "      <td>4.29</td>\n",
       "      <td>3.43</td>\n",
       "    </tr>\n",
       "    <tr>\n",
       "      <th>400</th>\n",
       "      <td>0.0</td>\n",
       "      <td>0.0</td>\n",
       "      <td>2.00</td>\n",
       "      <td>0.75</td>\n",
       "      <td>1.25</td>\n",
       "      <td>3.75</td>\n",
       "      <td>3.25</td>\n",
       "    </tr>\n",
       "    <tr>\n",
       "      <th>450</th>\n",
       "      <td>0.0</td>\n",
       "      <td>0.0</td>\n",
       "      <td>2.22</td>\n",
       "      <td>0.67</td>\n",
       "      <td>1.78</td>\n",
       "      <td>3.56</td>\n",
       "      <td>3.33</td>\n",
       "    </tr>\n",
       "    <tr>\n",
       "      <th>500</th>\n",
       "      <td>0.0</td>\n",
       "      <td>0.0</td>\n",
       "      <td>2.00</td>\n",
       "      <td>0.60</td>\n",
       "      <td>1.80</td>\n",
       "      <td>3.60</td>\n",
       "      <td>3.00</td>\n",
       "    </tr>\n",
       "  </tbody>\n",
       "</table>\n",
       "</div>"
      ],
      "text/plain": [
       "     prob_dt_50  prob_dt_30  prob_dt_15  prob_rf_50  prob_rf_30  prob_rf_15  \\\n",
       "50          0.0         0.0       16.00        0.00        0.00       18.00   \n",
       "100         0.0         0.0        8.00        0.00        0.00       12.00   \n",
       "150         0.0         0.0        5.33        0.67        0.00        8.00   \n",
       "200         0.0         0.0        4.00        0.50        0.50        6.50   \n",
       "250         0.0         0.0        3.20        0.80        0.80        5.20   \n",
       "300         0.0         0.0        2.67        0.67        1.33        4.67   \n",
       "350         0.0         0.0        2.29        0.86        1.43        4.29   \n",
       "400         0.0         0.0        2.00        0.75        1.25        3.75   \n",
       "450         0.0         0.0        2.22        0.67        1.78        3.56   \n",
       "500         0.0         0.0        2.00        0.60        1.80        3.60   \n",
       "\n",
       "     prob_cb_15  \n",
       "50        16.00  \n",
       "100       10.00  \n",
       "150        6.67  \n",
       "200        5.00  \n",
       "250        4.80  \n",
       "300        4.00  \n",
       "350        3.43  \n",
       "400        3.25  \n",
       "450        3.33  \n",
       "500        3.00  "
      ]
     },
     "execution_count": 161,
     "metadata": {},
     "output_type": "execute_result"
    }
   ],
   "source": [
    "business"
   ]
  },
  {
   "cell_type": "code",
   "execution_count": 162,
   "metadata": {},
   "outputs": [
    {
     "data": {
      "image/png": "[encoded data removed]",
      "text/plain": [
       "<Figure size 1152x720 with 1 Axes>"
      ]
     },
     "metadata": {
      "needs_background": "light"
     },
     "output_type": "display_data"
    }
   ],
   "source": [
    "plt.figure(figsize=(16,10))\n",
    "x=cuts\n",
    "for col in business.columns:\n",
    "    y=business[col]\n",
    "    plt.plot(x,y,label=col)\n",
    "plt.title('Precision of the models', fontsize=18)\n",
    "plt.ylabel('Precision (%)')\n",
    "plt.xlabel('Number of calls per month')\n",
    "plt.xticks(cuts)\n",
    "plt.legend()\n",
    "plt.show()"
   ]
  },
  {
   "cell_type": "code",
   "execution_count": null,
   "metadata": {},
   "outputs": [],
   "source": []
  }
 ],
 "metadata": {
  "kernelspec": {
   "display_name": "Python 3",
   "language": "python",
   "name": "python3"
  },
  "language_info": {
   "codemirror_mode": {
    "name": "ipython",
    "version": 3
   },
   "file_extension": ".py",
   "mimetype": "text/x-python",
   "name": "python",
   "nbconvert_exporter": "python",
   "pygments_lexer": "ipython3",
   "version": "3.6.9"
  }
 },
 "nbformat": 4,
 "nbformat_minor": 4
}
